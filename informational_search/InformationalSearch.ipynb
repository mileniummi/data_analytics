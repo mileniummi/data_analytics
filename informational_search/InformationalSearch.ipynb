{
 "cells": [
  {
   "cell_type": "code",
   "execution_count": 95,
   "outputs": [],
   "source": [
    "import pandas as pd\n",
    "import string\n",
    "from nltk.tokenize import word_tokenize\n",
    "from nltk.corpus import stopwords\n",
    "from nltk.stem.wordnet import WordNetLemmatizer\n",
    "import sqlite3\n",
    "from tqdm import tqdm"
   ],
   "metadata": {
    "collapsed": false
   }
  },
  {
   "cell_type": "code",
   "execution_count": 41,
   "metadata": {
    "collapsed": true
   },
   "outputs": [
    {
     "data": {
      "text/plain": "     id                                              name  host_id  \\\n0  2539                Clean & quiet apt home by the park     2787   \n1  2595                             Skylit Midtown Castle     2845   \n2  3647               THE VILLAGE OF HARLEM....NEW YORK !     4632   \n3  3831                   Cozy Entire Floor of Brownstone     4869   \n4  5022  Entire Apt: Spacious Studio/Loft by central park     7192   \n\n     host_name neighbourhood_group neighbourhood  latitude  longitude  \\\n0         John            Brooklyn    Kensington  40.64749  -73.97237   \n1     Jennifer           Manhattan       Midtown  40.75362  -73.98377   \n2    Elisabeth           Manhattan        Harlem  40.80902  -73.94190   \n3  LisaRoxanne            Brooklyn  Clinton Hill  40.68514  -73.95976   \n4        Laura           Manhattan   East Harlem  40.79851  -73.94399   \n\n         room_type  price  minimum_nights  number_of_reviews last_review  \\\n0     Private room    149               1                  9  2018-10-19   \n1  Entire home/apt    225               1                 45  2019-05-21   \n2     Private room    150               3                  0         NaN   \n3  Entire home/apt     89               1                270  2019-07-05   \n4  Entire home/apt     80              10                  9  2018-11-19   \n\n   reviews_per_month  calculated_host_listings_count  availability_365  \n0               0.21                               6               365  \n1               0.38                               2               355  \n2                NaN                               1               365  \n3               4.64                               1               194  \n4               0.10                               1                 0  ",
      "text/html": "<div>\n<style scoped>\n    .dataframe tbody tr th:only-of-type {\n        vertical-align: middle;\n    }\n\n    .dataframe tbody tr th {\n        vertical-align: top;\n    }\n\n    .dataframe thead th {\n        text-align: right;\n    }\n</style>\n<table border=\"1\" class=\"dataframe\">\n  <thead>\n    <tr style=\"text-align: right;\">\n      <th></th>\n      <th>id</th>\n      <th>name</th>\n      <th>host_id</th>\n      <th>host_name</th>\n      <th>neighbourhood_group</th>\n      <th>neighbourhood</th>\n      <th>latitude</th>\n      <th>longitude</th>\n      <th>room_type</th>\n      <th>price</th>\n      <th>minimum_nights</th>\n      <th>number_of_reviews</th>\n      <th>last_review</th>\n      <th>reviews_per_month</th>\n      <th>calculated_host_listings_count</th>\n      <th>availability_365</th>\n    </tr>\n  </thead>\n  <tbody>\n    <tr>\n      <th>0</th>\n      <td>2539</td>\n      <td>Clean &amp; quiet apt home by the park</td>\n      <td>2787</td>\n      <td>John</td>\n      <td>Brooklyn</td>\n      <td>Kensington</td>\n      <td>40.64749</td>\n      <td>-73.97237</td>\n      <td>Private room</td>\n      <td>149</td>\n      <td>1</td>\n      <td>9</td>\n      <td>2018-10-19</td>\n      <td>0.21</td>\n      <td>6</td>\n      <td>365</td>\n    </tr>\n    <tr>\n      <th>1</th>\n      <td>2595</td>\n      <td>Skylit Midtown Castle</td>\n      <td>2845</td>\n      <td>Jennifer</td>\n      <td>Manhattan</td>\n      <td>Midtown</td>\n      <td>40.75362</td>\n      <td>-73.98377</td>\n      <td>Entire home/apt</td>\n      <td>225</td>\n      <td>1</td>\n      <td>45</td>\n      <td>2019-05-21</td>\n      <td>0.38</td>\n      <td>2</td>\n      <td>355</td>\n    </tr>\n    <tr>\n      <th>2</th>\n      <td>3647</td>\n      <td>THE VILLAGE OF HARLEM....NEW YORK !</td>\n      <td>4632</td>\n      <td>Elisabeth</td>\n      <td>Manhattan</td>\n      <td>Harlem</td>\n      <td>40.80902</td>\n      <td>-73.94190</td>\n      <td>Private room</td>\n      <td>150</td>\n      <td>3</td>\n      <td>0</td>\n      <td>NaN</td>\n      <td>NaN</td>\n      <td>1</td>\n      <td>365</td>\n    </tr>\n    <tr>\n      <th>3</th>\n      <td>3831</td>\n      <td>Cozy Entire Floor of Brownstone</td>\n      <td>4869</td>\n      <td>LisaRoxanne</td>\n      <td>Brooklyn</td>\n      <td>Clinton Hill</td>\n      <td>40.68514</td>\n      <td>-73.95976</td>\n      <td>Entire home/apt</td>\n      <td>89</td>\n      <td>1</td>\n      <td>270</td>\n      <td>2019-07-05</td>\n      <td>4.64</td>\n      <td>1</td>\n      <td>194</td>\n    </tr>\n    <tr>\n      <th>4</th>\n      <td>5022</td>\n      <td>Entire Apt: Spacious Studio/Loft by central park</td>\n      <td>7192</td>\n      <td>Laura</td>\n      <td>Manhattan</td>\n      <td>East Harlem</td>\n      <td>40.79851</td>\n      <td>-73.94399</td>\n      <td>Entire home/apt</td>\n      <td>80</td>\n      <td>10</td>\n      <td>9</td>\n      <td>2018-11-19</td>\n      <td>0.10</td>\n      <td>1</td>\n      <td>0</td>\n    </tr>\n  </tbody>\n</table>\n</div>"
     },
     "execution_count": 41,
     "metadata": {},
     "output_type": "execute_result"
    }
   ],
   "source": [
    "data = pd.read_csv(\"./AB_NYC_2019.csv\")\n",
    "\n",
    "data.head()"
   ]
  },
  {
   "cell_type": "code",
   "execution_count": 42,
   "outputs": [
    {
     "name": "stdout",
     "output_type": "stream",
     "text": [
      "<class 'pandas.core.frame.DataFrame'>\n",
      "RangeIndex: 48895 entries, 0 to 48894\n",
      "Data columns (total 16 columns):\n",
      " #   Column                          Non-Null Count  Dtype  \n",
      "---  ------                          --------------  -----  \n",
      " 0   id                              48895 non-null  int64  \n",
      " 1   name                            48879 non-null  object \n",
      " 2   host_id                         48895 non-null  int64  \n",
      " 3   host_name                       48874 non-null  object \n",
      " 4   neighbourhood_group             48895 non-null  object \n",
      " 5   neighbourhood                   48895 non-null  object \n",
      " 6   latitude                        48895 non-null  float64\n",
      " 7   longitude                       48895 non-null  float64\n",
      " 8   room_type                       48895 non-null  object \n",
      " 9   price                           48895 non-null  int64  \n",
      " 10  minimum_nights                  48895 non-null  int64  \n",
      " 11  number_of_reviews               48895 non-null  int64  \n",
      " 12  last_review                     38843 non-null  object \n",
      " 13  reviews_per_month               38843 non-null  float64\n",
      " 14  calculated_host_listings_count  48895 non-null  int64  \n",
      " 15  availability_365                48895 non-null  int64  \n",
      "dtypes: float64(3), int64(7), object(6)\n",
      "memory usage: 6.0+ MB\n"
     ]
    },
    {
     "data": {
      "text/plain": "None"
     },
     "metadata": {},
     "output_type": "display_data"
    }
   ],
   "source": [
    "display(data.info())"
   ],
   "metadata": {
    "collapsed": false
   }
  },
  {
   "cell_type": "markdown",
   "source": [
    "## Предобработка текста"
   ],
   "metadata": {
    "collapsed": false
   }
  },
  {
   "cell_type": "markdown",
   "source": [
    "#### Убрем строки с пустым названием"
   ],
   "metadata": {
    "collapsed": false
   }
  },
  {
   "cell_type": "code",
   "execution_count": 43,
   "outputs": [],
   "source": [
    "data = data.loc[data['name'].notnull()]"
   ],
   "metadata": {
    "collapsed": false
   }
  },
  {
   "cell_type": "code",
   "execution_count": 44,
   "outputs": [
    {
     "data": {
      "text/plain": "     id                                            name  host_id    host_name  \\\n0  2539               clean  quiet apt home by the park     2787         John   \n1  2595                           skylit midtown castle     2845     Jennifer   \n2  3647                  the village of harlemnew york      4632    Elisabeth   \n3  3831                 cozy entire floor of brownstone     4869  LisaRoxanne   \n4  5022  entire apt spacious studioloft by central park     7192        Laura   \n\n  neighbourhood_group neighbourhood  latitude  longitude        room_type  \\\n0            Brooklyn    Kensington  40.64749  -73.97237     Private room   \n1           Manhattan       Midtown  40.75362  -73.98377  Entire home/apt   \n2           Manhattan        Harlem  40.80902  -73.94190     Private room   \n3            Brooklyn  Clinton Hill  40.68514  -73.95976  Entire home/apt   \n4           Manhattan   East Harlem  40.79851  -73.94399  Entire home/apt   \n\n   price  minimum_nights  number_of_reviews last_review  reviews_per_month  \\\n0    149               1                  9  2018-10-19               0.21   \n1    225               1                 45  2019-05-21               0.38   \n2    150               3                  0         NaN                NaN   \n3     89               1                270  2019-07-05               4.64   \n4     80              10                  9  2018-11-19               0.10   \n\n   calculated_host_listings_count  availability_365  \n0                               6               365  \n1                               2               355  \n2                               1               365  \n3                               1               194  \n4                               1                 0  ",
      "text/html": "<div>\n<style scoped>\n    .dataframe tbody tr th:only-of-type {\n        vertical-align: middle;\n    }\n\n    .dataframe tbody tr th {\n        vertical-align: top;\n    }\n\n    .dataframe thead th {\n        text-align: right;\n    }\n</style>\n<table border=\"1\" class=\"dataframe\">\n  <thead>\n    <tr style=\"text-align: right;\">\n      <th></th>\n      <th>id</th>\n      <th>name</th>\n      <th>host_id</th>\n      <th>host_name</th>\n      <th>neighbourhood_group</th>\n      <th>neighbourhood</th>\n      <th>latitude</th>\n      <th>longitude</th>\n      <th>room_type</th>\n      <th>price</th>\n      <th>minimum_nights</th>\n      <th>number_of_reviews</th>\n      <th>last_review</th>\n      <th>reviews_per_month</th>\n      <th>calculated_host_listings_count</th>\n      <th>availability_365</th>\n    </tr>\n  </thead>\n  <tbody>\n    <tr>\n      <th>0</th>\n      <td>2539</td>\n      <td>clean  quiet apt home by the park</td>\n      <td>2787</td>\n      <td>John</td>\n      <td>Brooklyn</td>\n      <td>Kensington</td>\n      <td>40.64749</td>\n      <td>-73.97237</td>\n      <td>Private room</td>\n      <td>149</td>\n      <td>1</td>\n      <td>9</td>\n      <td>2018-10-19</td>\n      <td>0.21</td>\n      <td>6</td>\n      <td>365</td>\n    </tr>\n    <tr>\n      <th>1</th>\n      <td>2595</td>\n      <td>skylit midtown castle</td>\n      <td>2845</td>\n      <td>Jennifer</td>\n      <td>Manhattan</td>\n      <td>Midtown</td>\n      <td>40.75362</td>\n      <td>-73.98377</td>\n      <td>Entire home/apt</td>\n      <td>225</td>\n      <td>1</td>\n      <td>45</td>\n      <td>2019-05-21</td>\n      <td>0.38</td>\n      <td>2</td>\n      <td>355</td>\n    </tr>\n    <tr>\n      <th>2</th>\n      <td>3647</td>\n      <td>the village of harlemnew york</td>\n      <td>4632</td>\n      <td>Elisabeth</td>\n      <td>Manhattan</td>\n      <td>Harlem</td>\n      <td>40.80902</td>\n      <td>-73.94190</td>\n      <td>Private room</td>\n      <td>150</td>\n      <td>3</td>\n      <td>0</td>\n      <td>NaN</td>\n      <td>NaN</td>\n      <td>1</td>\n      <td>365</td>\n    </tr>\n    <tr>\n      <th>3</th>\n      <td>3831</td>\n      <td>cozy entire floor of brownstone</td>\n      <td>4869</td>\n      <td>LisaRoxanne</td>\n      <td>Brooklyn</td>\n      <td>Clinton Hill</td>\n      <td>40.68514</td>\n      <td>-73.95976</td>\n      <td>Entire home/apt</td>\n      <td>89</td>\n      <td>1</td>\n      <td>270</td>\n      <td>2019-07-05</td>\n      <td>4.64</td>\n      <td>1</td>\n      <td>194</td>\n    </tr>\n    <tr>\n      <th>4</th>\n      <td>5022</td>\n      <td>entire apt spacious studioloft by central park</td>\n      <td>7192</td>\n      <td>Laura</td>\n      <td>Manhattan</td>\n      <td>East Harlem</td>\n      <td>40.79851</td>\n      <td>-73.94399</td>\n      <td>Entire home/apt</td>\n      <td>80</td>\n      <td>10</td>\n      <td>9</td>\n      <td>2018-11-19</td>\n      <td>0.10</td>\n      <td>1</td>\n      <td>0</td>\n    </tr>\n  </tbody>\n</table>\n</div>"
     },
     "metadata": {},
     "output_type": "display_data"
    }
   ],
   "source": [
    "def remove_punctuation(sentence):\n",
    "    for ch in string.punctuation:\n",
    "        sentence = sentence.replace(ch,\"\")\n",
    "    return sentence.lower()\n",
    "data['name'] = data.apply(lambda row: remove_punctuation(row['name']), axis=1)\n",
    "display(data.head(5))"
   ],
   "metadata": {
    "collapsed": false
   }
  },
  {
   "cell_type": "code",
   "execution_count": 45,
   "outputs": [
    {
     "data": {
      "text/plain": "     id                                               name  host_id  \\\n0  2539           [clean, quiet, apt, home, by, the, park]     2787   \n1  2595                          [skylit, midtown, castle]     2845   \n2  3647                [the, village, of, harlemnew, york]     4632   \n3  3831              [cozy, entire, floor, of, brownstone]     4869   \n4  5022  [entire, apt, spacious, studioloft, by, centra...     7192   \n\n     host_name neighbourhood_group neighbourhood  latitude  longitude  \\\n0         John            Brooklyn    Kensington  40.64749  -73.97237   \n1     Jennifer           Manhattan       Midtown  40.75362  -73.98377   \n2    Elisabeth           Manhattan        Harlem  40.80902  -73.94190   \n3  LisaRoxanne            Brooklyn  Clinton Hill  40.68514  -73.95976   \n4        Laura           Manhattan   East Harlem  40.79851  -73.94399   \n\n         room_type  price  minimum_nights  number_of_reviews last_review  \\\n0     Private room    149               1                  9  2018-10-19   \n1  Entire home/apt    225               1                 45  2019-05-21   \n2     Private room    150               3                  0         NaN   \n3  Entire home/apt     89               1                270  2019-07-05   \n4  Entire home/apt     80              10                  9  2018-11-19   \n\n   reviews_per_month  calculated_host_listings_count  availability_365  \n0               0.21                               6               365  \n1               0.38                               2               355  \n2                NaN                               1               365  \n3               4.64                               1               194  \n4               0.10                               1                 0  ",
      "text/html": "<div>\n<style scoped>\n    .dataframe tbody tr th:only-of-type {\n        vertical-align: middle;\n    }\n\n    .dataframe tbody tr th {\n        vertical-align: top;\n    }\n\n    .dataframe thead th {\n        text-align: right;\n    }\n</style>\n<table border=\"1\" class=\"dataframe\">\n  <thead>\n    <tr style=\"text-align: right;\">\n      <th></th>\n      <th>id</th>\n      <th>name</th>\n      <th>host_id</th>\n      <th>host_name</th>\n      <th>neighbourhood_group</th>\n      <th>neighbourhood</th>\n      <th>latitude</th>\n      <th>longitude</th>\n      <th>room_type</th>\n      <th>price</th>\n      <th>minimum_nights</th>\n      <th>number_of_reviews</th>\n      <th>last_review</th>\n      <th>reviews_per_month</th>\n      <th>calculated_host_listings_count</th>\n      <th>availability_365</th>\n    </tr>\n  </thead>\n  <tbody>\n    <tr>\n      <th>0</th>\n      <td>2539</td>\n      <td>[clean, quiet, apt, home, by, the, park]</td>\n      <td>2787</td>\n      <td>John</td>\n      <td>Brooklyn</td>\n      <td>Kensington</td>\n      <td>40.64749</td>\n      <td>-73.97237</td>\n      <td>Private room</td>\n      <td>149</td>\n      <td>1</td>\n      <td>9</td>\n      <td>2018-10-19</td>\n      <td>0.21</td>\n      <td>6</td>\n      <td>365</td>\n    </tr>\n    <tr>\n      <th>1</th>\n      <td>2595</td>\n      <td>[skylit, midtown, castle]</td>\n      <td>2845</td>\n      <td>Jennifer</td>\n      <td>Manhattan</td>\n      <td>Midtown</td>\n      <td>40.75362</td>\n      <td>-73.98377</td>\n      <td>Entire home/apt</td>\n      <td>225</td>\n      <td>1</td>\n      <td>45</td>\n      <td>2019-05-21</td>\n      <td>0.38</td>\n      <td>2</td>\n      <td>355</td>\n    </tr>\n    <tr>\n      <th>2</th>\n      <td>3647</td>\n      <td>[the, village, of, harlemnew, york]</td>\n      <td>4632</td>\n      <td>Elisabeth</td>\n      <td>Manhattan</td>\n      <td>Harlem</td>\n      <td>40.80902</td>\n      <td>-73.94190</td>\n      <td>Private room</td>\n      <td>150</td>\n      <td>3</td>\n      <td>0</td>\n      <td>NaN</td>\n      <td>NaN</td>\n      <td>1</td>\n      <td>365</td>\n    </tr>\n    <tr>\n      <th>3</th>\n      <td>3831</td>\n      <td>[cozy, entire, floor, of, brownstone]</td>\n      <td>4869</td>\n      <td>LisaRoxanne</td>\n      <td>Brooklyn</td>\n      <td>Clinton Hill</td>\n      <td>40.68514</td>\n      <td>-73.95976</td>\n      <td>Entire home/apt</td>\n      <td>89</td>\n      <td>1</td>\n      <td>270</td>\n      <td>2019-07-05</td>\n      <td>4.64</td>\n      <td>1</td>\n      <td>194</td>\n    </tr>\n    <tr>\n      <th>4</th>\n      <td>5022</td>\n      <td>[entire, apt, spacious, studioloft, by, centra...</td>\n      <td>7192</td>\n      <td>Laura</td>\n      <td>Manhattan</td>\n      <td>East Harlem</td>\n      <td>40.79851</td>\n      <td>-73.94399</td>\n      <td>Entire home/apt</td>\n      <td>80</td>\n      <td>10</td>\n      <td>9</td>\n      <td>2018-11-19</td>\n      <td>0.10</td>\n      <td>1</td>\n      <td>0</td>\n    </tr>\n  </tbody>\n</table>\n</div>"
     },
     "metadata": {},
     "output_type": "display_data"
    }
   ],
   "source": [
    "data['name'] = data.apply(lambda row: word_tokenize(row['name'], language='english'), axis=1)\n",
    "display(data.head(5))"
   ],
   "metadata": {
    "collapsed": false
   }
  },
  {
   "cell_type": "code",
   "execution_count": 46,
   "outputs": [
    {
     "data": {
      "text/plain": "     id                                               name  host_id  \\\n0  2539                    [clean, quiet, apt, home, park]     2787   \n1  2595                          [skylit, midtown, castle]     2845   \n2  3647                         [village, harlemnew, york]     4632   \n3  3831                  [cozy, entire, floor, brownstone]     4869   \n4  5022  [entire, apt, spacious, studioloft, central, p...     7192   \n\n     host_name neighbourhood_group neighbourhood  latitude  longitude  \\\n0         John            Brooklyn    Kensington  40.64749  -73.97237   \n1     Jennifer           Manhattan       Midtown  40.75362  -73.98377   \n2    Elisabeth           Manhattan        Harlem  40.80902  -73.94190   \n3  LisaRoxanne            Brooklyn  Clinton Hill  40.68514  -73.95976   \n4        Laura           Manhattan   East Harlem  40.79851  -73.94399   \n\n         room_type  price  minimum_nights  number_of_reviews last_review  \\\n0     Private room    149               1                  9  2018-10-19   \n1  Entire home/apt    225               1                 45  2019-05-21   \n2     Private room    150               3                  0         NaN   \n3  Entire home/apt     89               1                270  2019-07-05   \n4  Entire home/apt     80              10                  9  2018-11-19   \n\n   reviews_per_month  calculated_host_listings_count  availability_365  \n0               0.21                               6               365  \n1               0.38                               2               355  \n2                NaN                               1               365  \n3               4.64                               1               194  \n4               0.10                               1                 0  ",
      "text/html": "<div>\n<style scoped>\n    .dataframe tbody tr th:only-of-type {\n        vertical-align: middle;\n    }\n\n    .dataframe tbody tr th {\n        vertical-align: top;\n    }\n\n    .dataframe thead th {\n        text-align: right;\n    }\n</style>\n<table border=\"1\" class=\"dataframe\">\n  <thead>\n    <tr style=\"text-align: right;\">\n      <th></th>\n      <th>id</th>\n      <th>name</th>\n      <th>host_id</th>\n      <th>host_name</th>\n      <th>neighbourhood_group</th>\n      <th>neighbourhood</th>\n      <th>latitude</th>\n      <th>longitude</th>\n      <th>room_type</th>\n      <th>price</th>\n      <th>minimum_nights</th>\n      <th>number_of_reviews</th>\n      <th>last_review</th>\n      <th>reviews_per_month</th>\n      <th>calculated_host_listings_count</th>\n      <th>availability_365</th>\n    </tr>\n  </thead>\n  <tbody>\n    <tr>\n      <th>0</th>\n      <td>2539</td>\n      <td>[clean, quiet, apt, home, park]</td>\n      <td>2787</td>\n      <td>John</td>\n      <td>Brooklyn</td>\n      <td>Kensington</td>\n      <td>40.64749</td>\n      <td>-73.97237</td>\n      <td>Private room</td>\n      <td>149</td>\n      <td>1</td>\n      <td>9</td>\n      <td>2018-10-19</td>\n      <td>0.21</td>\n      <td>6</td>\n      <td>365</td>\n    </tr>\n    <tr>\n      <th>1</th>\n      <td>2595</td>\n      <td>[skylit, midtown, castle]</td>\n      <td>2845</td>\n      <td>Jennifer</td>\n      <td>Manhattan</td>\n      <td>Midtown</td>\n      <td>40.75362</td>\n      <td>-73.98377</td>\n      <td>Entire home/apt</td>\n      <td>225</td>\n      <td>1</td>\n      <td>45</td>\n      <td>2019-05-21</td>\n      <td>0.38</td>\n      <td>2</td>\n      <td>355</td>\n    </tr>\n    <tr>\n      <th>2</th>\n      <td>3647</td>\n      <td>[village, harlemnew, york]</td>\n      <td>4632</td>\n      <td>Elisabeth</td>\n      <td>Manhattan</td>\n      <td>Harlem</td>\n      <td>40.80902</td>\n      <td>-73.94190</td>\n      <td>Private room</td>\n      <td>150</td>\n      <td>3</td>\n      <td>0</td>\n      <td>NaN</td>\n      <td>NaN</td>\n      <td>1</td>\n      <td>365</td>\n    </tr>\n    <tr>\n      <th>3</th>\n      <td>3831</td>\n      <td>[cozy, entire, floor, brownstone]</td>\n      <td>4869</td>\n      <td>LisaRoxanne</td>\n      <td>Brooklyn</td>\n      <td>Clinton Hill</td>\n      <td>40.68514</td>\n      <td>-73.95976</td>\n      <td>Entire home/apt</td>\n      <td>89</td>\n      <td>1</td>\n      <td>270</td>\n      <td>2019-07-05</td>\n      <td>4.64</td>\n      <td>1</td>\n      <td>194</td>\n    </tr>\n    <tr>\n      <th>4</th>\n      <td>5022</td>\n      <td>[entire, apt, spacious, studioloft, central, p...</td>\n      <td>7192</td>\n      <td>Laura</td>\n      <td>Manhattan</td>\n      <td>East Harlem</td>\n      <td>40.79851</td>\n      <td>-73.94399</td>\n      <td>Entire home/apt</td>\n      <td>80</td>\n      <td>10</td>\n      <td>9</td>\n      <td>2018-11-19</td>\n      <td>0.10</td>\n      <td>1</td>\n      <td>0</td>\n    </tr>\n  </tbody>\n</table>\n</div>"
     },
     "metadata": {},
     "output_type": "display_data"
    }
   ],
   "source": [
    "stop_words = stopwords.words('english')\n",
    "def remove_stop_words(sentence):\n",
    "    return [w for w in sentence if not w in stop_words]\n",
    "\n",
    "data['name'] = data.apply(lambda row: remove_stop_words(row['name']), axis=1)\n",
    "display(data.head(5))"
   ],
   "metadata": {
    "collapsed": false
   }
  },
  {
   "cell_type": "code",
   "execution_count": 47,
   "outputs": [
    {
     "data": {
      "text/plain": "     id                                               name  host_id  \\\n0  2539                    [clean, quiet, apt, home, park]     2787   \n1  2595                          [skylit, midtown, castle]     2845   \n2  3647                         [village, harlemnew, york]     4632   \n3  3831                  [cozy, entire, floor, brownstone]     4869   \n4  5022  [entire, apt, spacious, studioloft, central, p...     7192   \n\n     host_name neighbourhood_group neighbourhood  latitude  longitude  \\\n0         John            Brooklyn    Kensington  40.64749  -73.97237   \n1     Jennifer           Manhattan       Midtown  40.75362  -73.98377   \n2    Elisabeth           Manhattan        Harlem  40.80902  -73.94190   \n3  LisaRoxanne            Brooklyn  Clinton Hill  40.68514  -73.95976   \n4        Laura           Manhattan   East Harlem  40.79851  -73.94399   \n\n         room_type  price  minimum_nights  number_of_reviews last_review  \\\n0     Private room    149               1                  9  2018-10-19   \n1  Entire home/apt    225               1                 45  2019-05-21   \n2     Private room    150               3                  0         NaN   \n3  Entire home/apt     89               1                270  2019-07-05   \n4  Entire home/apt     80              10                  9  2018-11-19   \n\n   reviews_per_month  calculated_host_listings_count  availability_365  \n0               0.21                               6               365  \n1               0.38                               2               355  \n2                NaN                               1               365  \n3               4.64                               1               194  \n4               0.10                               1                 0  ",
      "text/html": "<div>\n<style scoped>\n    .dataframe tbody tr th:only-of-type {\n        vertical-align: middle;\n    }\n\n    .dataframe tbody tr th {\n        vertical-align: top;\n    }\n\n    .dataframe thead th {\n        text-align: right;\n    }\n</style>\n<table border=\"1\" class=\"dataframe\">\n  <thead>\n    <tr style=\"text-align: right;\">\n      <th></th>\n      <th>id</th>\n      <th>name</th>\n      <th>host_id</th>\n      <th>host_name</th>\n      <th>neighbourhood_group</th>\n      <th>neighbourhood</th>\n      <th>latitude</th>\n      <th>longitude</th>\n      <th>room_type</th>\n      <th>price</th>\n      <th>minimum_nights</th>\n      <th>number_of_reviews</th>\n      <th>last_review</th>\n      <th>reviews_per_month</th>\n      <th>calculated_host_listings_count</th>\n      <th>availability_365</th>\n    </tr>\n  </thead>\n  <tbody>\n    <tr>\n      <th>0</th>\n      <td>2539</td>\n      <td>[clean, quiet, apt, home, park]</td>\n      <td>2787</td>\n      <td>John</td>\n      <td>Brooklyn</td>\n      <td>Kensington</td>\n      <td>40.64749</td>\n      <td>-73.97237</td>\n      <td>Private room</td>\n      <td>149</td>\n      <td>1</td>\n      <td>9</td>\n      <td>2018-10-19</td>\n      <td>0.21</td>\n      <td>6</td>\n      <td>365</td>\n    </tr>\n    <tr>\n      <th>1</th>\n      <td>2595</td>\n      <td>[skylit, midtown, castle]</td>\n      <td>2845</td>\n      <td>Jennifer</td>\n      <td>Manhattan</td>\n      <td>Midtown</td>\n      <td>40.75362</td>\n      <td>-73.98377</td>\n      <td>Entire home/apt</td>\n      <td>225</td>\n      <td>1</td>\n      <td>45</td>\n      <td>2019-05-21</td>\n      <td>0.38</td>\n      <td>2</td>\n      <td>355</td>\n    </tr>\n    <tr>\n      <th>2</th>\n      <td>3647</td>\n      <td>[village, harlemnew, york]</td>\n      <td>4632</td>\n      <td>Elisabeth</td>\n      <td>Manhattan</td>\n      <td>Harlem</td>\n      <td>40.80902</td>\n      <td>-73.94190</td>\n      <td>Private room</td>\n      <td>150</td>\n      <td>3</td>\n      <td>0</td>\n      <td>NaN</td>\n      <td>NaN</td>\n      <td>1</td>\n      <td>365</td>\n    </tr>\n    <tr>\n      <th>3</th>\n      <td>3831</td>\n      <td>[cozy, entire, floor, brownstone]</td>\n      <td>4869</td>\n      <td>LisaRoxanne</td>\n      <td>Brooklyn</td>\n      <td>Clinton Hill</td>\n      <td>40.68514</td>\n      <td>-73.95976</td>\n      <td>Entire home/apt</td>\n      <td>89</td>\n      <td>1</td>\n      <td>270</td>\n      <td>2019-07-05</td>\n      <td>4.64</td>\n      <td>1</td>\n      <td>194</td>\n    </tr>\n    <tr>\n      <th>4</th>\n      <td>5022</td>\n      <td>[entire, apt, spacious, studioloft, central, p...</td>\n      <td>7192</td>\n      <td>Laura</td>\n      <td>Manhattan</td>\n      <td>East Harlem</td>\n      <td>40.79851</td>\n      <td>-73.94399</td>\n      <td>Entire home/apt</td>\n      <td>80</td>\n      <td>10</td>\n      <td>9</td>\n      <td>2018-11-19</td>\n      <td>0.10</td>\n      <td>1</td>\n      <td>0</td>\n    </tr>\n  </tbody>\n</table>\n</div>"
     },
     "metadata": {},
     "output_type": "display_data"
    }
   ],
   "source": [
    "lemmatizer = WordNetLemmatizer()\n",
    "data['name'] = data.apply(lambda row: [lemmatizer.lemmatize(word) for word in row['name']], axis=1)\n",
    "display(data.head(5))"
   ],
   "metadata": {
    "collapsed": false
   }
  },
  {
   "cell_type": "markdown",
   "source": [
    "## Информационный поиск"
   ],
   "metadata": {
    "collapsed": false
   }
  },
  {
   "cell_type": "code",
   "execution_count": 48,
   "outputs": [],
   "source": [
    "con = sqlite3.connect('search_index.db')"
   ],
   "metadata": {
    "collapsed": false
   }
  },
  {
   "cell_type": "code",
   "execution_count": 49,
   "outputs": [
    {
     "ename": "OperationalError",
     "evalue": "table wordlist already exists",
     "output_type": "error",
     "traceback": [
      "\u001B[1;31m---------------------------------------------------------------------------\u001B[0m",
      "\u001B[1;31mOperationalError\u001B[0m                          Traceback (most recent call last)",
      "\u001B[1;32m~\\AppData\\Local\\Temp\\ipykernel_17356\\2580562128.py\u001B[0m in \u001B[0;36m<cell line: 1>\u001B[1;34m()\u001B[0m\n\u001B[1;32m----> 1\u001B[1;33m \u001B[0mcon\u001B[0m\u001B[1;33m.\u001B[0m\u001B[0mexecute\u001B[0m\u001B[1;33m(\u001B[0m\u001B[1;34m'create table wordlist(word)'\u001B[0m\u001B[1;33m)\u001B[0m\u001B[1;33m\u001B[0m\u001B[1;33m\u001B[0m\u001B[0m\n\u001B[0m\u001B[0;32m      2\u001B[0m \u001B[0mcon\u001B[0m\u001B[1;33m.\u001B[0m\u001B[0mexecute\u001B[0m\u001B[1;33m(\u001B[0m\u001B[1;34m'create table wordlocation(urlid,wordid,location)'\u001B[0m\u001B[1;33m)\u001B[0m\u001B[1;33m\u001B[0m\u001B[1;33m\u001B[0m\u001B[0m\n\u001B[0;32m      3\u001B[0m \u001B[0mcon\u001B[0m\u001B[1;33m.\u001B[0m\u001B[0mexecute\u001B[0m\u001B[1;33m(\u001B[0m\u001B[1;34m'create index wordidx on wordlist(word)'\u001B[0m\u001B[1;33m)\u001B[0m\u001B[1;33m\u001B[0m\u001B[1;33m\u001B[0m\u001B[0m\n\u001B[0;32m      4\u001B[0m \u001B[0mcon\u001B[0m\u001B[1;33m.\u001B[0m\u001B[0mcommit\u001B[0m\u001B[1;33m(\u001B[0m\u001B[1;33m)\u001B[0m\u001B[1;33m\u001B[0m\u001B[1;33m\u001B[0m\u001B[0m\n",
      "\u001B[1;31mOperationalError\u001B[0m: table wordlist already exists"
     ]
    }
   ],
   "source": [
    "con.execute('create table wordlist(word)')\n",
    "con.execute('create table wordlocation(urlid,wordid,location)')\n",
    "con.execute('create index wordidx on wordlist(word)')\n",
    "con.commit()"
   ],
   "metadata": {
    "collapsed": false
   }
  },
  {
   "cell_type": "code",
   "execution_count": 50,
   "outputs": [],
   "source": [
    "def entry(table, field, value):\n",
    "    cur = con.execute(\"select rowid from %s where %s='%s'\" % (table, field, value))\n",
    "    res = cur.fetchone()\n",
    "    if res is None:\n",
    "        cur = con.execute(\"insert into %s (%s) values ('%s')\" % (table, field, value))\n",
    "        return cur.lastrowid\n",
    "    else:\n",
    "        return res[0]"
   ],
   "metadata": {
    "collapsed": false
   }
  },
  {
   "cell_type": "code",
   "execution_count": 51,
   "outputs": [],
   "source": [
    "# Добавляем в индекс\n",
    "for _, apartment in data.iterrows():\n",
    "    for i, word in enumerate(apartment['name']):\n",
    "        theWord = entry('wordlist', 'word', word)\n",
    "        con.execute(\"insert into wordlocation(urlid,wordid,location) values (%d,%d,%d)\" % (apartment['id'], theWord, i))"
   ],
   "metadata": {
    "collapsed": false
   }
  },
  {
   "cell_type": "code",
   "execution_count": 76,
   "outputs": [],
   "source": [
    "def get_match_rows(q):\n",
    "    # заведём строки для дальнейшего формирования запроса\n",
    "    fieldlist='w0.urlid'\n",
    "    tablelist=''\n",
    "    clauselist=''\n",
    "\n",
    "    wordids=[]\n",
    "\n",
    "    # разобъём запрос на отдельные слова\n",
    "    words=[lemmatizer.lemmatize(w) for w in q.lower().split()]\n",
    "    tablenumber=0\n",
    "\n",
    "    for word in words:\n",
    "        # получим ID слова из запроса\n",
    "        wordrow=con.execute(\"select rowid from wordlist where word='%s'\" % word).fetchone()\n",
    "        if wordrow!=None:\n",
    "            wordid=wordrow[0]\n",
    "            wordids.append(wordid)\n",
    "\n",
    "            if tablenumber>0: # это для случаев, когда в запросе более одного слова\n",
    "                tablelist+=','\n",
    "                clauselist+=' and '\n",
    "                clauselist+='w%d.urlid=w%d.urlid and ' % (tablenumber-1,tablenumber)\n",
    "\n",
    "            fieldlist+=',w%d.location' % tablenumber\n",
    "            tablelist+='wordlocation w%d' % tablenumber\n",
    "            clauselist+='w%d.wordid=%d' % (tablenumber,wordid)\n",
    "            tablenumber+=1\n",
    "\n",
    "    # сформировать запрос в базу\n",
    "    fullquery='select %s from %s where %s' % (fieldlist,tablelist,clauselist)\n",
    "    cur=con.execute(fullquery)\n",
    "    rows=[row for row in cur]\n",
    "\n",
    "    return rows,wordids"
   ],
   "metadata": {
    "collapsed": false
   }
  },
  {
   "cell_type": "code",
   "execution_count": 77,
   "outputs": [
    {
     "data": {
      "text/plain": "([(94035, 3, 4),\n  (100002, 3, 4),\n  (106363, 0, 1),\n  (458377, 0, 4),\n  (565814, 0, 2),\n  (622410, 3, 1),\n  (637228, 1, 2),\n  (794496, 0, 2),\n  (823631, 0, 3),\n  (848707, 0, 1),\n  (924658, 0, 2),\n  (940116, 0, 1),\n  (1089619, 0, 2),\n  (1123737, 1, 4),\n  (1150398, 0, 1),\n  (1180157, 2, 1),\n  (1349237, 0, 3),\n  (1391024, 0, 2),\n  (1794250, 1, 3),\n  (2106706, 1, 2),\n  (2145620, 0, 3),\n  (2345266, 0, 1),\n  (2431607, 0, 2),\n  (2451647, 0, 2),\n  (2464673, 1, 4),\n  (2536005, 0, 1),\n  (2791758, 0, 2),\n  (2936192, 0, 2),\n  (2939670, 0, 1),\n  (2942129, 0, 2),\n  (3199681, 0, 4),\n  (3238355, 1, 3),\n  (3278691, 1, 2),\n  (3550298, 0, 3),\n  (4038794, 0, 1),\n  (4116403, 0, 1),\n  (4277614, 3, 1),\n  (4404544, 1, 3),\n  (4824211, 0, 2),\n  (4991895, 0, 2),\n  (5191965, 0, 1),\n  (5588253, 0, 2),\n  (5729222, 1, 2),\n  (5881122, 1, 3),\n  (5926953, 2, 4),\n  (6105140, 0, 1),\n  (6314794, 0, 1),\n  (6402424, 0, 2),\n  (6452788, 1, 2),\n  (6705558, 1, 2),\n  (6763899, 0, 2),\n  (6767047, 0, 2),\n  (6782841, 0, 2),\n  (6792702, 0, 1),\n  (6939719, 0, 3),\n  (7050731, 1, 2),\n  (7064199, 2, 4),\n  (7133306, 0, 1),\n  (7262439, 0, 2),\n  (7381893, 1, 2),\n  (7382573, 0, 1),\n  (7382982, 0, 2),\n  (7629563, 0, 2),\n  (7637472, 0, 1),\n  (7727061, 0, 2),\n  (7835778, 0, 1),\n  (7837816, 0, 2),\n  (7900119, 0, 1),\n  (7915596, 1, 3),\n  (8082651, 2, 1),\n  (8173559, 0, 2),\n  (8223230, 0, 2),\n  (8401620, 1, 2),\n  (8435067, 0, 3),\n  (8504231, 1, 3),\n  (8590198, 1, 0),\n  (8800996, 0, 3),\n  (8925072, 1, 2),\n  (9058854, 0, 2),\n  (9107118, 0, 3),\n  (9231341, 0, 2),\n  (9393314, 0, 1),\n  (9425524, 1, 3),\n  (9463261, 1, 2),\n  (9486961, 1, 4),\n  (9504043, 0, 2),\n  (9682898, 0, 1),\n  (9720768, 3, 4),\n  (9794077, 0, 3),\n  (9823085, 2, 1),\n  (9863097, 0, 2),\n  (9863626, 4, 1),\n  (9989616, 1, 3),\n  (10041589, 1, 2),\n  (10050847, 1, 2),\n  (10355806, 1, 3),\n  (10412649, 1, 2),\n  (10769752, 1, 2),\n  (10786987, 0, 3),\n  (10996466, 1, 3),\n  (11294566, 0, 2),\n  (11370207, 0, 2),\n  (11567179, 0, 3),\n  (11684682, 0, 2),\n  (11755946, 0, 1),\n  (11769741, 0, 2),\n  (11816864, 0, 1),\n  (12088765, 0, 2),\n  (12185578, 1, 3),\n  (12231331, 0, 2),\n  (12265378, 2, 3),\n  (12309399, 1, 2),\n  (12826965, 1, 3),\n  (12970866, 1, 2),\n  (13153768, 0, 1),\n  (13156351, 0, 3),\n  (13217609, 0, 2),\n  (13217991, 0, 4),\n  (13235951, 0, 2),\n  (13245726, 0, 2),\n  (13397786, 1, 2),\n  (13477359, 1, 2),\n  (13605171, 0, 2),\n  (13638122, 2, 1),\n  (13725194, 0, 2),\n  (13769006, 1, 3),\n  (13795744, 0, 2),\n  (13802334, 0, 2),\n  (13848199, 0, 1),\n  (13848199, 3, 1),\n  (13994052, 3, 1),\n  (14092236, 1, 2),\n  (14661553, 0, 2),\n  (14696542, 0, 3),\n  (14783394, 0, 1),\n  (14835632, 0, 3),\n  (14963404, 0, 2),\n  (15040421, 3, 4),\n  (15133087, 0, 1),\n  (15250168, 0, 2),\n  (15433822, 1, 3),\n  (15437922, 0, 1),\n  (15716633, 0, 3),\n  (15733597, 0, 3),\n  (15783719, 2, 1),\n  (15832372, 1, 2),\n  (15886369, 1, 3),\n  (15888227, 1, 2),\n  (15896529, 0, 2),\n  (15988392, 0, 2),\n  (16004776, 0, 2),\n  (16015571, 0, 3),\n  (16085004, 0, 2),\n  (16206383, 0, 1),\n  (16406403, 0, 2),\n  (16428888, 0, 2),\n  (16439716, 1, 2),\n  (16458046, 1, 2),\n  (16471707, 0, 2),\n  (16569554, 0, 1),\n  (16708143, 0, 1),\n  (16821077, 2, 5),\n  (16821898, 1, 3),\n  (16855055, 1, 2),\n  (17189819, 0, 2),\n  (17346379, 0, 3),\n  (17494449, 0, 2),\n  (17539808, 0, 1),\n  (17552955, 3, 2),\n  (17583732, 0, 2),\n  (17670245, 1, 2),\n  (17777654, 0, 3),\n  (17778941, 1, 4),\n  (18076273, 1, 3),\n  (18110008, 0, 1),\n  (18221090, 0, 2),\n  (18377036, 0, 3),\n  (18387366, 0, 3),\n  (18402330, 1, 2),\n  (18402568, 1, 2),\n  (18450490, 2, 3),\n  (18460679, 0, 2),\n  (18460756, 0, 2),\n  (18476474, 0, 2),\n  (18488077, 1, 2),\n  (18543045, 1, 0),\n  (18729985, 0, 2),\n  (18823940, 0, 1),\n  (18908676, 1, 2),\n  (19010965, 1, 2),\n  (19226897, 1, 2),\n  (19227222, 0, 2),\n  (19274206, 0, 3),\n  (19275018, 1, 2),\n  (19357186, 0, 3),\n  (19378517, 0, 2),\n  (19385783, 0, 2),\n  (19424753, 0, 3),\n  (19532027, 0, 3),\n  (19532157, 1, 2),\n  (19532805, 2, 1),\n  (19608383, 0, 3),\n  (19676301, 1, 3),\n  (19876727, 0, 2),\n  (19884639, 1, 3),\n  (19891174, 0, 1),\n  (19892918, 1, 2),\n  (19894740, 1, 2),\n  (19981877, 2, 1),\n  (20089288, 2, 3),\n  (20185035, 1, 2),\n  (20186021, 0, 3),\n  (20187779, 1, 2),\n  (20231737, 0, 2),\n  (20235984, 0, 1),\n  (20264224, 0, 2),\n  (20269743, 1, 3),\n  (20297560, 1, 2),\n  (20503496, 2, 1),\n  (20542273, 0, 5),\n  (20587133, 1, 2),\n  (20675149, 1, 2),\n  (20863293, 0, 2),\n  (20902001, 1, 2),\n  (20918376, 1, 3),\n  (20982002, 0, 2),\n  (21007370, 1, 2),\n  (21094022, 0, 2),\n  (21125733, 1, 4),\n  (21240760, 0, 2),\n  (21346054, 0, 3),\n  (21539105, 2, 4),\n  (21558111, 2, 3),\n  (21577066, 0, 3),\n  (21581457, 0, 2),\n  (21636155, 1, 2),\n  (21643957, 0, 4),\n  (21698534, 1, 4),\n  (21701158, 0, 1),\n  (21726826, 2, 3),\n  (21780433, 0, 1),\n  (21822611, 0, 2),\n  (21825464, 0, 1),\n  (21850427, 0, 2),\n  (21860693, 2, 1),\n  (21891406, 0, 3),\n  (22008794, 1, 2),\n  (22045554, 0, 2),\n  (22048368, 2, 1),\n  (22075971, 0, 2),\n  (22098435, 1, 3),\n  (22187253, 2, 4),\n  (22303234, 0, 2),\n  (22305350, 0, 3),\n  (22356843, 0, 4),\n  (22396507, 0, 2),\n  (22407389, 1, 2),\n  (22484513, 1, 2),\n  (22514949, 0, 2),\n  (22588459, 3, 2),\n  (22955342, 0, 2),\n  (23106431, 0, 1),\n  (23111211, 0, 1),\n  (23329332, 0, 3),\n  (23358691, 1, 2),\n  (23631575, 0, 2),\n  (23691189, 0, 2),\n  (23753607, 0, 2),\n  (23811416, 2, 4),\n  (23901118, 2, 0),\n  (23940698, 0, 2),\n  (23956264, 0, 1),\n  (24348078, 1, 2),\n  (24370692, 0, 1),\n  (24805348, 0, 1),\n  (24826533, 1, 4),\n  (24857436, 1, 2),\n  (24913445, 0, 2),\n  (25283412, 1, 2),\n  (25417007, 1, 2),\n  (25489254, 0, 3),\n  (25512622, 0, 2),\n  (25580283, 0, 1),\n  (25972102, 1, 2),\n  (26031698, 0, 1),\n  (26166442, 1, 2),\n  (26210593, 0, 2),\n  (26260516, 0, 1),\n  (26357035, 0, 1),\n  (26560264, 2, 3),\n  (26735765, 0, 1),\n  (26742074, 2, 3),\n  (26785149, 0, 3),\n  (26788754, 0, 3),\n  (26900640, 1, 2),\n  (26939557, 0, 2),\n  (26957310, 1, 2),\n  (27079267, 0, 1),\n  (27130196, 1, 3),\n  (27140780, 0, 3),\n  (27293665, 0, 4),\n  (27312987, 0, 2),\n  (27394468, 0, 4),\n  (27468927, 0, 4),\n  (27470574, 0, 2),\n  (27473250, 3, 5),\n  (27697402, 1, 2),\n  (27831402, 0, 2),\n  (27869757, 0, 2),\n  (27919288, 0, 2),\n  (28074191, 0, 1),\n  (28138840, 1, 3),\n  (28250925, 0, 2),\n  (28412831, 2, 5),\n  (28431734, 0, 2),\n  (28550680, 0, 1),\n  (28736269, 0, 1),\n  (28833210, 0, 1),\n  (28864751, 1, 2),\n  (28966170, 0, 3),\n  (28990673, 0, 2),\n  (29027853, 0, 2),\n  (29384552, 0, 2),\n  (29463847, 1, 3),\n  (29741023, 0, 3),\n  (29792553, 1, 2),\n  (29879394, 3, 4),\n  (29931976, 2, 5),\n  (30065616, 0, 1),\n  (30071646, 0, 3),\n  (30071646, 0, 5),\n  (30181399, 0, 2),\n  (30424508, 0, 2),\n  (30429519, 0, 1),\n  (30536585, 0, 3),\n  (30590147, 3, 4),\n  (30692398, 1, 2),\n  (30749019, 0, 2),\n  (30773154, 0, 6),\n  (30809679, 1, 2),\n  (31120894, 0, 2),\n  (31205946, 1, 3),\n  (31240258, 0, 2),\n  (31411380, 0, 3),\n  (31541068, 0, 2),\n  (31542976, 1, 2),\n  (31543432, 1, 2),\n  (31675967, 0, 3),\n  (31795183, 0, 1),\n  (31947991, 0, 1),\n  (31993541, 1, 3),\n  (32183028, 0, 5),\n  (32187475, 3, 6),\n  (32240870, 0, 3),\n  (32267833, 0, 1),\n  (32286787, 1, 3),\n  (32439871, 0, 1),\n  (32517517, 0, 1),\n  (32587861, 0, 1),\n  (32635385, 0, 2),\n  (32699981, 1, 2),\n  (32722385, 1, 2),\n  (32940382, 2, 1),\n  (32974799, 0, 2),\n  (33100876, 0, 1),\n  (33141479, 1, 5),\n  (33219891, 0, 2),\n  (33433393, 0, 2),\n  (33613736, 0, 2),\n  (33683932, 0, 2),\n  (33855937, 0, 2),\n  (33912291, 0, 2),\n  (33999874, 0, 1),\n  (34024785, 1, 3),\n  (34178190, 1, 0),\n  (34180443, 0, 3),\n  (34181609, 1, 2),\n  (34197691, 2, 3),\n  (34207902, 3, 5),\n  (34231746, 1, 2),\n  (34261963, 0, 2),\n  (34336147, 0, 3),\n  (34415643, 0, 2),\n  (34461661, 0, 3),\n  (34566798, 1, 2),\n  (34625721, 1, 2),\n  (34653572, 0, 1),\n  (34778953, 1, 2),\n  (34809791, 0, 2),\n  (34935098, 0, 2),\n  (35063377, 0, 2),\n  (35196873, 1, 3),\n  (35220898, 1, 2),\n  (35335248, 1, 4),\n  (35561531, 1, 2),\n  (35668212, 0, 2),\n  (35770687, 0, 2),\n  (36006640, 0, 2),\n  (36078765, 0, 2),\n  (36142853, 0, 2),\n  (36278966, 1, 2),\n  (36298737, 1, 3),\n  (36311265, 0, 4)],\n [126, 26])"
     },
     "execution_count": 77,
     "metadata": {},
     "output_type": "execute_result"
    }
   ],
   "source": [
    "get_match_rows(\"bright room\")"
   ],
   "metadata": {
    "collapsed": false
   }
  },
  {
   "cell_type": "markdown",
   "source": [
    "## Исправление опечаток"
   ],
   "metadata": {
    "collapsed": false
   }
  },
  {
   "cell_type": "code",
   "execution_count": 66,
   "outputs": [],
   "source": [
    "from spellchecker import SpellChecker"
   ],
   "metadata": {
    "collapsed": false
   }
  },
  {
   "cell_type": "code",
   "execution_count": 72,
   "outputs": [],
   "source": [
    "py_spellchecker = SpellChecker()\n",
    "def fix_spelling(sentence):\n",
    "    return ' '.join([py_spellchecker.correction(word) for word in sentence.split()])"
   ],
   "metadata": {
    "collapsed": false
   }
  },
  {
   "cell_type": "code",
   "execution_count": 73,
   "outputs": [
    {
     "data": {
      "text/plain": "'anxiety of devil'"
     },
     "execution_count": 73,
     "metadata": {},
     "output_type": "execute_result"
    }
   ],
   "source": [
    "fix_spelling('anksiety of defil')"
   ],
   "metadata": {
    "collapsed": false
   }
  },
  {
   "cell_type": "markdown",
   "source": [
    "## Ранжирование поисковой выдачи"
   ],
   "metadata": {
    "collapsed": false
   }
  },
  {
   "cell_type": "code",
   "execution_count": 69,
   "outputs": [],
   "source": [
    "def normalize_scores(scores,smallIsBetter=0):\n",
    "    vsmall=0.00001 # Avoid division by zero errors\n",
    "    if smallIsBetter:\n",
    "        minscore=min(scores.values(  ))\n",
    "        return dict([(u,float(minscore)/max(vsmall,l)) for (u,l) in scores.items(  )])\n",
    "    else:\n",
    "        maxscore=max(scores.values(  ))\n",
    "        if maxscore==0: maxscore=vsmall\n",
    "        return dict([(u,float(c)/maxscore) for (u,c) in scores.items(  )])"
   ],
   "metadata": {
    "collapsed": false
   }
  },
  {
   "cell_type": "code",
   "execution_count": 70,
   "outputs": [],
   "source": [
    "def frequency_score(rows):\n",
    "    counts=dict([(row[0],0) for row in rows])\n",
    "    for row in rows: counts[row[0]]+=1\n",
    "    return normalize_scores(counts)"
   ],
   "metadata": {
    "collapsed": false
   }
  },
  {
   "cell_type": "code",
   "execution_count": 71,
   "outputs": [],
   "source": [
    "def get_score_list(rows):\n",
    "    totalscores=dict([(row[0],0) for row in rows])\n",
    "\n",
    "    weights=[(1.0, frequency_score(rows))]\n",
    "\n",
    "    for (weight,scores) in weights:\n",
    "        for url in totalscores:\n",
    "            totalscores[url]+=weight*scores[url]\n",
    "\n",
    "    return totalscores"
   ],
   "metadata": {
    "collapsed": false
   }
  },
  {
   "cell_type": "code",
   "execution_count": 74,
   "outputs": [],
   "source": [
    "def query(q, dataset, count = 15):\n",
    "    q = fix_spelling(q)\n",
    "    rows, wordids = get_match_rows(q)\n",
    "    scores = get_score_list(rows)\n",
    "    rankedscores = sorted([(score, url) for (url, score) in scores.items()], reverse=True)[0:count]\n",
    "    df_res = pd.DataFrame()\n",
    "    for (score, theId) in rankedscores:\n",
    "        result = dataset.loc[dataset.id == theId]\n",
    "        q = {'score': score, 'id': theId, 'neighbourhood_group': result.neighbourhood_group, 'name': result.name}\n",
    "        df_res =  pd.concat([df_res, pd.DataFrame(q)])\n",
    "    return df_res"
   ],
   "metadata": {
    "collapsed": false
   }
  },
  {
   "cell_type": "code",
   "execution_count": 78,
   "outputs": [
    {
     "data": {
      "text/plain": "       score        id neighbourhood_group  \\\n38088    1.0  30071646            Brooklyn   \n17608    1.0  13848199           Manhattan   \n48536    0.5  36311265            Brooklyn   \n48503    0.5  36298737            Brooklyn   \n48479    0.5  36278966           Manhattan   \n48221    0.5  36142853            Brooklyn   \n48098    0.5  36078765            Brooklyn   \n47970    0.5  36006640            Brooklyn   \n47501    0.5  35770687            Brooklyn   \n47268    0.5  35668212            Brooklyn   \n47026    0.5  35561531           Manhattan   \n46589    0.5  35335248           Manhattan   \n46357    0.5  35220898            Brooklyn   \n46328    0.5  35196873           Manhattan   \n46078    0.5  35063377            Brooklyn   \n\n                                                    name  \n38088   [bright, spacious, brooklyn, room, living, room]  \n17608        [bright, room, spacious, bright, apartment]  \n48536    [bright, sunny, large, bk, room, shared, space]  \n48503     [fresh, bright, private, room, near, j, train]  \n48479        [cozy, bright, room, half, bath, bunk, bed]  \n48221             [bright, cozy, room, greenpoint, loft]  \n48098               [bright, bushwick, room, view, park]  \n47970  [bright, cozy, room, renovated, williamsburg, ...  \n47501  [bright, quiet, room, 25, min, downtown, manha...  \n47268    [bright, shared, room, newly, renovated, house]  \n47026       [spacious, bright, room, easy, commute, nyc]  \n46589     [spacious, bright, modern, private, room, two]  \n46357                 [cozy, bright, room, williamsburg]  \n46328  [huge, bright, private, room, next, central, p...  \n46078     [bright, loftstyle, room, prime, williamsburg]  ",
      "text/html": "<div>\n<style scoped>\n    .dataframe tbody tr th:only-of-type {\n        vertical-align: middle;\n    }\n\n    .dataframe tbody tr th {\n        vertical-align: top;\n    }\n\n    .dataframe thead th {\n        text-align: right;\n    }\n</style>\n<table border=\"1\" class=\"dataframe\">\n  <thead>\n    <tr style=\"text-align: right;\">\n      <th></th>\n      <th>score</th>\n      <th>id</th>\n      <th>neighbourhood_group</th>\n      <th>name</th>\n    </tr>\n  </thead>\n  <tbody>\n    <tr>\n      <th>38088</th>\n      <td>1.0</td>\n      <td>30071646</td>\n      <td>Brooklyn</td>\n      <td>[bright, spacious, brooklyn, room, living, room]</td>\n    </tr>\n    <tr>\n      <th>17608</th>\n      <td>1.0</td>\n      <td>13848199</td>\n      <td>Manhattan</td>\n      <td>[bright, room, spacious, bright, apartment]</td>\n    </tr>\n    <tr>\n      <th>48536</th>\n      <td>0.5</td>\n      <td>36311265</td>\n      <td>Brooklyn</td>\n      <td>[bright, sunny, large, bk, room, shared, space]</td>\n    </tr>\n    <tr>\n      <th>48503</th>\n      <td>0.5</td>\n      <td>36298737</td>\n      <td>Brooklyn</td>\n      <td>[fresh, bright, private, room, near, j, train]</td>\n    </tr>\n    <tr>\n      <th>48479</th>\n      <td>0.5</td>\n      <td>36278966</td>\n      <td>Manhattan</td>\n      <td>[cozy, bright, room, half, bath, bunk, bed]</td>\n    </tr>\n    <tr>\n      <th>48221</th>\n      <td>0.5</td>\n      <td>36142853</td>\n      <td>Brooklyn</td>\n      <td>[bright, cozy, room, greenpoint, loft]</td>\n    </tr>\n    <tr>\n      <th>48098</th>\n      <td>0.5</td>\n      <td>36078765</td>\n      <td>Brooklyn</td>\n      <td>[bright, bushwick, room, view, park]</td>\n    </tr>\n    <tr>\n      <th>47970</th>\n      <td>0.5</td>\n      <td>36006640</td>\n      <td>Brooklyn</td>\n      <td>[bright, cozy, room, renovated, williamsburg, ...</td>\n    </tr>\n    <tr>\n      <th>47501</th>\n      <td>0.5</td>\n      <td>35770687</td>\n      <td>Brooklyn</td>\n      <td>[bright, quiet, room, 25, min, downtown, manha...</td>\n    </tr>\n    <tr>\n      <th>47268</th>\n      <td>0.5</td>\n      <td>35668212</td>\n      <td>Brooklyn</td>\n      <td>[bright, shared, room, newly, renovated, house]</td>\n    </tr>\n    <tr>\n      <th>47026</th>\n      <td>0.5</td>\n      <td>35561531</td>\n      <td>Manhattan</td>\n      <td>[spacious, bright, room, easy, commute, nyc]</td>\n    </tr>\n    <tr>\n      <th>46589</th>\n      <td>0.5</td>\n      <td>35335248</td>\n      <td>Manhattan</td>\n      <td>[spacious, bright, modern, private, room, two]</td>\n    </tr>\n    <tr>\n      <th>46357</th>\n      <td>0.5</td>\n      <td>35220898</td>\n      <td>Brooklyn</td>\n      <td>[cozy, bright, room, williamsburg]</td>\n    </tr>\n    <tr>\n      <th>46328</th>\n      <td>0.5</td>\n      <td>35196873</td>\n      <td>Manhattan</td>\n      <td>[huge, bright, private, room, next, central, p...</td>\n    </tr>\n    <tr>\n      <th>46078</th>\n      <td>0.5</td>\n      <td>35063377</td>\n      <td>Brooklyn</td>\n      <td>[bright, loftstyle, room, prime, williamsburg]</td>\n    </tr>\n  </tbody>\n</table>\n</div>"
     },
     "metadata": {},
     "output_type": "display_data"
    }
   ],
   "source": [
    "df = query(\"Brigt room\", data)\n",
    "display(df)"
   ],
   "metadata": {
    "collapsed": false
   }
  },
  {
   "cell_type": "markdown",
   "source": [
    "## Рекомендация ранжированного переченя статей из Википедии для каждого документа из коллекции"
   ],
   "metadata": {
    "collapsed": false
   }
  },
  {
   "cell_type": "code",
   "execution_count": 79,
   "outputs": [],
   "source": [
    "import warnings\n",
    "warnings.filterwarnings('ignore')\n",
    "import wikipedia"
   ],
   "metadata": {
    "collapsed": false
   }
  },
  {
   "cell_type": "code",
   "execution_count": 80,
   "outputs": [],
   "source": [
    "def search_in_wikipedia(text):\n",
    "    wiki_pages = []\n",
    "    pages = wikipedia.search(text)\n",
    "    for page in pages:\n",
    "        try:\n",
    "            page = wikipedia.page(page)\n",
    "            wiki_pages.append(page)\n",
    "        except wikipedia.exceptions.DisambiguationError as e:\n",
    "            pass\n",
    "        except wikipedia.exceptions.PageError:\n",
    "            pass\n",
    "    return wiki_pages"
   ],
   "metadata": {
    "collapsed": false
   }
  },
  {
   "cell_type": "code",
   "execution_count": 81,
   "outputs": [],
   "source": [
    "def get_wiki_article(vehicle_title):\n",
    "    ans = pd.DataFrame(columns=['wiki_page_name', 'wiki_page_link'])\n",
    "    for i, page in enumerate(search_in_wikipedia(vehicle_title)):\n",
    "        ans = pd.concat([ans, pd.DataFrame({'wiki_page_name': page.title, 'wiki_page_link': page.url}, index=[i])])\n",
    "    return ans"
   ],
   "metadata": {
    "collapsed": false
   }
  },
  {
   "cell_type": "code",
   "execution_count": 82,
   "outputs": [
    {
     "data": {
      "text/plain": "       wiki_page_name                                    wiki_page_link\n0       Blackout cake       https://en.wikipedia.org/wiki/Blackout_cake\n1    Brooklyn Dodgers    https://en.wikipedia.org/wiki/Brooklyn_Dodgers\n2    Brooklyn Beckham    https://en.wikipedia.org/wiki/Brooklyn_Beckham\n3  Brooklyn Nine-Nine  https://en.wikipedia.org/wiki/Brooklyn_Nine-Nine\n4     Brooklyn (film)     https://en.wikipedia.org/wiki/Brooklyn_(film)",
      "text/html": "<div>\n<style scoped>\n    .dataframe tbody tr th:only-of-type {\n        vertical-align: middle;\n    }\n\n    .dataframe tbody tr th {\n        vertical-align: top;\n    }\n\n    .dataframe thead th {\n        text-align: right;\n    }\n</style>\n<table border=\"1\" class=\"dataframe\">\n  <thead>\n    <tr style=\"text-align: right;\">\n      <th></th>\n      <th>wiki_page_name</th>\n      <th>wiki_page_link</th>\n    </tr>\n  </thead>\n  <tbody>\n    <tr>\n      <th>0</th>\n      <td>Blackout cake</td>\n      <td>https://en.wikipedia.org/wiki/Blackout_cake</td>\n    </tr>\n    <tr>\n      <th>1</th>\n      <td>Brooklyn Dodgers</td>\n      <td>https://en.wikipedia.org/wiki/Brooklyn_Dodgers</td>\n    </tr>\n    <tr>\n      <th>2</th>\n      <td>Brooklyn Beckham</td>\n      <td>https://en.wikipedia.org/wiki/Brooklyn_Beckham</td>\n    </tr>\n    <tr>\n      <th>3</th>\n      <td>Brooklyn Nine-Nine</td>\n      <td>https://en.wikipedia.org/wiki/Brooklyn_Nine-Nine</td>\n    </tr>\n    <tr>\n      <th>4</th>\n      <td>Brooklyn (film)</td>\n      <td>https://en.wikipedia.org/wiki/Brooklyn_(film)</td>\n    </tr>\n  </tbody>\n</table>\n</div>"
     },
     "execution_count": 82,
     "metadata": {},
     "output_type": "execute_result"
    }
   ],
   "source": [
    "get_wiki_article('New York Brooklyn')"
   ],
   "metadata": {
    "collapsed": false
   }
  },
  {
   "cell_type": "code",
   "execution_count": 89,
   "outputs": [],
   "source": [
    "wiki_search_data = data['neighbourhood'].unique()"
   ],
   "metadata": {
    "collapsed": false
   }
  },
  {
   "cell_type": "code",
   "execution_count": 96,
   "outputs": [
    {
     "name": "stderr",
     "output_type": "stream",
     "text": [
      "100%|██████████| 221/221 [25:38<00:00,  6.96s/it]\n"
     ]
    }
   ],
   "source": [
    "wiki_pages = dict()\n",
    "for neighbourhood in tqdm(wiki_search_data):\n",
    "    wiki_pages[neighbourhood] = get_wiki_article( 'New York' + neighbourhood)"
   ],
   "metadata": {
    "collapsed": false
   }
  },
  {
   "cell_type": "code",
   "execution_count": 97,
   "outputs": [],
   "source": [
    "pd.options.display.max_colwidth = 150"
   ],
   "metadata": {
    "collapsed": false
   }
  },
  {
   "cell_type": "code",
   "execution_count": 98,
   "outputs": [
    {
     "data": {
      "text/plain": "                    wiki_page_name  \\\n0           Clinton Hill, Brooklyn   \n1            Flower Hill, New York   \n2        Manhasset Hills, New York   \n3             Clinton Hill, Newark   \n4            North Hills, New York   \n5             East Hills, New York   \n6  George Clinton (vice president)   \n7          College Hill (New York)   \n8           Harbor Hills, New York   \n\n                                                  wiki_page_link  \n0           https://en.wikipedia.org/wiki/Clinton_Hill,_Brooklyn  \n1            https://en.wikipedia.org/wiki/Flower_Hill,_New_York  \n2        https://en.wikipedia.org/wiki/Manhasset_Hills,_New_York  \n3             https://en.wikipedia.org/wiki/Clinton_Hill,_Newark  \n4            https://en.wikipedia.org/wiki/North_Hills,_New_York  \n5             https://en.wikipedia.org/wiki/East_Hills,_New_York  \n6  https://en.wikipedia.org/wiki/George_Clinton_(vice_president)  \n7          https://en.wikipedia.org/wiki/College_Hill_(New_York)  \n8           https://en.wikipedia.org/wiki/Harbor_Hills,_New_York  ",
      "text/html": "<div>\n<style scoped>\n    .dataframe tbody tr th:only-of-type {\n        vertical-align: middle;\n    }\n\n    .dataframe tbody tr th {\n        vertical-align: top;\n    }\n\n    .dataframe thead th {\n        text-align: right;\n    }\n</style>\n<table border=\"1\" class=\"dataframe\">\n  <thead>\n    <tr style=\"text-align: right;\">\n      <th></th>\n      <th>wiki_page_name</th>\n      <th>wiki_page_link</th>\n    </tr>\n  </thead>\n  <tbody>\n    <tr>\n      <th>0</th>\n      <td>Clinton Hill, Brooklyn</td>\n      <td>https://en.wikipedia.org/wiki/Clinton_Hill,_Brooklyn</td>\n    </tr>\n    <tr>\n      <th>1</th>\n      <td>Flower Hill, New York</td>\n      <td>https://en.wikipedia.org/wiki/Flower_Hill,_New_York</td>\n    </tr>\n    <tr>\n      <th>2</th>\n      <td>Manhasset Hills, New York</td>\n      <td>https://en.wikipedia.org/wiki/Manhasset_Hills,_New_York</td>\n    </tr>\n    <tr>\n      <th>3</th>\n      <td>Clinton Hill, Newark</td>\n      <td>https://en.wikipedia.org/wiki/Clinton_Hill,_Newark</td>\n    </tr>\n    <tr>\n      <th>4</th>\n      <td>North Hills, New York</td>\n      <td>https://en.wikipedia.org/wiki/North_Hills,_New_York</td>\n    </tr>\n    <tr>\n      <th>5</th>\n      <td>East Hills, New York</td>\n      <td>https://en.wikipedia.org/wiki/East_Hills,_New_York</td>\n    </tr>\n    <tr>\n      <th>6</th>\n      <td>George Clinton (vice president)</td>\n      <td>https://en.wikipedia.org/wiki/George_Clinton_(vice_president)</td>\n    </tr>\n    <tr>\n      <th>7</th>\n      <td>College Hill (New York)</td>\n      <td>https://en.wikipedia.org/wiki/College_Hill_(New_York)</td>\n    </tr>\n    <tr>\n      <th>8</th>\n      <td>Harbor Hills, New York</td>\n      <td>https://en.wikipedia.org/wiki/Harbor_Hills,_New_York</td>\n    </tr>\n  </tbody>\n</table>\n</div>"
     },
     "metadata": {},
     "output_type": "display_data"
    }
   ],
   "source": [
    "display(wiki_pages['Clinton Hill'])"
   ],
   "metadata": {
    "collapsed": false
   }
  }
 ],
 "metadata": {
  "kernelspec": {
   "display_name": "Python 3",
   "language": "python",
   "name": "python3"
  },
  "language_info": {
   "codemirror_mode": {
    "name": "ipython",
    "version": 2
   },
   "file_extension": ".py",
   "mimetype": "text/x-python",
   "name": "python",
   "nbconvert_exporter": "python",
   "pygments_lexer": "ipython2",
   "version": "2.7.6"
  }
 },
 "nbformat": 4,
 "nbformat_minor": 0
}
