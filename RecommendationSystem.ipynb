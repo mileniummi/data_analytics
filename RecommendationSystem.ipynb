{
 "nbformat": 4,
 "nbformat_minor": 0,
 "metadata": {
  "colab": {
   "provenance": []
  },
  "kernelspec": {
   "display_name": "Python 3",
   "language": "python",
   "name": "python3"
  },
  "language_info": {
   "codemirror_mode": {
    "name": "ipython",
    "version": 3
   },
   "file_extension": ".py",
   "mimetype": "text/x-python",
   "name": "python",
   "nbconvert_exporter": "python",
   "pygments_lexer": "ipython3",
   "version": "3.8.5"
  },
  "gpuClass": "standard"
 },
 "cells": [
  {
   "cell_type": "markdown",
   "metadata": {
    "id": "9p4V680CkDk9"
   },
   "source": [
    "# The Movies Dataset TF-IDF Content-Based Recommendation"
   ]
  },
  {
   "cell_type": "markdown",
   "source": [
    "##Понимание данных:"
   ],
   "metadata": {
    "id": "c7EZV5qHpz0f"
   }
  },
  {
   "cell_type": "markdown",
   "metadata": {
    "id": "6LjaWDDidlE0"
   },
   "source": [
    "### Набор данных"
   ]
  },
  {
   "cell_type": "markdown",
   "metadata": {
    "id": "bYr4k6hldlE1"
   },
   "source": [
    "Дан набор данных, содержащий информацию о 45,000 фильмах, выпущенных до июля 2017 года. Набор данных представлен на ресурсе Kaggle по ссылке https://www.kaggle.com/rounakbanik/the-movies-dataset\n",
    "где представлено следующее описание составляющих файлов (выполнен перевод на русский язык):"
   ]
  },
  {
   "cell_type": "markdown",
   "metadata": {
    "id": "X9NqoYy3kQHB"
   },
   "source": [
    "`movies_metadata.csv:` Основной файл метаданных фильмов. Содержит информацию о 45 000 фильмов, представленных в наборе данных Full MovieLens. В таблицы представлены плакаты, фоны, бюджет, доход, даты выпуска, языки, страны-производители и компании.\n",
    "\n",
    "`keywords.csv:` Содержит ключевые слова сюжета для наших фильмов MovieLens. Доступен в виде строкового объекта JSON.\n",
    "\n",
    "`credits.csv:` Состоит из информации об актерах и съемках всех наших фильмов. Доступен в виде строкового объекта JSON. \n",
    "\n",
    "`links.csv:` Файл содержит идентификаторы TMDB и IMDB всех фильмов, представленных в наборе данных Full MovieLens.\n",
    "\n",
    "`links_small.csv:` Содержит идентификаторы TMDB и IMDB небольшого подмножества из 9000 фильмов полного набора данных.\n",
    "\n",
    "`ratings_small.csv:` Подмножество 100 000 оценок от 700 пользователей на 9 000 фильмов.\n",
    "\n",
    "`ratings.csv `- файл, содержащий полный список оценок, выставленных пользователями фильмам\n",
    "\n"
   ]
  },
  {
   "cell_type": "markdown",
   "metadata": {
    "id": "Uw1KKxsgdlE4"
   },
   "source": [
    "Рассмотрим подробнее две таблицы:"
   ]
  },
  {
   "cell_type": "markdown",
   "metadata": {
    "id": "s2KeDbdAdlE4"
   },
   "source": [
    "*   `movies_metadata.csv `\n",
    "*   `ratings.csv `"
   ]
  },
  {
   "cell_type": "code",
   "metadata": {
    "id": "l7PzPczhAF63"
   },
   "source": [
    "import pandas as pd\n",
    "import numpy as np"
   ],
   "execution_count": 1,
   "outputs": []
  },
  {
   "cell_type": "code",
   "source": [
    "! pip install --upgrade --no-cache-dir gdown"
   ],
   "metadata": {
    "colab": {
     "base_uri": "https://localhost:8080/"
    },
    "id": "aZyzhbwY5Y8Y",
    "outputId": "de055302-ad0c-437f-d694-77c482d52411"
   },
   "execution_count": 2,
   "outputs": [
    {
     "name": "stdout",
     "output_type": "stream",
     "text": [
      "Requirement already satisfied: gdown in c:\\users\\milen\\appdata\\local\\programs\\python\\python39\\lib\\site-packages (4.6.4)"
     ]
    },
    {
     "name": "stderr",
     "output_type": "stream",
     "text": [
      "WARNING: You are using pip version 22.0.4; however, version 23.0.1 is available.\n",
      "You should consider upgrading via the 'C:\\Users\\milen\\AppData\\Local\\Programs\\Python\\Python39\\python.exe -m pip install --upgrade pip' command.\n"
     ]
    },
    {
     "name": "stdout",
     "output_type": "stream",
     "text": [
      "\n",
      "Requirement already satisfied: tqdm in c:\\users\\milen\\appdata\\local\\programs\\python\\python39\\lib\\site-packages (from gdown) (4.65.0)\n",
      "Requirement already satisfied: filelock in c:\\users\\milen\\appdata\\local\\programs\\python\\python39\\lib\\site-packages (from gdown) (3.9.0)\n",
      "Requirement already satisfied: six in c:\\users\\milen\\appdata\\local\\programs\\python\\python39\\lib\\site-packages (from gdown) (1.16.0)\n",
      "Requirement already satisfied: beautifulsoup4 in c:\\users\\milen\\appdata\\local\\programs\\python\\python39\\lib\\site-packages (from gdown) (4.11.2)\n",
      "Requirement already satisfied: requests[socks] in c:\\users\\milen\\appdata\\local\\programs\\python\\python39\\lib\\site-packages (from gdown) (2.28.2)\n",
      "Requirement already satisfied: soupsieve>1.2 in c:\\users\\milen\\appdata\\local\\programs\\python\\python39\\lib\\site-packages (from beautifulsoup4->gdown) (2.4)\n",
      "Requirement already satisfied: idna<4,>=2.5 in c:\\users\\milen\\appdata\\local\\programs\\python\\python39\\lib\\site-packages (from requests[socks]->gdown) (3.4)\n",
      "Requirement already satisfied: urllib3<1.27,>=1.21.1 in c:\\users\\milen\\appdata\\local\\programs\\python\\python39\\lib\\site-packages (from requests[socks]->gdown) (1.26.14)\n",
      "Requirement already satisfied: charset-normalizer<4,>=2 in c:\\users\\milen\\appdata\\local\\programs\\python\\python39\\lib\\site-packages (from requests[socks]->gdown) (3.1.0)\n",
      "Requirement already satisfied: certifi>=2017.4.17 in c:\\users\\milen\\appdata\\local\\programs\\python\\python39\\lib\\site-packages (from requests[socks]->gdown) (2022.12.7)\n",
      "Requirement already satisfied: PySocks!=1.5.7,>=1.5.6 in c:\\users\\milen\\appdata\\local\\programs\\python\\python39\\lib\\site-packages (from requests[socks]->gdown) (1.7.1)\n",
      "Requirement already satisfied: colorama in c:\\users\\milen\\appdata\\local\\programs\\python\\python39\\lib\\site-packages (from tqdm->gdown) (0.4.6)\n"
     ]
    }
   ]
  },
  {
   "cell_type": "code",
   "metadata": {
    "colab": {
     "base_uri": "https://localhost:8080/"
    },
    "id": "H0lOsH_JdvWk",
    "outputId": "6b660d93-9afa-4e1c-ec79-d6eb70d62c58"
   },
   "source": [
    "#!gdown 14LeiPV598IHba4rGi07mhfC7O2Iw-NoL"
   ],
   "execution_count": 3,
   "outputs": []
  },
  {
   "cell_type": "code",
   "source": [
    "#!gdown 17nemNXYD8D_rNdWSgVbcBrrNAozxTWgg"
   ],
   "metadata": {
    "colab": {
     "base_uri": "https://localhost:8080/"
    },
    "id": "ux-ilGHh75DD",
    "outputId": "d41b54a4-fe7f-4a57-e5cb-46386d7247fd"
   },
   "execution_count": 4,
   "outputs": []
  },
  {
   "cell_type": "markdown",
   "source": [
    "Начинаем с анализа датафрейма movies_metadata"
   ],
   "metadata": {
    "id": "7qhC1HNfsKQt"
   }
  },
  {
   "cell_type": "markdown",
   "source": [
    "## Задание 1"
   ],
   "metadata": {
    "id": "gV0jRXVz9lPU"
   }
  },
  {
   "cell_type": "code",
   "metadata": {
    "id": "w_HKKqGQgVzn",
    "colab": {
     "base_uri": "https://localhost:8080/"
    },
    "outputId": "6a2afdc7-0235-4f66-eb3a-1fe3691a91ab"
   },
   "source": [
    "metadata = pd.read_csv(\"movies_metadata.csv\")"
   ],
   "execution_count": 260,
   "outputs": [
    {
     "name": "stderr",
     "output_type": "stream",
     "text": [
      "C:\\Users\\milen\\AppData\\Local\\Temp\\ipykernel_16056\\1912714352.py:1: DtypeWarning: Columns (10) have mixed types. Specify dtype option on import or set low_memory=False.\n",
      "  metadata = pd.read_csv(\"movies_metadata.csv\")\n"
     ]
    }
   ]
  },
  {
   "cell_type": "code",
   "source": [
    "metadata.info()"
   ],
   "metadata": {
    "colab": {
     "base_uri": "https://localhost:8080/"
    },
    "id": "O5Mbl_fUZPDG",
    "outputId": "74d450d1-ae49-47cd-a5b2-e187f9c5d5fd"
   },
   "execution_count": 268,
   "outputs": [
    {
     "name": "stdout",
     "output_type": "stream",
     "text": [
      "<class 'pandas.core.frame.DataFrame'>\n",
      "RangeIndex: 45466 entries, 0 to 45465\n",
      "Data columns (total 24 columns):\n",
      " #   Column                 Non-Null Count  Dtype  \n",
      "---  ------                 --------------  -----  \n",
      " 0   adult                  45466 non-null  object \n",
      " 1   belongs_to_collection  4494 non-null   object \n",
      " 2   budget                 45466 non-null  object \n",
      " 3   genres                 45466 non-null  object \n",
      " 4   homepage               7782 non-null   object \n",
      " 5   id                     45466 non-null  object \n",
      " 6   imdb_id                45449 non-null  object \n",
      " 7   original_language      45455 non-null  object \n",
      " 8   original_title         45466 non-null  object \n",
      " 9   overview               44512 non-null  object \n",
      " 10  popularity             45461 non-null  object \n",
      " 11  poster_path            45080 non-null  object \n",
      " 12  production_companies   45463 non-null  object \n",
      " 13  production_countries   45463 non-null  object \n",
      " 14  release_date           45379 non-null  object \n",
      " 15  revenue                45460 non-null  float64\n",
      " 16  runtime                45203 non-null  float64\n",
      " 17  spoken_languages       45460 non-null  object \n",
      " 18  status                 45379 non-null  object \n",
      " 19  tagline                20412 non-null  object \n",
      " 20  title                  45460 non-null  object \n",
      " 21  video                  45460 non-null  object \n",
      " 22  vote_average           45460 non-null  float64\n",
      " 23  vote_count             45460 non-null  float64\n",
      "dtypes: float64(4), object(20)\n",
      "memory usage: 8.3+ MB\n"
     ]
    }
   ]
  },
  {
   "cell_type": "markdown",
   "source": [
    "Удалите из датафрейма metadata строки, в которых отсутствует описание. Обратите внимание, что у некоторых фильмов формально описание есть, но там написано No overview found, No overview, No movie overview available, Released. Такие строки тоже нужно удалить. "
   ],
   "metadata": {
    "id": "ZUIzBKCL9o2O"
   }
  },
  {
   "cell_type": "code",
   "source": [
    "metadata = metadata[metadata['overview'].notnull()]\n"
   ],
   "metadata": {
    "id": "6ci5NoLlnOip"
   },
   "execution_count": 269,
   "outputs": []
  },
  {
   "cell_type": "code",
   "source": [
    "no_overview_string = ['No overview found','No Overview', 'No movie overview available', 'Released']\n",
    "\n",
    "def filter_inapropriate_overviews(overview):\n",
    "    for no_overview in no_overview_string:\n",
    "      if no_overview.lower() in overview.lower():\n",
    "        return None\n",
    "    if len(overview.split()) <= 1:\n",
    "      return None\n",
    "    return overview"
   ],
   "metadata": {
    "id": "TeBTYD_6kCr5"
   },
   "execution_count": 270,
   "outputs": []
  },
  {
   "cell_type": "code",
   "source": [
    "metadata['overview'] = metadata.apply(lambda row: filter_inapropriate_overviews(row['overview']), axis=1)\n",
    "metadata = metadata[metadata['overview'].notnull()]"
   ],
   "metadata": {
    "id": "ncqRN7wqhp6F"
   },
   "execution_count": 271,
   "outputs": [
    {
     "name": "stderr",
     "output_type": "stream",
     "text": [
      "C:\\Users\\milen\\AppData\\Local\\Temp\\ipykernel_16056\\3804731966.py:1: SettingWithCopyWarning: \n",
      "A value is trying to be set on a copy of a slice from a DataFrame.\n",
      "Try using .loc[row_indexer,col_indexer] = value instead\n",
      "\n",
      "See the caveats in the documentation: https://pandas.pydata.org/pandas-docs/stable/user_guide/indexing.html#returning-a-view-versus-a-copy\n",
      "  metadata['overview'] = metadata.apply(lambda row: filter_inapropriate_overviews(row['overview']), axis=1)\n"
     ]
    }
   ]
  },
  {
   "cell_type": "code",
   "source": [
    "metadata.info()"
   ],
   "metadata": {
    "colab": {
     "base_uri": "https://localhost:8080/"
    },
    "id": "6yLCzvHIwNLw",
    "outputId": "1bd44f88-5dde-4348-f4d3-4e375db21583"
   },
   "execution_count": 272,
   "outputs": [
    {
     "name": "stdout",
     "output_type": "stream",
     "text": [
      "<class 'pandas.core.frame.DataFrame'>\n",
      "Int64Index: 43856 entries, 0 to 45465\n",
      "Data columns (total 24 columns):\n",
      " #   Column                 Non-Null Count  Dtype  \n",
      "---  ------                 --------------  -----  \n",
      " 0   adult                  43856 non-null  object \n",
      " 1   belongs_to_collection  4360 non-null   object \n",
      " 2   budget                 43856 non-null  object \n",
      " 3   genres                 43856 non-null  object \n",
      " 4   homepage               7674 non-null   object \n",
      " 5   id                     43856 non-null  object \n",
      " 6   imdb_id                43841 non-null  object \n",
      " 7   original_language      43846 non-null  object \n",
      " 8   original_title         43856 non-null  object \n",
      " 9   overview               43856 non-null  object \n",
      " 10  popularity             43853 non-null  object \n",
      " 11  poster_path            43520 non-null  object \n",
      " 12  production_companies   43853 non-null  object \n",
      " 13  production_countries   43853 non-null  object \n",
      " 14  release_date           43783 non-null  object \n",
      " 15  revenue                43853 non-null  float64\n",
      " 16  runtime                43853 non-null  float64\n",
      " 17  spoken_languages       43853 non-null  object \n",
      " 18  status                 43792 non-null  object \n",
      " 19  tagline                20196 non-null  object \n",
      " 20  title                  43853 non-null  object \n",
      " 21  video                  43853 non-null  object \n",
      " 22  vote_average           43853 non-null  float64\n",
      " 23  vote_count             43853 non-null  float64\n",
      "dtypes: float64(4), object(20)\n",
      "memory usage: 8.4+ MB\n"
     ]
    }
   ]
  },
  {
   "cell_type": "markdown",
   "source": [
    "## Задание 2"
   ],
   "metadata": {
    "id": "o6z6ZUDkwJa6"
   }
  },
  {
   "cell_type": "markdown",
   "source": [
    "Оставьте в датафрейме столбцы `'id', 'imdb_id', 'overview', 'title'`. Выведите 10 случайных строк."
   ],
   "metadata": {
    "id": "3GLq8eNA-a4q"
   }
  },
  {
   "cell_type": "code",
   "source": [
    "metadata = metadata[['id', 'imdb_id', 'overview', 'title']]\n",
    "metadata['id'] = metadata.apply(lambda row: int(row['id']), axis=1)\n",
    "display(metadata.sample(10))"
   ],
   "metadata": {
    "colab": {
     "base_uri": "https://localhost:8080/",
     "height": 363
    },
    "id": "zANh2k3Qu89W",
    "outputId": "9a857340-bf1a-4584-c5ca-e52a0aa8a163"
   },
   "execution_count": 273,
   "outputs": [
    {
     "data": {
      "text/plain": "           id    imdb_id                                           overview  \\\n18893   70386  tt1712578  Set in the Channel Islands on the eve of D Day...   \n11682   52679  tt0019071  A former Imperial Russian general and cousin o...   \n4101    10833  tt0125022  Max and Page are a brilliant mother/daughter c...   \n10594  253250  tt0040825  Red Skelton plays Aubrey Filmore, a feather-br...   \n43662  289269  tt4327752  Jane is a beautiful but troubled American girl...   \n16789   22620  tt1258157  What brings best friends together? For Daphne,...   \n38814  294368  tt3677412  An investigation into accusations of teenagers...   \n45112   72363  tt0348841  A love triangle between a businessman, his wif...   \n31980  128960  tt0054854  Simple story about the man who comes to the be...   \n28422  186970  tt2852394  A 25 year old young man with dreams of becomin...   \n\n                                title  \n18893                The Devil's Rock  \n11682                The Last Command  \n4101                    Heartbreakers  \n10594               A Southern Yankee  \n43662                 Lady Bloodfight  \n16789  Scooby-Doo! The Mystery Begins  \n38814                  An Open Secret  \n45112                     I'm Staying  \n31980                  The Substitute  \n28422                         Grigris  ",
      "text/html": "<div>\n<style scoped>\n    .dataframe tbody tr th:only-of-type {\n        vertical-align: middle;\n    }\n\n    .dataframe tbody tr th {\n        vertical-align: top;\n    }\n\n    .dataframe thead th {\n        text-align: right;\n    }\n</style>\n<table border=\"1\" class=\"dataframe\">\n  <thead>\n    <tr style=\"text-align: right;\">\n      <th></th>\n      <th>id</th>\n      <th>imdb_id</th>\n      <th>overview</th>\n      <th>title</th>\n    </tr>\n  </thead>\n  <tbody>\n    <tr>\n      <th>18893</th>\n      <td>70386</td>\n      <td>tt1712578</td>\n      <td>Set in the Channel Islands on the eve of D Day...</td>\n      <td>The Devil's Rock</td>\n    </tr>\n    <tr>\n      <th>11682</th>\n      <td>52679</td>\n      <td>tt0019071</td>\n      <td>A former Imperial Russian general and cousin o...</td>\n      <td>The Last Command</td>\n    </tr>\n    <tr>\n      <th>4101</th>\n      <td>10833</td>\n      <td>tt0125022</td>\n      <td>Max and Page are a brilliant mother/daughter c...</td>\n      <td>Heartbreakers</td>\n    </tr>\n    <tr>\n      <th>10594</th>\n      <td>253250</td>\n      <td>tt0040825</td>\n      <td>Red Skelton plays Aubrey Filmore, a feather-br...</td>\n      <td>A Southern Yankee</td>\n    </tr>\n    <tr>\n      <th>43662</th>\n      <td>289269</td>\n      <td>tt4327752</td>\n      <td>Jane is a beautiful but troubled American girl...</td>\n      <td>Lady Bloodfight</td>\n    </tr>\n    <tr>\n      <th>16789</th>\n      <td>22620</td>\n      <td>tt1258157</td>\n      <td>What brings best friends together? For Daphne,...</td>\n      <td>Scooby-Doo! The Mystery Begins</td>\n    </tr>\n    <tr>\n      <th>38814</th>\n      <td>294368</td>\n      <td>tt3677412</td>\n      <td>An investigation into accusations of teenagers...</td>\n      <td>An Open Secret</td>\n    </tr>\n    <tr>\n      <th>45112</th>\n      <td>72363</td>\n      <td>tt0348841</td>\n      <td>A love triangle between a businessman, his wif...</td>\n      <td>I'm Staying</td>\n    </tr>\n    <tr>\n      <th>31980</th>\n      <td>128960</td>\n      <td>tt0054854</td>\n      <td>Simple story about the man who comes to the be...</td>\n      <td>The Substitute</td>\n    </tr>\n    <tr>\n      <th>28422</th>\n      <td>186970</td>\n      <td>tt2852394</td>\n      <td>A 25 year old young man with dreams of becomin...</td>\n      <td>Grigris</td>\n    </tr>\n  </tbody>\n</table>\n</div>"
     },
     "metadata": {},
     "output_type": "display_data"
    }
   ]
  },
  {
   "cell_type": "markdown",
   "source": [
    "## Задание 3"
   ],
   "metadata": {
    "id": "1smb9t1BJy1P"
   }
  },
  {
   "cell_type": "code",
   "metadata": {
    "id": "WXtmNkXLTCfF"
   },
   "source": [
    "ratings = pd.read_csv(\"ratings.csv\")"
   ],
   "execution_count": 274,
   "outputs": []
  },
  {
   "cell_type": "code",
   "metadata": {
    "colab": {
     "base_uri": "https://localhost:8080/",
     "height": 363
    },
    "id": "quIoezkBTGZZ",
    "outputId": "a5d7cf60-be48-44b9-9390-3cf22e46f540"
   },
   "source": [
    "ratings.head(10)"
   ],
   "execution_count": 275,
   "outputs": [
    {
     "data": {
      "text/plain": "   userId  movieId  rating   timestamp\n0       1      110     1.0  1425941529\n1       1      147     4.5  1425942435\n2       1      858     5.0  1425941523\n3       1     1221     5.0  1425941546\n4       1     1246     5.0  1425941556\n5       1     1968     4.0  1425942148\n6       1     2762     4.5  1425941300\n7       1     2918     5.0  1425941593\n8       1     2959     4.0  1425941601\n9       1     4226     4.0  1425942228",
      "text/html": "<div>\n<style scoped>\n    .dataframe tbody tr th:only-of-type {\n        vertical-align: middle;\n    }\n\n    .dataframe tbody tr th {\n        vertical-align: top;\n    }\n\n    .dataframe thead th {\n        text-align: right;\n    }\n</style>\n<table border=\"1\" class=\"dataframe\">\n  <thead>\n    <tr style=\"text-align: right;\">\n      <th></th>\n      <th>userId</th>\n      <th>movieId</th>\n      <th>rating</th>\n      <th>timestamp</th>\n    </tr>\n  </thead>\n  <tbody>\n    <tr>\n      <th>0</th>\n      <td>1</td>\n      <td>110</td>\n      <td>1.0</td>\n      <td>1425941529</td>\n    </tr>\n    <tr>\n      <th>1</th>\n      <td>1</td>\n      <td>147</td>\n      <td>4.5</td>\n      <td>1425942435</td>\n    </tr>\n    <tr>\n      <th>2</th>\n      <td>1</td>\n      <td>858</td>\n      <td>5.0</td>\n      <td>1425941523</td>\n    </tr>\n    <tr>\n      <th>3</th>\n      <td>1</td>\n      <td>1221</td>\n      <td>5.0</td>\n      <td>1425941546</td>\n    </tr>\n    <tr>\n      <th>4</th>\n      <td>1</td>\n      <td>1246</td>\n      <td>5.0</td>\n      <td>1425941556</td>\n    </tr>\n    <tr>\n      <th>5</th>\n      <td>1</td>\n      <td>1968</td>\n      <td>4.0</td>\n      <td>1425942148</td>\n    </tr>\n    <tr>\n      <th>6</th>\n      <td>1</td>\n      <td>2762</td>\n      <td>4.5</td>\n      <td>1425941300</td>\n    </tr>\n    <tr>\n      <th>7</th>\n      <td>1</td>\n      <td>2918</td>\n      <td>5.0</td>\n      <td>1425941593</td>\n    </tr>\n    <tr>\n      <th>8</th>\n      <td>1</td>\n      <td>2959</td>\n      <td>4.0</td>\n      <td>1425941601</td>\n    </tr>\n    <tr>\n      <th>9</th>\n      <td>1</td>\n      <td>4226</td>\n      <td>4.0</td>\n      <td>1425942228</td>\n    </tr>\n  </tbody>\n</table>\n</div>"
     },
     "execution_count": 275,
     "metadata": {},
     "output_type": "execute_result"
    }
   ]
  },
  {
   "cell_type": "code",
   "metadata": {
    "colab": {
     "base_uri": "https://localhost:8080/"
    },
    "id": "FUqUIWiQdlFG",
    "outputId": "ac040560-fb5f-4505-e5d4-1897ccc6f616"
   },
   "source": [
    "ratings.info()"
   ],
   "execution_count": 276,
   "outputs": [
    {
     "name": "stdout",
     "output_type": "stream",
     "text": [
      "<class 'pandas.core.frame.DataFrame'>\n",
      "RangeIndex: 26024289 entries, 0 to 26024288\n",
      "Data columns (total 4 columns):\n",
      " #   Column     Dtype  \n",
      "---  ------     -----  \n",
      " 0   userId     int64  \n",
      " 1   movieId    int64  \n",
      " 2   rating     float64\n",
      " 3   timestamp  int64  \n",
      "dtypes: float64(1), int64(3)\n",
      "memory usage: 794.2 MB\n"
     ]
    }
   ]
  },
  {
   "cell_type": "markdown",
   "source": [
    "Убедимся в отсутствии пропусков"
   ],
   "metadata": {
    "id": "5n60gzmGk3yu"
   }
  },
  {
   "cell_type": "code",
   "source": [
    "pd.isnull(ratings).sum()"
   ],
   "metadata": {
    "colab": {
     "base_uri": "https://localhost:8080/"
    },
    "id": "pifpWo3ckX2b",
    "outputId": "cbaa5fe1-dffb-433d-cc6d-962ca72439ee"
   },
   "execution_count": 277,
   "outputs": [
    {
     "data": {
      "text/plain": "userId       0\nmovieId      0\nrating       0\ntimestamp    0\ndtype: int64"
     },
     "execution_count": 277,
     "metadata": {},
     "output_type": "execute_result"
    }
   ]
  },
  {
   "cell_type": "markdown",
   "source": [
    "Объедините датафреймы `metadata` и `ratings` в один. Обратите внимание, что `'id'` в  `metadata`, этот тот же самый идентификатор, что и `'movie_id'` и `ratings`. Объединять нужно по этому идентификатору (также обратите внимание на его тип данных)."
   ],
   "metadata": {
    "id": "0YKZ0PhV_2TI"
   }
  },
  {
   "cell_type": "code",
   "source": [
    "data = pd.merge(metadata, ratings, left_on=['id'], right_on = ['movieId'])"
   ],
   "metadata": {
    "id": "pgfIp7gsw5qg"
   },
   "execution_count": 278,
   "outputs": []
  },
  {
   "cell_type": "markdown",
   "source": [],
   "metadata": {
    "id": "_A4PEoC5z1Vr"
   }
  },
  {
   "cell_type": "markdown",
   "source": [
    "## Задание 4"
   ],
   "metadata": {
    "id": "9paMCSNcBAlE"
   }
  },
  {
   "cell_type": "code",
   "source": [
    "pd.isnull(data).sum()"
   ],
   "metadata": {
    "colab": {
     "base_uri": "https://localhost:8080/"
    },
    "id": "bs258T-o2N0H",
    "outputId": "eef1fa68-a33c-410e-b74a-26174ab58b8a"
   },
   "execution_count": 279,
   "outputs": [
    {
     "data": {
      "text/plain": "id            0\nimdb_id      47\noverview      0\ntitle         0\nuserId        0\nmovieId       0\nrating        0\ntimestamp     0\ndtype: int64"
     },
     "execution_count": 279,
     "metadata": {},
     "output_type": "execute_result"
    }
   ]
  },
  {
   "cell_type": "markdown",
   "source": [
    "Появились ли пропуски в получившемся после объединения датафрейме? Если появились, то ответьте на вопрос \"почему?\" и удалите строки с пропусками.\n",
    "\n",
    "Выведите размеры получившегося датафрейма и 10 случайных записей в нём."
   ],
   "metadata": {
    "id": "5FN7L7HYmoQn"
   }
  },
  {
   "cell_type": "code",
   "source": [
    "data.info()\n",
    "display(data.sample(10))"
   ],
   "metadata": {
    "colab": {
     "base_uri": "https://localhost:8080/",
     "height": 623
    },
    "id": "UPiZSItR1GSN",
    "outputId": "ae07f8c1-4cee-4539-b1e3-eea14f0b43e8"
   },
   "execution_count": 280,
   "outputs": [
    {
     "name": "stdout",
     "output_type": "stream",
     "text": [
      "<class 'pandas.core.frame.DataFrame'>\n",
      "Int64Index: 11223149 entries, 0 to 11223148\n",
      "Data columns (total 8 columns):\n",
      " #   Column     Dtype  \n",
      "---  ------     -----  \n",
      " 0   id         int64  \n",
      " 1   imdb_id    object \n",
      " 2   overview   object \n",
      " 3   title      object \n",
      " 4   userId     int64  \n",
      " 5   movieId    int64  \n",
      " 6   rating     float64\n",
      " 7   timestamp  int64  \n",
      "dtypes: float64(1), int64(4), object(3)\n",
      "memory usage: 770.6+ MB\n"
     ]
    },
    {
     "data": {
      "text/plain": "           id    imdb_id                                           overview  \\\n1810860  1281  tt0118689  Bean works as a caretaker at Britain's formida...   \n7203672   919  tt0275230  In Japan, the vampire-hunter Saya, who is a po...   \n1769520   266  tt0057345  Screenwriter Paul Javal's marriage to his wife...   \n5524393   296  tt0181852  It's been 10 years since John Connor saved Ear...   \n8540696  6443  tt0386862  As an awkward idealistic high school teacher b...   \n5979893   899  tt0009968  Broken Blossoms is an American silent film fro...   \n7536915   953  tt0351283  Zoo animals leave the comforts of man-made hab...   \n3626514   955  tt0120755  With computer genius Luther Stickell at his si...   \n2438137  2109  tt0120812  When Hong Kong Inspector Lee is summoned to Lo...   \n9038455  6639  tt0484740  In Colombia just after the Great War, an old m...   \n\n                                      title  userId  movieId  rating  \\\n1810860                                Bean  185167     1281     4.0   \n7203672             Blood: The Last Vampire   14495      919     4.0   \n1769520                            Contempt   83918      266     4.0   \n5524393  Terminator 3: Rise of the Machines   35897      296     4.5   \n8540696            The Forest for the Trees  259446     6443     3.0   \n5979893                     Broken Blossoms  203114      899     4.0   \n7536915                          Madagascar  231867      953     2.0   \n3626514              Mission: Impossible II  127217      955     4.5   \n2438137                           Rush Hour  124146     2109     1.0   \n9038455         Love in the Time of Cholera  207001     6639     4.5   \n\n          timestamp  \n1810860  1467976646  \n7203672   965369430  \n1769520   834397606  \n5524393  1317492457  \n8540696  1159832505  \n5979893  1367773862  \n7536915   944375121  \n3626514  1386016326  \n2438137   956674369  \n9038455  1190913744  ",
      "text/html": "<div>\n<style scoped>\n    .dataframe tbody tr th:only-of-type {\n        vertical-align: middle;\n    }\n\n    .dataframe tbody tr th {\n        vertical-align: top;\n    }\n\n    .dataframe thead th {\n        text-align: right;\n    }\n</style>\n<table border=\"1\" class=\"dataframe\">\n  <thead>\n    <tr style=\"text-align: right;\">\n      <th></th>\n      <th>id</th>\n      <th>imdb_id</th>\n      <th>overview</th>\n      <th>title</th>\n      <th>userId</th>\n      <th>movieId</th>\n      <th>rating</th>\n      <th>timestamp</th>\n    </tr>\n  </thead>\n  <tbody>\n    <tr>\n      <th>1810860</th>\n      <td>1281</td>\n      <td>tt0118689</td>\n      <td>Bean works as a caretaker at Britain's formida...</td>\n      <td>Bean</td>\n      <td>185167</td>\n      <td>1281</td>\n      <td>4.0</td>\n      <td>1467976646</td>\n    </tr>\n    <tr>\n      <th>7203672</th>\n      <td>919</td>\n      <td>tt0275230</td>\n      <td>In Japan, the vampire-hunter Saya, who is a po...</td>\n      <td>Blood: The Last Vampire</td>\n      <td>14495</td>\n      <td>919</td>\n      <td>4.0</td>\n      <td>965369430</td>\n    </tr>\n    <tr>\n      <th>1769520</th>\n      <td>266</td>\n      <td>tt0057345</td>\n      <td>Screenwriter Paul Javal's marriage to his wife...</td>\n      <td>Contempt</td>\n      <td>83918</td>\n      <td>266</td>\n      <td>4.0</td>\n      <td>834397606</td>\n    </tr>\n    <tr>\n      <th>5524393</th>\n      <td>296</td>\n      <td>tt0181852</td>\n      <td>It's been 10 years since John Connor saved Ear...</td>\n      <td>Terminator 3: Rise of the Machines</td>\n      <td>35897</td>\n      <td>296</td>\n      <td>4.5</td>\n      <td>1317492457</td>\n    </tr>\n    <tr>\n      <th>8540696</th>\n      <td>6443</td>\n      <td>tt0386862</td>\n      <td>As an awkward idealistic high school teacher b...</td>\n      <td>The Forest for the Trees</td>\n      <td>259446</td>\n      <td>6443</td>\n      <td>3.0</td>\n      <td>1159832505</td>\n    </tr>\n    <tr>\n      <th>5979893</th>\n      <td>899</td>\n      <td>tt0009968</td>\n      <td>Broken Blossoms is an American silent film fro...</td>\n      <td>Broken Blossoms</td>\n      <td>203114</td>\n      <td>899</td>\n      <td>4.0</td>\n      <td>1367773862</td>\n    </tr>\n    <tr>\n      <th>7536915</th>\n      <td>953</td>\n      <td>tt0351283</td>\n      <td>Zoo animals leave the comforts of man-made hab...</td>\n      <td>Madagascar</td>\n      <td>231867</td>\n      <td>953</td>\n      <td>2.0</td>\n      <td>944375121</td>\n    </tr>\n    <tr>\n      <th>3626514</th>\n      <td>955</td>\n      <td>tt0120755</td>\n      <td>With computer genius Luther Stickell at his si...</td>\n      <td>Mission: Impossible II</td>\n      <td>127217</td>\n      <td>955</td>\n      <td>4.5</td>\n      <td>1386016326</td>\n    </tr>\n    <tr>\n      <th>2438137</th>\n      <td>2109</td>\n      <td>tt0120812</td>\n      <td>When Hong Kong Inspector Lee is summoned to Lo...</td>\n      <td>Rush Hour</td>\n      <td>124146</td>\n      <td>2109</td>\n      <td>1.0</td>\n      <td>956674369</td>\n    </tr>\n    <tr>\n      <th>9038455</th>\n      <td>6639</td>\n      <td>tt0484740</td>\n      <td>In Colombia just after the Great War, an old m...</td>\n      <td>Love in the Time of Cholera</td>\n      <td>207001</td>\n      <td>6639</td>\n      <td>4.5</td>\n      <td>1190913744</td>\n    </tr>\n  </tbody>\n</table>\n</div>"
     },
     "metadata": {},
     "output_type": "display_data"
    }
   ]
  },
  {
   "cell_type": "markdown",
   "source": [
    "## Задание 5"
   ],
   "metadata": {
    "id": "JlBSFBYfDqCH"
   }
  },
  {
   "cell_type": "code",
   "execution_count": 19,
   "outputs": [],
   "source": [
    "movies = dict()\n",
    "for _, review in data.drop_duplicates(subset=['movieId']).iterrows():\n",
    "    movies[review['movieId']] = review['title']"
   ],
   "metadata": {
    "collapsed": false
   }
  },
  {
   "cell_type": "code",
   "execution_count": 20,
   "outputs": [],
   "source": [
    "critics = {}\n",
    "for _, review in data.iterrows():\n",
    "    if review['userId'] in critics.keys():\n",
    "        critics[review['userId']][review['movieId']] = review['rating']\n",
    "    else:\n",
    "        critics[review['userId']] = {review['movieId']: review['rating']}"
   ],
   "metadata": {
    "collapsed": false
   }
  },
  {
   "cell_type": "markdown",
   "source": [
    "Возьмите случайного пользователя (проверьте, чтобы у него было достаточное количество оценок). Сформируйте для этого пользователя рекомендацию методом коллаборативной фильтрации. Оцените качество это рекомендации.\n",
    "\n",
    "\n",
    "Повторите эти рассчеты для большого числа пользователей и дайте интегральную оценку."
   ],
   "metadata": {
    "id": "p1_Gjtmgnoc6"
   }
  },
  {
   "cell_type": "markdown",
   "source": [
    "**Будем считать что достаточное количество оценок - 666**\n",
    "\n"
   ],
   "metadata": {
    "id": "16Noj6ndDEfo"
   }
  },
  {
   "cell_type": "code",
   "source": [
    "def pick_random_user(df, overview_count = 666):\n",
    "  user_ratings_count = df.groupby('userId')['userId'].count()\n",
    "  user_ratings_count = user_ratings_count.loc[lambda x : x >= overview_count]\n",
    "  return user_ratings_count.sample(1)"
   ],
   "metadata": {
    "colab": {
     "base_uri": "https://localhost:8080/"
    },
    "id": "Az_DLHnaDVCY",
    "outputId": "1e855c7b-13b9-459f-f031-1865e8928079"
   },
   "execution_count": 21,
   "outputs": []
  },
  {
   "cell_type": "code",
   "execution_count": 22,
   "outputs": [],
   "source": [
    "def similar_films(critics_dict: dict, person1, person2):\n",
    "    # создаем пустой список фильмов с названием\n",
    "    sim_film = []\n",
    "    # для всех фильмов у person1, если такой фильм оценивался person 2, добавляем этот фильм в список sim_film\n",
    "    for film in critics_dict[person1].keys():\n",
    "        if film in critics_dict[person2].keys():\n",
    "            sim_film.append(film)\n",
    "    ## your code here\n",
    "\n",
    "    return sim_film"
   ],
   "metadata": {
    "collapsed": false
   }
  },
  {
   "cell_type": "code",
   "execution_count": 23,
   "outputs": [],
   "source": [
    "def compute_euclid(x, y):\n",
    "    return np.sqrt(sum([ (x_ - y_) ** 2 for x_,y_ in zip(x, y)]))"
   ],
   "metadata": {
    "collapsed": false
   }
  },
  {
   "cell_type": "code",
   "execution_count": 32,
   "outputs": [],
   "source": [
    "def euclid_oxana(critics_dict, person1, person2):\n",
    "    # используем написанную функцию для получения фильмов, оцененных обоими критиками\n",
    "    sim_films = similar_films(critics_dict, person1, person2)\n",
    "\n",
    "    # если нет ни одной общей оценки, то есть длина sim_film равна 0 - вернуть 0\n",
    "    if len(sim_films) == 0:\n",
    "        return 0\n",
    "\n",
    "    ## your code here\n",
    "    x = []\n",
    "    y = []\n",
    "    for film in sim_films:\n",
    "        x.append(critics_dict[person1][film])\n",
    "        y.append(critics_dict[person2][film])\n",
    "\n",
    "    # посчитаем евклидово расстояние между критиками по фильмам из sim_films\n",
    "    # посчитаем похожесть score\n",
    "    return 1 / (1 + compute_euclid(x, y))"
   ],
   "metadata": {
    "collapsed": false
   }
  },
  {
   "cell_type": "code",
   "execution_count": 25,
   "outputs": [],
   "source": [
    "from scipy.stats import pearsonr\n",
    "# Возвращает коэффициент корреляции Пирсона между person1 и person2\n",
    "def sim_pearson(critics_dict, person1, person2):\n",
    "    from math import isnan # это нам пригодиться для обработки деления на 0\n",
    "\n",
    "    # получить список фильмов, оцененных обоими критиками\n",
    "    sim_films = similar_films(critics_dict, person1, person2)\n",
    "\n",
    "    ## your code here\n",
    "\n",
    "    # если нет ни одной общей оценки, вернуть 0\n",
    "    if len(sim_films) < 2:\n",
    "        return 0\n",
    "\n",
    "    # получим оценки критиков для фильмов из пересечения\n",
    "    scores1 = []\n",
    "    scores2 = []\n",
    "    for film in sim_films:\n",
    "        scores1.append(critics_dict[person1][film])\n",
    "        scores2.append(critics_dict[person2][film])\n",
    "\n",
    "    # посчитаем коэффициент корреляции\n",
    "    r = pearsonr(scores1, scores2)[0]\n",
    "\n",
    "    ## end of your code\n",
    "\n",
    "    # если вдруг было деление на ноль и функция вернула nan, то присваиваем ноль\n",
    "    if isnan(r):\n",
    "        r = 0\n",
    "    return r"
   ],
   "metadata": {
    "collapsed": false
   }
  },
  {
   "cell_type": "code",
   "execution_count": 26,
   "outputs": [],
   "source": [
    "\n",
    "def topMatches(critics_dict, person, similarity=sim_pearson):\n",
    "    # your code here\n",
    "    # инициализируем лист оценок похожести\n",
    "    scores = []\n",
    "    # для каждого человека в словаре критиков, если этот человек не тот, для которого мы подбираем соответствия\n",
    "    for user in critics_dict.keys():\n",
    "        if person != user:\n",
    "            # добавить в scores похожесть, вычисленную с помощью функции, записанной в similarity, и имя человека\n",
    "            scores.append((user, similarity(critics_dict, person, user)))\n",
    "    # отсортировать список по убыванию оценок\n",
    "    scores.sort(key = lambda x: x[1], reverse=True)\n",
    "    # возвращаем первые n человек\n",
    "    return scores\n"
   ],
   "metadata": {
    "collapsed": false
   }
  },
  {
   "cell_type": "code",
   "execution_count": 90,
   "outputs": [
    {
     "name": "stdout",
     "output_type": "stream",
     "text": [
      "96874\n"
     ]
    }
   ],
   "source": [
    "random_user = pick_random_user(data).index[0]\n",
    "print(random_user)"
   ],
   "metadata": {
    "collapsed": false
   }
  },
  {
   "cell_type": "code",
   "execution_count": 91,
   "outputs": [
    {
     "name": "stderr",
     "output_type": "stream",
     "text": [
      "C:\\Users\\milen\\AppData\\Local\\Programs\\Python\\Python39\\lib\\site-packages\\scipy\\stats\\_stats_py.py:4424: ConstantInputWarning: An input array is constant; the correlation coefficient is not defined.\n",
      "  warnings.warn(stats.ConstantInputWarning(msg))\n"
     ]
    }
   ],
   "source": [
    "matches = topMatches(critics, random_user)"
   ],
   "metadata": {
    "collapsed": false
   }
  },
  {
   "cell_type": "markdown",
   "source": [],
   "metadata": {
    "collapsed": false
   }
  },
  {
   "cell_type": "code",
   "execution_count": 93,
   "outputs": [],
   "source": [
    "euclid_matches = topMatches(critics, random_user, similarity=euclid_oxana)"
   ],
   "metadata": {
    "collapsed": false
   }
  },
  {
   "cell_type": "code",
   "execution_count": 95,
   "outputs": [
    {
     "name": "stdout",
     "output_type": "stream",
     "text": [
      "Pearson best films\n",
      "You perfectly match with user 24607 : 1.0, you should watch his films:\n",
      "\tHeat\n",
      "\tFor a Few Dollars More\n",
      "\tPandora's Box\n",
      "\tOpen Water\n",
      "\tLudwig\n",
      "You perfectly match with user 137740 : 1.0, you should watch his films:\n",
      "\tHeat\n",
      "\tEarth Girls Are Easy\n",
      "\tCars\n",
      "You perfectly match with user 161069 : 1.0, you should watch his films:\n",
      "\tHeat\n",
      "\tTo Be or Not to Be\n",
      "\tThe Projected Man\n",
      "Euclid best films\n",
      "You perfectly match with user 255439 : 1.0, you should watch his films:\n",
      "\tHeat\n",
      "\tThe Time Machine\n",
      "\tAll the President's Men\n",
      "\tThe Assassination of Richard Nixon\n",
      "You perfectly match with user 229439 : 1.0, you should watch his films:\n",
      "\tGoldenEye\n",
      "\tHome Alone\n",
      "\tThe African Queen\n",
      "\tSay Anything...\n",
      "\tSpaceballs\n",
      "You perfectly match with user 50323 : 1.0, you should watch his films:\n",
      "\tCutthroat Island\n",
      "\tHouseboat\n",
      "\tHoly Matrimony\n",
      "\tLucky Number Slevin\n"
     ]
    }
   ],
   "source": [
    "print(\"Pearson best films\")\n",
    "for match in matches[:3]:\n",
    "    films = critics[match[0]]\n",
    "    print(f\"You perfectly match with user {match[0]} : {match[1]}, you should watch his films:\")\n",
    "    for film in films.keys():\n",
    "     print(f\"\\t{movies[film]}\")\n",
    "\n",
    "print(\"Euclid best films\")\n",
    "for match in euclid_matches[:3]:\n",
    "    films = critics[match[0]]\n",
    "    print(f\"You perfectly match with user {match[0]} : {match[1]}, you should watch his films:\")\n",
    "    for film in films.keys():\n",
    "        print(f\"\\t{movies[film]}\")"
   ],
   "metadata": {
    "collapsed": false
   }
  },
  {
   "cell_type": "code",
   "execution_count": 110,
   "outputs": [],
   "source": [
    "from sklearn.metrics import  precision_score, recall_score, f1_score, accuracy_score, mean_squared_error\n",
    "\n",
    "# [0, 5] -> [0 , 1]\n",
    "def scaler(value):\n",
    "    return value / 5.0\n",
    "\n",
    "# [-1, 1] -> [0, 1]\n",
    "def scale_pearson(value):\n",
    "    return (value + 1)/2\n",
    "\n",
    "def report(predicted, truth, predicted_binary, truth_binary):\n",
    "    presicion = precision_score(predicted_binary, truth_binary)\n",
    "    recall = recall_score(predicted_binary, truth_binary)\n",
    "    f1 = f1_score(predicted_binary, truth_binary)\n",
    "    accuracy = accuracy_score(predicted_binary, truth_binary)\n",
    "    mse = mean_squared_error(predicted, truth)\n",
    "    rmse = np.sqrt(mse)\n",
    "    return (presicion, recall, f1, accuracy, mse, rmse)\n",
    "\n",
    "# сравниваем оценку на фильм colaborative filtration и саму оценку пользователя для этого фильма\n",
    "def recommendation_correctness(critics_recommendations, critics_scores, pearson=False):\n",
    "    predicted = []\n",
    "    predicted_binary = []\n",
    "    truth = []\n",
    "    truth_binary = []\n",
    "    for predictions, critic_score in zip(critics_recommendations, critics_scores):\n",
    "        for prediction in predictions:\n",
    "            films = critics[prediction[0]]\n",
    "            for film_id in films.keys():\n",
    "                if film_id in critic_score.keys():\n",
    "                    predicted.append(scale_pearson(prediction[1]) if pearson else prediction[1])\n",
    "                    # результат нашей модели, и мы ей мало доверяем\n",
    "                    predicted_binary.append( 1 if prediction[1] >= 0.95 else 0)\n",
    "                    truth.append(scaler(critic_score[film_id]))\n",
    "                    # оценка пользователя 4+ -> хороший фильм\n",
    "                    truth_binary.append( 1 if scaler(critic_score[film_id])>= 0.8 else 0)\n",
    "    score = [ v for v in report(predicted, truth, predicted_binary, truth_binary)]\n",
    "    data_ = {\"score\": score}\n",
    "    report_ = pd.DataFrame(data_, index=['presicion','recall','f1-score', 'accuracy', 'mse', 'rmse']).T\n",
    "    display(report_)"
   ],
   "metadata": {
    "collapsed": false
   }
  },
  {
   "cell_type": "code",
   "execution_count": 111,
   "outputs": [
    {
     "name": "stdout",
     "output_type": "stream",
     "text": [
      "Euclid correctness for 1 user\n"
     ]
    },
    {
     "data": {
      "text/plain": "       presicion    recall  f1-score  accuracy       mse     rmse\nscore   0.001163  0.679422  0.002321  0.565134  0.375353  0.61266",
      "text/html": "<div>\n<style scoped>\n    .dataframe tbody tr th:only-of-type {\n        vertical-align: middle;\n    }\n\n    .dataframe tbody tr th {\n        vertical-align: top;\n    }\n\n    .dataframe thead th {\n        text-align: right;\n    }\n</style>\n<table border=\"1\" class=\"dataframe\">\n  <thead>\n    <tr style=\"text-align: right;\">\n      <th></th>\n      <th>presicion</th>\n      <th>recall</th>\n      <th>f1-score</th>\n      <th>accuracy</th>\n      <th>mse</th>\n      <th>rmse</th>\n    </tr>\n  </thead>\n  <tbody>\n    <tr>\n      <th>score</th>\n      <td>0.001163</td>\n      <td>0.679422</td>\n      <td>0.002321</td>\n      <td>0.565134</td>\n      <td>0.375353</td>\n      <td>0.61266</td>\n    </tr>\n  </tbody>\n</table>\n</div>"
     },
     "metadata": {},
     "output_type": "display_data"
    }
   ],
   "source": [
    "print(\"Euclid correctness for 1 user\")\n",
    "recommendation_correctness([euclid_matches],[critics[random_user]])"
   ],
   "metadata": {
    "collapsed": false
   }
  },
  {
   "cell_type": "code",
   "execution_count": 112,
   "outputs": [
    {
     "name": "stdout",
     "output_type": "stream",
     "text": [
      "Pierson correctness for 1 user\n"
     ]
    },
    {
     "data": {
      "text/plain": "       presicion   recall  f1-score  accuracy       mse      rmse\nscore   0.003448  0.46074  0.006845  0.564612  0.059703  0.244341",
      "text/html": "<div>\n<style scoped>\n    .dataframe tbody tr th:only-of-type {\n        vertical-align: middle;\n    }\n\n    .dataframe tbody tr th {\n        vertical-align: top;\n    }\n\n    .dataframe thead th {\n        text-align: right;\n    }\n</style>\n<table border=\"1\" class=\"dataframe\">\n  <thead>\n    <tr style=\"text-align: right;\">\n      <th></th>\n      <th>presicion</th>\n      <th>recall</th>\n      <th>f1-score</th>\n      <th>accuracy</th>\n      <th>mse</th>\n      <th>rmse</th>\n    </tr>\n  </thead>\n  <tbody>\n    <tr>\n      <th>score</th>\n      <td>0.003448</td>\n      <td>0.46074</td>\n      <td>0.006845</td>\n      <td>0.564612</td>\n      <td>0.059703</td>\n      <td>0.244341</td>\n    </tr>\n  </tbody>\n</table>\n</div>"
     },
     "metadata": {},
     "output_type": "display_data"
    }
   ],
   "source": [
    "print(\"Pierson correctness for 1 user\")\n",
    "recommendation_correctness([matches],[critics[random_user]], pearson=True)"
   ],
   "metadata": {
    "collapsed": false
   }
  },
  {
   "cell_type": "code",
   "execution_count": 185,
   "outputs": [
    {
     "name": "stdout",
     "output_type": "stream",
     "text": [
      "Euclid correctness for 10 users\n"
     ]
    },
    {
     "data": {
      "text/plain": "       presicion    recall  f1-score  accuracy     mse      rmse\nscore   0.001001  0.534683  0.001999  0.564928  0.3734  0.611065",
      "text/html": "<div>\n<style scoped>\n    .dataframe tbody tr th:only-of-type {\n        vertical-align: middle;\n    }\n\n    .dataframe tbody tr th {\n        vertical-align: top;\n    }\n\n    .dataframe thead th {\n        text-align: right;\n    }\n</style>\n<table border=\"1\" class=\"dataframe\">\n  <thead>\n    <tr style=\"text-align: right;\">\n      <th></th>\n      <th>presicion</th>\n      <th>recall</th>\n      <th>f1-score</th>\n      <th>accuracy</th>\n      <th>mse</th>\n      <th>rmse</th>\n    </tr>\n  </thead>\n  <tbody>\n    <tr>\n      <th>score</th>\n      <td>0.001001</td>\n      <td>0.534683</td>\n      <td>0.001999</td>\n      <td>0.564928</td>\n      <td>0.3734</td>\n      <td>0.611065</td>\n    </tr>\n  </tbody>\n</table>\n</div>"
     },
     "metadata": {},
     "output_type": "display_data"
    }
   ],
   "source": [
    "random_critics = []\n",
    "recommendations = []\n",
    "films = []\n",
    "for _ in range(10):\n",
    "    # выбор уникального критика\n",
    "    random_critic = pick_random_user(data).index[0]\n",
    "    while random_critic in random_critics:\n",
    "        random_critic = pick_random_user(data).index[0]\n",
    "    random_critics.append(random_critic)\n",
    "    recommendations.append(topMatches(critics, random_critic, similarity=euclid_oxana))\n",
    "    films.append(critics[random_user])\n",
    "print(\"Euclid correctness for 10 users\")\n",
    "recommendation_correctness(recommendations,films)"
   ],
   "metadata": {
    "collapsed": false
   }
  },
  {
   "cell_type": "code",
   "execution_count": null,
   "outputs": [
    {
     "name": "stderr",
     "output_type": "stream",
     "text": [
      "C:\\Users\\milen\\AppData\\Local\\Programs\\Python\\Python39\\lib\\site-packages\\scipy\\stats\\_stats_py.py:4424: ConstantInputWarning: An input array is constant; the correlation coefficient is not defined.\n",
      "  warnings.warn(stats.ConstantInputWarning(msg))\n",
      "C:\\Users\\milen\\AppData\\Local\\Programs\\Python\\Python39\\lib\\site-packages\\scipy\\stats\\_stats_py.py:4424: ConstantInputWarning: An input array is constant; the correlation coefficient is not defined.\n",
      "  warnings.warn(stats.ConstantInputWarning(msg))\n",
      "C:\\Users\\milen\\AppData\\Local\\Programs\\Python\\Python39\\lib\\site-packages\\scipy\\stats\\_stats_py.py:4424: ConstantInputWarning: An input array is constant; the correlation coefficient is not defined.\n",
      "  warnings.warn(stats.ConstantInputWarning(msg))\n",
      "C:\\Users\\milen\\AppData\\Local\\Programs\\Python\\Python39\\lib\\site-packages\\scipy\\stats\\_stats_py.py:4424: ConstantInputWarning: An input array is constant; the correlation coefficient is not defined.\n",
      "  warnings.warn(stats.ConstantInputWarning(msg))\n",
      "C:\\Users\\milen\\AppData\\Local\\Programs\\Python\\Python39\\lib\\site-packages\\scipy\\stats\\_stats_py.py:4424: ConstantInputWarning: An input array is constant; the correlation coefficient is not defined.\n",
      "  warnings.warn(stats.ConstantInputWarning(msg))\n",
      "C:\\Users\\milen\\AppData\\Local\\Programs\\Python\\Python39\\lib\\site-packages\\scipy\\stats\\_stats_py.py:4424: ConstantInputWarning: An input array is constant; the correlation coefficient is not defined.\n",
      "  warnings.warn(stats.ConstantInputWarning(msg))\n",
      "C:\\Users\\milen\\AppData\\Local\\Programs\\Python\\Python39\\lib\\site-packages\\scipy\\stats\\_stats_py.py:4424: ConstantInputWarning: An input array is constant; the correlation coefficient is not defined.\n",
      "  warnings.warn(stats.ConstantInputWarning(msg))\n",
      "C:\\Users\\milen\\AppData\\Local\\Programs\\Python\\Python39\\lib\\site-packages\\scipy\\stats\\_stats_py.py:4424: ConstantInputWarning: An input array is constant; the correlation coefficient is not defined.\n",
      "  warnings.warn(stats.ConstantInputWarning(msg))\n",
      "C:\\Users\\milen\\AppData\\Local\\Programs\\Python\\Python39\\lib\\site-packages\\scipy\\stats\\_stats_py.py:4424: ConstantInputWarning: An input array is constant; the correlation coefficient is not defined.\n",
      "  warnings.warn(stats.ConstantInputWarning(msg))\n",
      "C:\\Users\\milen\\AppData\\Local\\Programs\\Python\\Python39\\lib\\site-packages\\scipy\\stats\\_stats_py.py:4424: ConstantInputWarning: An input array is constant; the correlation coefficient is not defined.\n",
      "  warnings.warn(stats.ConstantInputWarning(msg))\n"
     ]
    },
    {
     "name": "stdout",
     "output_type": "stream",
     "text": [
      "Pierson correctness for 10 users\n"
     ]
    },
    {
     "data": {
      "text/plain": "       presicion    recall  f1-score  accuracy       mse      rmse\nscore   0.003252  0.507722  0.006462  0.564915  0.056557  0.237817",
      "text/html": "<div>\n<style scoped>\n    .dataframe tbody tr th:only-of-type {\n        vertical-align: middle;\n    }\n\n    .dataframe tbody tr th {\n        vertical-align: top;\n    }\n\n    .dataframe thead th {\n        text-align: right;\n    }\n</style>\n<table border=\"1\" class=\"dataframe\">\n  <thead>\n    <tr style=\"text-align: right;\">\n      <th></th>\n      <th>presicion</th>\n      <th>recall</th>\n      <th>f1-score</th>\n      <th>accuracy</th>\n      <th>mse</th>\n      <th>rmse</th>\n    </tr>\n  </thead>\n  <tbody>\n    <tr>\n      <th>score</th>\n      <td>0.003252</td>\n      <td>0.507722</td>\n      <td>0.006462</td>\n      <td>0.564915</td>\n      <td>0.056557</td>\n      <td>0.237817</td>\n    </tr>\n  </tbody>\n</table>\n</div>"
     },
     "metadata": {},
     "output_type": "display_data"
    }
   ],
   "source": [
    "random_critics = []\n",
    "recommendations = []\n",
    "films = []\n",
    "for _ in range(10):\n",
    "    # выбор уникального критика\n",
    "    random_critic = pick_random_user(data).index[0]\n",
    "    while random_critic in random_critics:\n",
    "        random_critic = pick_random_user(data).index[0]\n",
    "    random_critics.append(random_critic)\n",
    "    recommendations.append(topMatches(critics, random_critic))\n",
    "    films.append(critics[random_user])\n",
    "print(\"Pierson correctness for 10 users\")\n",
    "recommendation_correctness(recommendations,films, pearson=True)"
   ],
   "metadata": {
    "collapsed": false,
    "pycharm": {
     "is_executing": true
    }
   }
  },
  {
   "cell_type": "markdown",
   "source": [
    "## Задание 6"
   ],
   "metadata": {
    "collapsed": false
   }
  },
  {
   "cell_type": "markdown",
   "source": [
    "Используйте метод Term Frequency Inverse Document Frequency (TF-IDF), чтобы отфильтровать фильмы, похожие (используйте для этого косинусное расстояние) на те, которые пользователь высоко оценил.\n",
    "Оцените качество такой рекомендации."
   ],
   "metadata": {
    "collapsed": false
   }
  },
  {
   "cell_type": "code",
   "execution_count": 187,
   "outputs": [],
   "source": [
    "%%capture\n",
    "import nltk\n",
    "import string\n",
    "nltk.download('punkt')\n",
    "nltk.download('stopwords')\n",
    "nltk.download('wordnet')"
   ],
   "metadata": {
    "collapsed": false
   }
  },
  {
   "cell_type": "code",
   "execution_count": 234,
   "outputs": [],
   "source": [
    "tfidf_data = metadata.copy()"
   ],
   "metadata": {
    "collapsed": false
   }
  },
  {
   "cell_type": "markdown",
   "source": [
    "**Уберем знаки препинания**"
   ],
   "metadata": {
    "collapsed": false
   }
  },
  {
   "cell_type": "code",
   "execution_count": 235,
   "outputs": [
    {
     "data": {
      "text/plain": "      id    imdb_id                                           overview  \\\n0    862  tt0114709  led by woody andys toys live happily in his ro...   \n1   8844  tt0113497  when siblings judy and peter discover an encha...   \n2  15602  tt0113228  a family wedding reignites the ancient feud be...   \n3  31357  tt0114885  cheated on mistreated and stepped on the women...   \n4  11862  tt0113041  just when george banks has recovered from his ...   \n\n                         title  \n0                    Toy Story  \n1                      Jumanji  \n2             Grumpier Old Men  \n3            Waiting to Exhale  \n4  Father of the Bride Part II  ",
      "text/html": "<div>\n<style scoped>\n    .dataframe tbody tr th:only-of-type {\n        vertical-align: middle;\n    }\n\n    .dataframe tbody tr th {\n        vertical-align: top;\n    }\n\n    .dataframe thead th {\n        text-align: right;\n    }\n</style>\n<table border=\"1\" class=\"dataframe\">\n  <thead>\n    <tr style=\"text-align: right;\">\n      <th></th>\n      <th>id</th>\n      <th>imdb_id</th>\n      <th>overview</th>\n      <th>title</th>\n    </tr>\n  </thead>\n  <tbody>\n    <tr>\n      <th>0</th>\n      <td>862</td>\n      <td>tt0114709</td>\n      <td>led by woody andys toys live happily in his ro...</td>\n      <td>Toy Story</td>\n    </tr>\n    <tr>\n      <th>1</th>\n      <td>8844</td>\n      <td>tt0113497</td>\n      <td>when siblings judy and peter discover an encha...</td>\n      <td>Jumanji</td>\n    </tr>\n    <tr>\n      <th>2</th>\n      <td>15602</td>\n      <td>tt0113228</td>\n      <td>a family wedding reignites the ancient feud be...</td>\n      <td>Grumpier Old Men</td>\n    </tr>\n    <tr>\n      <th>3</th>\n      <td>31357</td>\n      <td>tt0114885</td>\n      <td>cheated on mistreated and stepped on the women...</td>\n      <td>Waiting to Exhale</td>\n    </tr>\n    <tr>\n      <th>4</th>\n      <td>11862</td>\n      <td>tt0113041</td>\n      <td>just when george banks has recovered from his ...</td>\n      <td>Father of the Bride Part II</td>\n    </tr>\n  </tbody>\n</table>\n</div>"
     },
     "metadata": {},
     "output_type": "display_data"
    }
   ],
   "source": [
    "def remove_punctuation(sentence):\n",
    "    for ch in string.punctuation:\n",
    "        sentence = sentence.replace(ch,\"\")\n",
    "    return sentence.lower()\n",
    "tfidf_data['overview'] = tfidf_data.apply(lambda row: remove_punctuation(row['overview']), axis=1)\n",
    "display(tfidf_data.head())"
   ],
   "metadata": {
    "collapsed": false
   }
  },
  {
   "cell_type": "code",
   "execution_count": 236,
   "outputs": [
    {
     "data": {
      "text/plain": "      id    imdb_id                                           overview  \\\n0    862  tt0114709  [led, by, woody, andys, toys, live, happily, i...   \n1   8844  tt0113497  [when, siblings, judy, and, peter, discover, a...   \n2  15602  tt0113228  [a, family, wedding, reignites, the, ancient, ...   \n3  31357  tt0114885  [cheated, on, mistreated, and, stepped, on, th...   \n4  11862  tt0113041  [just, when, george, banks, has, recovered, fr...   \n\n                         title  \n0                    Toy Story  \n1                      Jumanji  \n2             Grumpier Old Men  \n3            Waiting to Exhale  \n4  Father of the Bride Part II  ",
      "text/html": "<div>\n<style scoped>\n    .dataframe tbody tr th:only-of-type {\n        vertical-align: middle;\n    }\n\n    .dataframe tbody tr th {\n        vertical-align: top;\n    }\n\n    .dataframe thead th {\n        text-align: right;\n    }\n</style>\n<table border=\"1\" class=\"dataframe\">\n  <thead>\n    <tr style=\"text-align: right;\">\n      <th></th>\n      <th>id</th>\n      <th>imdb_id</th>\n      <th>overview</th>\n      <th>title</th>\n    </tr>\n  </thead>\n  <tbody>\n    <tr>\n      <th>0</th>\n      <td>862</td>\n      <td>tt0114709</td>\n      <td>[led, by, woody, andys, toys, live, happily, i...</td>\n      <td>Toy Story</td>\n    </tr>\n    <tr>\n      <th>1</th>\n      <td>8844</td>\n      <td>tt0113497</td>\n      <td>[when, siblings, judy, and, peter, discover, a...</td>\n      <td>Jumanji</td>\n    </tr>\n    <tr>\n      <th>2</th>\n      <td>15602</td>\n      <td>tt0113228</td>\n      <td>[a, family, wedding, reignites, the, ancient, ...</td>\n      <td>Grumpier Old Men</td>\n    </tr>\n    <tr>\n      <th>3</th>\n      <td>31357</td>\n      <td>tt0114885</td>\n      <td>[cheated, on, mistreated, and, stepped, on, th...</td>\n      <td>Waiting to Exhale</td>\n    </tr>\n    <tr>\n      <th>4</th>\n      <td>11862</td>\n      <td>tt0113041</td>\n      <td>[just, when, george, banks, has, recovered, fr...</td>\n      <td>Father of the Bride Part II</td>\n    </tr>\n  </tbody>\n</table>\n</div>"
     },
     "metadata": {},
     "output_type": "display_data"
    }
   ],
   "source": [
    "from nltk.tokenize import word_tokenize\n",
    "tfidf_data['overview'] = tfidf_data.apply(lambda row: word_tokenize(row['overview'], language='english'), axis=1)\n",
    "display(tfidf_data.head())"
   ],
   "metadata": {
    "collapsed": false
   }
  },
  {
   "cell_type": "markdown",
   "source": [
    "**Лемматизация**"
   ],
   "metadata": {
    "collapsed": false
   }
  },
  {
   "cell_type": "code",
   "execution_count": 237,
   "outputs": [],
   "source": [
    "%%capture\n",
    "!pip install pymorphy2\n",
    "from pymorphy2 import MorphAnalyzer"
   ],
   "metadata": {
    "collapsed": false
   }
  },
  {
   "cell_type": "code",
   "execution_count": 238,
   "outputs": [
    {
     "name": "stdout",
     "output_type": "stream",
     "text": [
      "мышь\n"
     ]
    }
   ],
   "source": [
    "# проверка\n",
    "morph = MorphAnalyzer()\n",
    "print(morph.parse('мыши')[0].normal_form)"
   ],
   "metadata": {
    "collapsed": false
   }
  },
  {
   "cell_type": "code",
   "execution_count": 239,
   "outputs": [
    {
     "data": {
      "text/plain": "      id    imdb_id                                           overview  \\\n0    862  tt0114709  [led, by, woody, andys, toys, live, happily, i...   \n1   8844  tt0113497  [when, siblings, judy, and, peter, discover, a...   \n2  15602  tt0113228  [a, family, wedding, reignites, the, ancient, ...   \n3  31357  tt0114885  [cheated, on, mistreated, and, stepped, on, th...   \n4  11862  tt0113041  [just, when, george, banks, has, recovered, fr...   \n\n                         title  \n0                    Toy Story  \n1                      Jumanji  \n2             Grumpier Old Men  \n3            Waiting to Exhale  \n4  Father of the Bride Part II  ",
      "text/html": "<div>\n<style scoped>\n    .dataframe tbody tr th:only-of-type {\n        vertical-align: middle;\n    }\n\n    .dataframe tbody tr th {\n        vertical-align: top;\n    }\n\n    .dataframe thead th {\n        text-align: right;\n    }\n</style>\n<table border=\"1\" class=\"dataframe\">\n  <thead>\n    <tr style=\"text-align: right;\">\n      <th></th>\n      <th>id</th>\n      <th>imdb_id</th>\n      <th>overview</th>\n      <th>title</th>\n    </tr>\n  </thead>\n  <tbody>\n    <tr>\n      <th>0</th>\n      <td>862</td>\n      <td>tt0114709</td>\n      <td>[led, by, woody, andys, toys, live, happily, i...</td>\n      <td>Toy Story</td>\n    </tr>\n    <tr>\n      <th>1</th>\n      <td>8844</td>\n      <td>tt0113497</td>\n      <td>[when, siblings, judy, and, peter, discover, a...</td>\n      <td>Jumanji</td>\n    </tr>\n    <tr>\n      <th>2</th>\n      <td>15602</td>\n      <td>tt0113228</td>\n      <td>[a, family, wedding, reignites, the, ancient, ...</td>\n      <td>Grumpier Old Men</td>\n    </tr>\n    <tr>\n      <th>3</th>\n      <td>31357</td>\n      <td>tt0114885</td>\n      <td>[cheated, on, mistreated, and, stepped, on, th...</td>\n      <td>Waiting to Exhale</td>\n    </tr>\n    <tr>\n      <th>4</th>\n      <td>11862</td>\n      <td>tt0113041</td>\n      <td>[just, when, george, banks, has, recovered, fr...</td>\n      <td>Father of the Bride Part II</td>\n    </tr>\n  </tbody>\n</table>\n</div>"
     },
     "metadata": {},
     "output_type": "display_data"
    }
   ],
   "source": [
    "def lemmatize(sentence):\n",
    "    return [morph.parse(w)[0].normal_form for w in sentence]\n",
    "tfidf_data['overview'] = tfidf_data.apply(lambda row: lemmatize(row['overview']), axis=1)\n",
    "display(tfidf_data.head())"
   ],
   "metadata": {
    "collapsed": false
   }
  },
  {
   "cell_type": "code",
   "execution_count": 242,
   "outputs": [
    {
     "data": {
      "text/plain": "      id    imdb_id                                           overview  \\\n0    862  tt0114709  led by woody andys toys live happily in his ro...   \n1   8844  tt0113497  when siblings judy and peter discover an encha...   \n2  15602  tt0113228  a family wedding reignites the ancient feud be...   \n3  31357  tt0114885  cheated on mistreated and stepped on the women...   \n4  11862  tt0113041  just when george banks has recovered from his ...   \n\n                         title  \n0                    Toy Story  \n1                      Jumanji  \n2             Grumpier Old Men  \n3            Waiting to Exhale  \n4  Father of the Bride Part II  ",
      "text/html": "<div>\n<style scoped>\n    .dataframe tbody tr th:only-of-type {\n        vertical-align: middle;\n    }\n\n    .dataframe tbody tr th {\n        vertical-align: top;\n    }\n\n    .dataframe thead th {\n        text-align: right;\n    }\n</style>\n<table border=\"1\" class=\"dataframe\">\n  <thead>\n    <tr style=\"text-align: right;\">\n      <th></th>\n      <th>id</th>\n      <th>imdb_id</th>\n      <th>overview</th>\n      <th>title</th>\n    </tr>\n  </thead>\n  <tbody>\n    <tr>\n      <th>0</th>\n      <td>862</td>\n      <td>tt0114709</td>\n      <td>led by woody andys toys live happily in his ro...</td>\n      <td>Toy Story</td>\n    </tr>\n    <tr>\n      <th>1</th>\n      <td>8844</td>\n      <td>tt0113497</td>\n      <td>when siblings judy and peter discover an encha...</td>\n      <td>Jumanji</td>\n    </tr>\n    <tr>\n      <th>2</th>\n      <td>15602</td>\n      <td>tt0113228</td>\n      <td>a family wedding reignites the ancient feud be...</td>\n      <td>Grumpier Old Men</td>\n    </tr>\n    <tr>\n      <th>3</th>\n      <td>31357</td>\n      <td>tt0114885</td>\n      <td>cheated on mistreated and stepped on the women...</td>\n      <td>Waiting to Exhale</td>\n    </tr>\n    <tr>\n      <th>4</th>\n      <td>11862</td>\n      <td>tt0113041</td>\n      <td>just when george banks has recovered from his ...</td>\n      <td>Father of the Bride Part II</td>\n    </tr>\n  </tbody>\n</table>\n</div>"
     },
     "metadata": {},
     "output_type": "display_data"
    }
   ],
   "source": [
    "def convert_to_string(sentence):\n",
    "    return ' '.join(sentence)\n",
    "tfidf_data['overview'] = tfidf_data.apply(lambda row: convert_to_string(row['overview']), axis=1)\n",
    "display(tfidf_data.head())"
   ],
   "metadata": {
    "collapsed": false
   }
  },
  {
   "cell_type": "code",
   "execution_count": 240,
   "outputs": [],
   "source": [
    "from sklearn.feature_extraction.text import TfidfVectorizer\n",
    "tf = TfidfVectorizer(analyzer='word', ngram_range=(1, 2), min_df=0, stop_words=\"english\")"
   ],
   "metadata": {
    "collapsed": false
   }
  },
  {
   "cell_type": "code",
   "execution_count": 243,
   "outputs": [
    {
     "data": {
      "text/plain": "(43856, 1055410)"
     },
     "execution_count": 243,
     "metadata": {},
     "output_type": "execute_result"
    }
   ],
   "source": [
    "tfidf_matrix = tf.fit_transform(tfidf_data['overview'])\n",
    "tfidf_matrix.shape"
   ],
   "metadata": {
    "collapsed": false
   }
  },
  {
   "cell_type": "code",
   "execution_count": 244,
   "outputs": [],
   "source": [
    "from sklearn.metrics.pairwise import cosine_similarity\n",
    "cosine_sim = cosine_similarity(tfidf_matrix)"
   ],
   "metadata": {
    "collapsed": false
   }
  },
  {
   "cell_type": "code",
   "execution_count": 245,
   "outputs": [],
   "source": [
    "cosine_sim_df = pd.DataFrame(cosine_sim, index=tfidf_data['title'], columns=tfidf_data['title'])"
   ],
   "metadata": {
    "collapsed": false
   }
  },
  {
   "cell_type": "code",
   "execution_count": 246,
   "outputs": [
    {
     "data": {
      "text/plain": "title                       Pure  Blood Diner  \\\ntitle                                           \nBedrooms and Hallways   0.009968     0.003877   \nThe Admirable Crichton  0.000000     0.000000   \nThe Lost Weekend        0.000000     0.000000   \nCar Trouble             0.000000     0.007397   \nRed Eagle               0.000000     0.005696   \nWalkabout               0.006559     0.000000   \nSide Street             0.003650     0.002755   \nDr. Black, Mr. Hyde     0.000000     0.000000   \nAtomic Age              0.002968     0.004774   \nCenizas del Paraiso     0.000000     0.000000   \n\ntitle                   Bleach: The DiamondDust Rebellion  \\\ntitle                                                       \nBedrooms and Hallways                            0.000000   \nThe Admirable Crichton                           0.000000   \nThe Lost Weekend                                 0.000000   \nCar Trouble                                      0.000000   \nRed Eagle                                        0.004426   \nWalkabout                                        0.000000   \nSide Street                                      0.000000   \nDr. Black, Mr. Hyde                              0.000000   \nAtomic Age                                       0.000000   \nCenizas del Paraiso                              0.000000   \n\ntitle                   Vieni avanti cretino  When You Comin' Back, Red Ryder?  \ntitle                                                                           \nBedrooms and Hallways                    0.0                          0.000000  \nThe Admirable Crichton                   0.0                          0.000000  \nThe Lost Weekend                         0.0                          0.000000  \nCar Trouble                              0.0                          0.010494  \nRed Eagle                                0.0                          0.008387  \nWalkabout                                0.0                          0.000000  \nSide Street                              0.0                          0.000000  \nDr. Black, Mr. Hyde                      0.0                          0.000000  \nAtomic Age                               0.0                          0.000000  \nCenizas del Paraiso                      0.0                          0.000000  ",
      "text/html": "<div>\n<style scoped>\n    .dataframe tbody tr th:only-of-type {\n        vertical-align: middle;\n    }\n\n    .dataframe tbody tr th {\n        vertical-align: top;\n    }\n\n    .dataframe thead th {\n        text-align: right;\n    }\n</style>\n<table border=\"1\" class=\"dataframe\">\n  <thead>\n    <tr style=\"text-align: right;\">\n      <th>title</th>\n      <th>Pure</th>\n      <th>Blood Diner</th>\n      <th>Bleach: The DiamondDust Rebellion</th>\n      <th>Vieni avanti cretino</th>\n      <th>When You Comin' Back, Red Ryder?</th>\n    </tr>\n    <tr>\n      <th>title</th>\n      <th></th>\n      <th></th>\n      <th></th>\n      <th></th>\n      <th></th>\n    </tr>\n  </thead>\n  <tbody>\n    <tr>\n      <th>Bedrooms and Hallways</th>\n      <td>0.009968</td>\n      <td>0.003877</td>\n      <td>0.000000</td>\n      <td>0.0</td>\n      <td>0.000000</td>\n    </tr>\n    <tr>\n      <th>The Admirable Crichton</th>\n      <td>0.000000</td>\n      <td>0.000000</td>\n      <td>0.000000</td>\n      <td>0.0</td>\n      <td>0.000000</td>\n    </tr>\n    <tr>\n      <th>The Lost Weekend</th>\n      <td>0.000000</td>\n      <td>0.000000</td>\n      <td>0.000000</td>\n      <td>0.0</td>\n      <td>0.000000</td>\n    </tr>\n    <tr>\n      <th>Car Trouble</th>\n      <td>0.000000</td>\n      <td>0.007397</td>\n      <td>0.000000</td>\n      <td>0.0</td>\n      <td>0.010494</td>\n    </tr>\n    <tr>\n      <th>Red Eagle</th>\n      <td>0.000000</td>\n      <td>0.005696</td>\n      <td>0.004426</td>\n      <td>0.0</td>\n      <td>0.008387</td>\n    </tr>\n    <tr>\n      <th>Walkabout</th>\n      <td>0.006559</td>\n      <td>0.000000</td>\n      <td>0.000000</td>\n      <td>0.0</td>\n      <td>0.000000</td>\n    </tr>\n    <tr>\n      <th>Side Street</th>\n      <td>0.003650</td>\n      <td>0.002755</td>\n      <td>0.000000</td>\n      <td>0.0</td>\n      <td>0.000000</td>\n    </tr>\n    <tr>\n      <th>Dr. Black, Mr. Hyde</th>\n      <td>0.000000</td>\n      <td>0.000000</td>\n      <td>0.000000</td>\n      <td>0.0</td>\n      <td>0.000000</td>\n    </tr>\n    <tr>\n      <th>Atomic Age</th>\n      <td>0.002968</td>\n      <td>0.004774</td>\n      <td>0.000000</td>\n      <td>0.0</td>\n      <td>0.000000</td>\n    </tr>\n    <tr>\n      <th>Cenizas del Paraiso</th>\n      <td>0.000000</td>\n      <td>0.000000</td>\n      <td>0.000000</td>\n      <td>0.0</td>\n      <td>0.000000</td>\n    </tr>\n  </tbody>\n</table>\n</div>"
     },
     "execution_count": 246,
     "metadata": {},
     "output_type": "execute_result"
    }
   ],
   "source": [
    "cosine_sim_df.sample(5, axis=1).sample(10, axis=0)"
   ],
   "metadata": {
    "collapsed": false
   }
  },
  {
   "cell_type": "markdown",
   "source": [],
   "metadata": {
    "collapsed": false
   }
  },
  {
   "cell_type": "code",
   "execution_count": 300,
   "outputs": [],
   "source": [
    "def build_recommendations(movie_title, similarity_df, output_df, k=10):\n",
    "    # взять k самых больших значений из матрицы похожести по movie_title\n",
    "    ix = similarity_df.loc[:,movie_title].to_numpy().argpartition(range(-1,-k,-1))\n",
    "    # взять k + 1 названия колонок по полученным на предыдущем шаге id колонок\n",
    "    closest = similarity_df.columns[ix[-1:-(k+2):-1]]\n",
    "    closest = closest.drop(movie_title, errors='ignore')\n",
    "    return pd.DataFrame(closest).merge(output_df).head(k)"
   ],
   "metadata": {
    "collapsed": false
   }
  },
  {
   "cell_type": "code",
   "execution_count": 252,
   "outputs": [
    {
     "data": {
      "text/plain": "                            title  \\\n0     Jonathan Rosenbaum, Present   \n1                  The Last Ferry   \n2                     Life Itself   \n3                     City Lights   \n4        Fracchia The Human Beast   \n5                   Mister Lonely   \n6  Role Play: Women on Fassbinder   \n7                          Angele   \n8                       Film Geek   \n9                        The Wall   \n\n                                            overview  \n0  a portrait of the influential american film cr...  \n1                                        directed by  \n2  life itself recounts the surprising and entert...  \n3  city lights is the first silent film that char...  \n4  the worlds greatest criminal and the world gre...  \n5  in paris a young american who works as a micha...  \n6  interviews with four women who were important ...  \n7  angèle is a 1934 french drama film directed pr...  \n8  the story of scotty pelk a socially inept vide...  \n9  a woman inexplicably finds herself cut off fro...  ",
      "text/html": "<div>\n<style scoped>\n    .dataframe tbody tr th:only-of-type {\n        vertical-align: middle;\n    }\n\n    .dataframe tbody tr th {\n        vertical-align: top;\n    }\n\n    .dataframe thead th {\n        text-align: right;\n    }\n</style>\n<table border=\"1\" class=\"dataframe\">\n  <thead>\n    <tr style=\"text-align: right;\">\n      <th></th>\n      <th>title</th>\n      <th>overview</th>\n    </tr>\n  </thead>\n  <tbody>\n    <tr>\n      <th>0</th>\n      <td>Jonathan Rosenbaum, Present</td>\n      <td>a portrait of the influential american film cr...</td>\n    </tr>\n    <tr>\n      <th>1</th>\n      <td>The Last Ferry</td>\n      <td>directed by</td>\n    </tr>\n    <tr>\n      <th>2</th>\n      <td>Life Itself</td>\n      <td>life itself recounts the surprising and entert...</td>\n    </tr>\n    <tr>\n      <th>3</th>\n      <td>City Lights</td>\n      <td>city lights is the first silent film that char...</td>\n    </tr>\n    <tr>\n      <th>4</th>\n      <td>Fracchia The Human Beast</td>\n      <td>the worlds greatest criminal and the world gre...</td>\n    </tr>\n    <tr>\n      <th>5</th>\n      <td>Mister Lonely</td>\n      <td>in paris a young american who works as a micha...</td>\n    </tr>\n    <tr>\n      <th>6</th>\n      <td>Role Play: Women on Fassbinder</td>\n      <td>interviews with four women who were important ...</td>\n    </tr>\n    <tr>\n      <th>7</th>\n      <td>Angele</td>\n      <td>angèle is a 1934 french drama film directed pr...</td>\n    </tr>\n    <tr>\n      <th>8</th>\n      <td>Film Geek</td>\n      <td>the story of scotty pelk a socially inept vide...</td>\n    </tr>\n    <tr>\n      <th>9</th>\n      <td>The Wall</td>\n      <td>a woman inexplicably finds herself cut off fro...</td>\n    </tr>\n  </tbody>\n</table>\n</div>"
     },
     "execution_count": 252,
     "metadata": {},
     "output_type": "execute_result"
    }
   ],
   "source": [
    "build_recommendations('Charlie: The Life and Art of Charles Chaplin', cosine_sim_df, tfidf_data[['title', 'overview']])"
   ],
   "metadata": {
    "collapsed": false
   }
  },
  {
   "cell_type": "code",
   "execution_count": 253,
   "outputs": [
    {
     "data": {
      "text/plain": "                        title  \\\n0                   Word Wars   \n1                     The Bar   \n2                Table No. 21   \n3                     Quintet   \n4           Liar Game: Reborn   \n5             Le Pont du Nord   \n6  Doctor Who: Last Christmas   \n7           Not Safe for Work   \n8          The Ouija Exorcism   \n9                  Rhinoceros   \n\n                                            overview  \n0  the classic board game scrabble has been popul...  \n1      a group of strangers are trapped inside a bar  \n2  a couple live a mediocre life and are thrilled...  \n3  during a future ice age dying humanity occupie...  \n4  to exact revenge the liar game office is reviv...  \n5  marie is just out from prison when she runs in...  \n6  the doctor and clara face their last christmas...  \n7  an office worker is trapped inside the buildin...  \n8  in 1985 a celebrated exorcist trapped a horrif...  \n9  originally an absurdist play by eugene ionesco...  ",
      "text/html": "<div>\n<style scoped>\n    .dataframe tbody tr th:only-of-type {\n        vertical-align: middle;\n    }\n\n    .dataframe tbody tr th {\n        vertical-align: top;\n    }\n\n    .dataframe thead th {\n        text-align: right;\n    }\n</style>\n<table border=\"1\" class=\"dataframe\">\n  <thead>\n    <tr style=\"text-align: right;\">\n      <th></th>\n      <th>title</th>\n      <th>overview</th>\n    </tr>\n  </thead>\n  <tbody>\n    <tr>\n      <th>0</th>\n      <td>Word Wars</td>\n      <td>the classic board game scrabble has been popul...</td>\n    </tr>\n    <tr>\n      <th>1</th>\n      <td>The Bar</td>\n      <td>a group of strangers are trapped inside a bar</td>\n    </tr>\n    <tr>\n      <th>2</th>\n      <td>Table No. 21</td>\n      <td>a couple live a mediocre life and are thrilled...</td>\n    </tr>\n    <tr>\n      <th>3</th>\n      <td>Quintet</td>\n      <td>during a future ice age dying humanity occupie...</td>\n    </tr>\n    <tr>\n      <th>4</th>\n      <td>Liar Game: Reborn</td>\n      <td>to exact revenge the liar game office is reviv...</td>\n    </tr>\n    <tr>\n      <th>5</th>\n      <td>Le Pont du Nord</td>\n      <td>marie is just out from prison when she runs in...</td>\n    </tr>\n    <tr>\n      <th>6</th>\n      <td>Doctor Who: Last Christmas</td>\n      <td>the doctor and clara face their last christmas...</td>\n    </tr>\n    <tr>\n      <th>7</th>\n      <td>Not Safe for Work</td>\n      <td>an office worker is trapped inside the buildin...</td>\n    </tr>\n    <tr>\n      <th>8</th>\n      <td>The Ouija Exorcism</td>\n      <td>in 1985 a celebrated exorcist trapped a horrif...</td>\n    </tr>\n    <tr>\n      <th>9</th>\n      <td>Rhinoceros</td>\n      <td>originally an absurdist play by eugene ionesco...</td>\n    </tr>\n  </tbody>\n</table>\n</div>"
     },
     "execution_count": 253,
     "metadata": {},
     "output_type": "execute_result"
    }
   ],
   "source": [
    "build_recommendations('Jumanji', cosine_sim_df, tfidf_data[['title', 'overview']])"
   ],
   "metadata": {
    "collapsed": false
   }
  },
  {
   "cell_type": "code",
   "execution_count": 329,
   "outputs": [],
   "source": [
    "# сравниваем оценку на фильм colaborative filtration и саму оценку пользователя для этого фильма\n",
    "def tfidf_recommendation_correctness(user_count):\n",
    "    # взять рандомного юзера у которого ревью больше 30\n",
    "    # выбираем фильмы у которого он поставил оценку больше =  4 =  N, // 5 фильмов\n",
    "    # если их меньше 2, он нам не подходит\n",
    "    # выбираем один из любимых и ищем похожие фильмы N - 1 // находим 4 фильма\n",
    "    # совпали с теми  // 4/4\n",
    "    random_users = []\n",
    "    while len(random_users) < user_count:\n",
    "        user = pick_random_user(data, 666).index[0]\n",
    "        random_users.append(user)\n",
    "        films = critics[user]\n",
    "        films_to_find = []\n",
    "        for film_id in films.keys():\n",
    "            if films[film_id] >= 4:\n",
    "                films_to_find.append(film_id)\n",
    "        if  len(films_to_find) < 2:\n",
    "            break\n",
    "        film_id = films_to_find[0]\n",
    "        film_name = metadata.loc[metadata['id'] == film_id]['title'].tolist()[0]\n",
    "        recommendations_found = build_recommendations(film_name, cosine_sim_df, tfidf_data[['title','id']],\n",
    "                                                       k=len(films_to_find) - 1)['id'].tolist()\n",
    "\n",
    "        hits = 0\n",
    "        for recommendation_id in recommendations_found:\n",
    "            if recommendation_id in films_to_find:\n",
    "                hits += 1\n",
    "        print(f\"films guessed {hits}\")"
   ],
   "metadata": {
    "collapsed": false
   }
  },
  {
   "cell_type": "code",
   "execution_count": 330,
   "outputs": [
    {
     "name": "stdout",
     "output_type": "stream",
     "text": [
      "films guessed 8\n"
     ]
    }
   ],
   "source": [
    "tfidf_recommendation_correctness(1)"
   ],
   "metadata": {
    "collapsed": false
   }
  },
  {
   "cell_type": "code",
   "execution_count": null,
   "outputs": [],
   "source": [],
   "metadata": {
    "collapsed": false
   }
  }
 ]
}
