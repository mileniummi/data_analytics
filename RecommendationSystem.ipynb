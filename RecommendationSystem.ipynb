{
 "nbformat": 4,
 "nbformat_minor": 0,
 "metadata": {
  "colab": {
   "provenance": []
  },
  "kernelspec": {
   "display_name": "Python 3",
   "language": "python",
   "name": "python3"
  },
  "language_info": {
   "codemirror_mode": {
    "name": "ipython",
    "version": 3
   },
   "file_extension": ".py",
   "mimetype": "text/x-python",
   "name": "python",
   "nbconvert_exporter": "python",
   "pygments_lexer": "ipython3",
   "version": "3.8.5"
  },
  "gpuClass": "standard"
 },
 "cells": [
  {
   "cell_type": "markdown",
   "metadata": {
    "id": "9p4V680CkDk9"
   },
   "source": [
    "# The Movies Dataset TF-IDF Content-Based Recommendation"
   ]
  },
  {
   "cell_type": "markdown",
   "source": [
    "##Понимание данных:"
   ],
   "metadata": {
    "id": "c7EZV5qHpz0f"
   }
  },
  {
   "cell_type": "markdown",
   "metadata": {
    "id": "6LjaWDDidlE0"
   },
   "source": [
    "### Набор данных"
   ]
  },
  {
   "cell_type": "markdown",
   "metadata": {
    "id": "bYr4k6hldlE1"
   },
   "source": [
    "Дан набор данных, содержащий информацию о 45,000 фильмах, выпущенных до июля 2017 года. Набор данных представлен на ресурсе Kaggle по ссылке https://www.kaggle.com/rounakbanik/the-movies-dataset\n",
    "где представлено следующее описание составляющих файлов (выполнен перевод на русский язык):"
   ]
  },
  {
   "cell_type": "markdown",
   "metadata": {
    "id": "X9NqoYy3kQHB"
   },
   "source": [
    "`movies_metadata.csv:` Основной файл метаданных фильмов. Содержит информацию о 45 000 фильмов, представленных в наборе данных Full MovieLens. В таблицы представлены плакаты, фоны, бюджет, доход, даты выпуска, языки, страны-производители и компании.\n",
    "\n",
    "`keywords.csv:` Содержит ключевые слова сюжета для наших фильмов MovieLens. Доступен в виде строкового объекта JSON.\n",
    "\n",
    "`credits.csv:` Состоит из информации об актерах и съемках всех наших фильмов. Доступен в виде строкового объекта JSON. \n",
    "\n",
    "`links.csv:` Файл содержит идентификаторы TMDB и IMDB всех фильмов, представленных в наборе данных Full MovieLens.\n",
    "\n",
    "`links_small.csv:` Содержит идентификаторы TMDB и IMDB небольшого подмножества из 9000 фильмов полного набора данных.\n",
    "\n",
    "`ratings_small.csv:` Подмножество 100 000 оценок от 700 пользователей на 9 000 фильмов.\n",
    "\n",
    "`ratings.csv `- файл, содержащий полный список оценок, выставленных пользователями фильмам\n",
    "\n"
   ]
  },
  {
   "cell_type": "markdown",
   "metadata": {
    "id": "Uw1KKxsgdlE4"
   },
   "source": [
    "Рассмотрим подробнее две таблицы:"
   ]
  },
  {
   "cell_type": "markdown",
   "metadata": {
    "id": "s2KeDbdAdlE4"
   },
   "source": [
    "*   `movies_metadata.csv `\n",
    "*   `ratings.csv `"
   ]
  },
  {
   "cell_type": "code",
   "metadata": {
    "id": "l7PzPczhAF63"
   },
   "source": [
    "import pandas as pd\n",
    "import numpy as np"
   ],
   "execution_count": 1,
   "outputs": []
  },
  {
   "cell_type": "code",
   "source": [
    "! pip install --upgrade --no-cache-dir gdown"
   ],
   "metadata": {
    "colab": {
     "base_uri": "https://localhost:8080/"
    },
    "id": "aZyzhbwY5Y8Y",
    "outputId": "de055302-ad0c-437f-d694-77c482d52411"
   },
   "execution_count": 2,
   "outputs": [
    {
     "name": "stdout",
     "output_type": "stream",
     "text": [
      "Requirement already satisfied: gdown in c:\\users\\milen\\appdata\\local\\programs\\python\\python39\\lib\\site-packages (4.6.4)"
     ]
    },
    {
     "name": "stderr",
     "output_type": "stream",
     "text": [
      "WARNING: You are using pip version 22.0.4; however, version 23.0.1 is available.\n",
      "You should consider upgrading via the 'C:\\Users\\milen\\AppData\\Local\\Programs\\Python\\Python39\\python.exe -m pip install --upgrade pip' command.\n"
     ]
    },
    {
     "name": "stdout",
     "output_type": "stream",
     "text": [
      "\n",
      "Requirement already satisfied: tqdm in c:\\users\\milen\\appdata\\local\\programs\\python\\python39\\lib\\site-packages (from gdown) (4.65.0)\n",
      "Requirement already satisfied: filelock in c:\\users\\milen\\appdata\\local\\programs\\python\\python39\\lib\\site-packages (from gdown) (3.9.0)\n",
      "Requirement already satisfied: six in c:\\users\\milen\\appdata\\local\\programs\\python\\python39\\lib\\site-packages (from gdown) (1.16.0)\n",
      "Requirement already satisfied: beautifulsoup4 in c:\\users\\milen\\appdata\\local\\programs\\python\\python39\\lib\\site-packages (from gdown) (4.11.2)\n",
      "Requirement already satisfied: requests[socks] in c:\\users\\milen\\appdata\\local\\programs\\python\\python39\\lib\\site-packages (from gdown) (2.28.2)\n",
      "Requirement already satisfied: soupsieve>1.2 in c:\\users\\milen\\appdata\\local\\programs\\python\\python39\\lib\\site-packages (from beautifulsoup4->gdown) (2.4)\n",
      "Requirement already satisfied: idna<4,>=2.5 in c:\\users\\milen\\appdata\\local\\programs\\python\\python39\\lib\\site-packages (from requests[socks]->gdown) (3.4)\n",
      "Requirement already satisfied: urllib3<1.27,>=1.21.1 in c:\\users\\milen\\appdata\\local\\programs\\python\\python39\\lib\\site-packages (from requests[socks]->gdown) (1.26.14)\n",
      "Requirement already satisfied: charset-normalizer<4,>=2 in c:\\users\\milen\\appdata\\local\\programs\\python\\python39\\lib\\site-packages (from requests[socks]->gdown) (3.1.0)\n",
      "Requirement already satisfied: certifi>=2017.4.17 in c:\\users\\milen\\appdata\\local\\programs\\python\\python39\\lib\\site-packages (from requests[socks]->gdown) (2022.12.7)\n",
      "Requirement already satisfied: PySocks!=1.5.7,>=1.5.6 in c:\\users\\milen\\appdata\\local\\programs\\python\\python39\\lib\\site-packages (from requests[socks]->gdown) (1.7.1)\n",
      "Requirement already satisfied: colorama in c:\\users\\milen\\appdata\\local\\programs\\python\\python39\\lib\\site-packages (from tqdm->gdown) (0.4.6)\n"
     ]
    }
   ]
  },
  {
   "cell_type": "code",
   "metadata": {
    "colab": {
     "base_uri": "https://localhost:8080/"
    },
    "id": "H0lOsH_JdvWk",
    "outputId": "6b660d93-9afa-4e1c-ec79-d6eb70d62c58"
   },
   "source": [
    "#!gdown 14LeiPV598IHba4rGi07mhfC7O2Iw-NoL"
   ],
   "execution_count": 3,
   "outputs": []
  },
  {
   "cell_type": "code",
   "source": [
    "#!gdown 17nemNXYD8D_rNdWSgVbcBrrNAozxTWgg"
   ],
   "metadata": {
    "colab": {
     "base_uri": "https://localhost:8080/"
    },
    "id": "ux-ilGHh75DD",
    "outputId": "d41b54a4-fe7f-4a57-e5cb-46386d7247fd"
   },
   "execution_count": 4,
   "outputs": []
  },
  {
   "cell_type": "markdown",
   "source": [
    "Начинаем с анализа датафрейма movies_metadata"
   ],
   "metadata": {
    "id": "7qhC1HNfsKQt"
   }
  },
  {
   "cell_type": "markdown",
   "source": [
    "## Задание 1"
   ],
   "metadata": {
    "id": "gV0jRXVz9lPU"
   }
  },
  {
   "cell_type": "code",
   "metadata": {
    "id": "w_HKKqGQgVzn",
    "colab": {
     "base_uri": "https://localhost:8080/"
    },
    "outputId": "6a2afdc7-0235-4f66-eb3a-1fe3691a91ab"
   },
   "source": [
    "metadata = pd.read_csv(\"movies_metadata.csv\")"
   ],
   "execution_count": 260,
   "outputs": [
    {
     "name": "stderr",
     "output_type": "stream",
     "text": [
      "C:\\Users\\milen\\AppData\\Local\\Temp\\ipykernel_16056\\1912714352.py:1: DtypeWarning: Columns (10) have mixed types. Specify dtype option on import or set low_memory=False.\n",
      "  metadata = pd.read_csv(\"movies_metadata.csv\")\n"
     ]
    }
   ]
  },
  {
   "cell_type": "code",
   "source": [
    "metadata.info()"
   ],
   "metadata": {
    "colab": {
     "base_uri": "https://localhost:8080/"
    },
    "id": "O5Mbl_fUZPDG",
    "outputId": "74d450d1-ae49-47cd-a5b2-e187f9c5d5fd"
   },
   "execution_count": 268,
   "outputs": [
    {
     "name": "stdout",
     "output_type": "stream",
     "text": [
      "<class 'pandas.core.frame.DataFrame'>\n",
      "RangeIndex: 45466 entries, 0 to 45465\n",
      "Data columns (total 24 columns):\n",
      " #   Column                 Non-Null Count  Dtype  \n",
      "---  ------                 --------------  -----  \n",
      " 0   adult                  45466 non-null  object \n",
      " 1   belongs_to_collection  4494 non-null   object \n",
      " 2   budget                 45466 non-null  object \n",
      " 3   genres                 45466 non-null  object \n",
      " 4   homepage               7782 non-null   object \n",
      " 5   id                     45466 non-null  object \n",
      " 6   imdb_id                45449 non-null  object \n",
      " 7   original_language      45455 non-null  object \n",
      " 8   original_title         45466 non-null  object \n",
      " 9   overview               44512 non-null  object \n",
      " 10  popularity             45461 non-null  object \n",
      " 11  poster_path            45080 non-null  object \n",
      " 12  production_companies   45463 non-null  object \n",
      " 13  production_countries   45463 non-null  object \n",
      " 14  release_date           45379 non-null  object \n",
      " 15  revenue                45460 non-null  float64\n",
      " 16  runtime                45203 non-null  float64\n",
      " 17  spoken_languages       45460 non-null  object \n",
      " 18  status                 45379 non-null  object \n",
      " 19  tagline                20412 non-null  object \n",
      " 20  title                  45460 non-null  object \n",
      " 21  video                  45460 non-null  object \n",
      " 22  vote_average           45460 non-null  float64\n",
      " 23  vote_count             45460 non-null  float64\n",
      "dtypes: float64(4), object(20)\n",
      "memory usage: 8.3+ MB\n"
     ]
    }
   ]
  },
  {
   "cell_type": "markdown",
   "source": [
    "Удалите из датафрейма metadata строки, в которых отсутствует описание. Обратите внимание, что у некоторых фильмов формально описание есть, но там написано No overview found, No overview, No movie overview available, Released. Такие строки тоже нужно удалить. "
   ],
   "metadata": {
    "id": "ZUIzBKCL9o2O"
   }
  },
  {
   "cell_type": "code",
   "source": [
    "metadata = metadata[metadata['overview'].notnull()]\n"
   ],
   "metadata": {
    "id": "6ci5NoLlnOip"
   },
   "execution_count": 269,
   "outputs": []
  },
  {
   "cell_type": "code",
   "source": [
    "no_overview_string = ['No overview found','No Overview', 'No movie overview available', 'Released']\n",
    "\n",
    "def filter_inapropriate_overviews(overview):\n",
    "    for no_overview in no_overview_string:\n",
    "      if no_overview.lower() in overview.lower():\n",
    "        return None\n",
    "    if len(overview.split()) <= 1:\n",
    "      return None\n",
    "    return overview"
   ],
   "metadata": {
    "id": "TeBTYD_6kCr5"
   },
   "execution_count": 270,
   "outputs": []
  },
  {
   "cell_type": "code",
   "source": [
    "metadata['overview'] = metadata.apply(lambda row: filter_inapropriate_overviews(row['overview']), axis=1)\n",
    "metadata = metadata[metadata['overview'].notnull()]"
   ],
   "metadata": {
    "id": "ncqRN7wqhp6F"
   },
   "execution_count": 271,
   "outputs": [
    {
     "name": "stderr",
     "output_type": "stream",
     "text": [
      "C:\\Users\\milen\\AppData\\Local\\Temp\\ipykernel_16056\\3804731966.py:1: SettingWithCopyWarning: \n",
      "A value is trying to be set on a copy of a slice from a DataFrame.\n",
      "Try using .loc[row_indexer,col_indexer] = value instead\n",
      "\n",
      "See the caveats in the documentation: https://pandas.pydata.org/pandas-docs/stable/user_guide/indexing.html#returning-a-view-versus-a-copy\n",
      "  metadata['overview'] = metadata.apply(lambda row: filter_inapropriate_overviews(row['overview']), axis=1)\n"
     ]
    }
   ]
  },
  {
   "cell_type": "code",
   "source": [
    "metadata.info()"
   ],
   "metadata": {
    "colab": {
     "base_uri": "https://localhost:8080/"
    },
    "id": "6yLCzvHIwNLw",
    "outputId": "1bd44f88-5dde-4348-f4d3-4e375db21583"
   },
   "execution_count": 272,
   "outputs": [
    {
     "name": "stdout",
     "output_type": "stream",
     "text": [
      "<class 'pandas.core.frame.DataFrame'>\n",
      "Int64Index: 43856 entries, 0 to 45465\n",
      "Data columns (total 24 columns):\n",
      " #   Column                 Non-Null Count  Dtype  \n",
      "---  ------                 --------------  -----  \n",
      " 0   adult                  43856 non-null  object \n",
      " 1   belongs_to_collection  4360 non-null   object \n",
      " 2   budget                 43856 non-null  object \n",
      " 3   genres                 43856 non-null  object \n",
      " 4   homepage               7674 non-null   object \n",
      " 5   id                     43856 non-null  object \n",
      " 6   imdb_id                43841 non-null  object \n",
      " 7   original_language      43846 non-null  object \n",
      " 8   original_title         43856 non-null  object \n",
      " 9   overview               43856 non-null  object \n",
      " 10  popularity             43853 non-null  object \n",
      " 11  poster_path            43520 non-null  object \n",
      " 12  production_companies   43853 non-null  object \n",
      " 13  production_countries   43853 non-null  object \n",
      " 14  release_date           43783 non-null  object \n",
      " 15  revenue                43853 non-null  float64\n",
      " 16  runtime                43853 non-null  float64\n",
      " 17  spoken_languages       43853 non-null  object \n",
      " 18  status                 43792 non-null  object \n",
      " 19  tagline                20196 non-null  object \n",
      " 20  title                  43853 non-null  object \n",
      " 21  video                  43853 non-null  object \n",
      " 22  vote_average           43853 non-null  float64\n",
      " 23  vote_count             43853 non-null  float64\n",
      "dtypes: float64(4), object(20)\n",
      "memory usage: 8.4+ MB\n"
     ]
    }
   ]
  },
  {
   "cell_type": "markdown",
   "source": [
    "## Задание 2"
   ],
   "metadata": {
    "id": "o6z6ZUDkwJa6"
   }
  },
  {
   "cell_type": "markdown",
   "source": [
    "Оставьте в датафрейме столбцы `'id', 'imdb_id', 'overview', 'title'`. Выведите 10 случайных строк."
   ],
   "metadata": {
    "id": "3GLq8eNA-a4q"
   }
  },
  {
   "cell_type": "code",
   "source": [
    "metadata = metadata[['id', 'imdb_id', 'overview', 'title']]\n",
    "metadata['id'] = metadata.apply(lambda row: int(row['id']), axis=1)\n",
    "display(metadata.sample(10))"
   ],
   "metadata": {
    "colab": {
     "base_uri": "https://localhost:8080/",
     "height": 363
    },
    "id": "zANh2k3Qu89W",
    "outputId": "9a857340-bf1a-4584-c5ca-e52a0aa8a163"
   },
   "execution_count": 273,
   "outputs": [
    {
     "data": {
      "text/plain": "           id    imdb_id                                           overview  \\\n18893   70386  tt1712578  Set in the Channel Islands on the eve of D Day...   \n11682   52679  tt0019071  A former Imperial Russian general and cousin o...   \n4101    10833  tt0125022  Max and Page are a brilliant mother/daughter c...   \n10594  253250  tt0040825  Red Skelton plays Aubrey Filmore, a feather-br...   \n43662  289269  tt4327752  Jane is a beautiful but troubled American girl...   \n16789   22620  tt1258157  What brings best friends together? For Daphne,...   \n38814  294368  tt3677412  An investigation into accusations of teenagers...   \n45112   72363  tt0348841  A love triangle between a businessman, his wif...   \n31980  128960  tt0054854  Simple story about the man who comes to the be...   \n28422  186970  tt2852394  A 25 year old young man with dreams of becomin...   \n\n                                title  \n18893                The Devil's Rock  \n11682                The Last Command  \n4101                    Heartbreakers  \n10594               A Southern Yankee  \n43662                 Lady Bloodfight  \n16789  Scooby-Doo! The Mystery Begins  \n38814                  An Open Secret  \n45112                     I'm Staying  \n31980                  The Substitute  \n28422                         Grigris  ",
      "text/html": "<div>\n<style scoped>\n    .dataframe tbody tr th:only-of-type {\n        vertical-align: middle;\n    }\n\n    .dataframe tbody tr th {\n        vertical-align: top;\n    }\n\n    .dataframe thead th {\n        text-align: right;\n    }\n</style>\n<table border=\"1\" class=\"dataframe\">\n  <thead>\n    <tr style=\"text-align: right;\">\n      <th></th>\n      <th>id</th>\n      <th>imdb_id</th>\n      <th>overview</th>\n      <th>title</th>\n    </tr>\n  </thead>\n  <tbody>\n    <tr>\n      <th>18893</th>\n      <td>70386</td>\n      <td>tt1712578</td>\n      <td>Set in the Channel Islands on the eve of D Day...</td>\n      <td>The Devil's Rock</td>\n    </tr>\n    <tr>\n      <th>11682</th>\n      <td>52679</td>\n      <td>tt0019071</td>\n      <td>A former Imperial Russian general and cousin o...</td>\n      <td>The Last Command</td>\n    </tr>\n    <tr>\n      <th>4101</th>\n      <td>10833</td>\n      <td>tt0125022</td>\n      <td>Max and Page are a brilliant mother/daughter c...</td>\n      <td>Heartbreakers</td>\n    </tr>\n    <tr>\n      <th>10594</th>\n      <td>253250</td>\n      <td>tt0040825</td>\n      <td>Red Skelton plays Aubrey Filmore, a feather-br...</td>\n      <td>A Southern Yankee</td>\n    </tr>\n    <tr>\n      <th>43662</th>\n      <td>289269</td>\n      <td>tt4327752</td>\n      <td>Jane is a beautiful but troubled American girl...</td>\n      <td>Lady Bloodfight</td>\n    </tr>\n    <tr>\n      <th>16789</th>\n      <td>22620</td>\n      <td>tt1258157</td>\n      <td>What brings best friends together? For Daphne,...</td>\n      <td>Scooby-Doo! The Mystery Begins</td>\n    </tr>\n    <tr>\n      <th>38814</th>\n      <td>294368</td>\n      <td>tt3677412</td>\n      <td>An investigation into accusations of teenagers...</td>\n      <td>An Open Secret</td>\n    </tr>\n    <tr>\n      <th>45112</th>\n      <td>72363</td>\n      <td>tt0348841</td>\n      <td>A love triangle between a businessman, his wif...</td>\n      <td>I'm Staying</td>\n    </tr>\n    <tr>\n      <th>31980</th>\n      <td>128960</td>\n      <td>tt0054854</td>\n      <td>Simple story about the man who comes to the be...</td>\n      <td>The Substitute</td>\n    </tr>\n    <tr>\n      <th>28422</th>\n      <td>186970</td>\n      <td>tt2852394</td>\n      <td>A 25 year old young man with dreams of becomin...</td>\n      <td>Grigris</td>\n    </tr>\n  </tbody>\n</table>\n</div>"
     },
     "metadata": {},
     "output_type": "display_data"
    }
   ]
  },
  {
   "cell_type": "markdown",
   "source": [
    "## Задание 3"
   ],
   "metadata": {
    "id": "1smb9t1BJy1P"
   }
  },
  {
   "cell_type": "code",
   "metadata": {
    "id": "WXtmNkXLTCfF"
   },
   "source": [
    "ratings = pd.read_csv(\"ratings.csv\")"
   ],
   "execution_count": 274,
   "outputs": []
  },
  {
   "cell_type": "code",
   "metadata": {
    "colab": {
     "base_uri": "https://localhost:8080/",
     "height": 363
    },
    "id": "quIoezkBTGZZ",
    "outputId": "a5d7cf60-be48-44b9-9390-3cf22e46f540"
   },
   "source": [
    "ratings.head(10)"
   ],
   "execution_count": 275,
   "outputs": [
    {
     "data": {
      "text/plain": "   userId  movieId  rating   timestamp\n0       1      110     1.0  1425941529\n1       1      147     4.5  1425942435\n2       1      858     5.0  1425941523\n3       1     1221     5.0  1425941546\n4       1     1246     5.0  1425941556\n5       1     1968     4.0  1425942148\n6       1     2762     4.5  1425941300\n7       1     2918     5.0  1425941593\n8       1     2959     4.0  1425941601\n9       1     4226     4.0  1425942228",
      "text/html": "<div>\n<style scoped>\n    .dataframe tbody tr th:only-of-type {\n        vertical-align: middle;\n    }\n\n    .dataframe tbody tr th {\n        vertical-align: top;\n    }\n\n    .dataframe thead th {\n        text-align: right;\n    }\n</style>\n<table border=\"1\" class=\"dataframe\">\n  <thead>\n    <tr style=\"text-align: right;\">\n      <th></th>\n      <th>userId</th>\n      <th>movieId</th>\n      <th>rating</th>\n      <th>timestamp</th>\n    </tr>\n  </thead>\n  <tbody>\n    <tr>\n      <th>0</th>\n      <td>1</td>\n      <td>110</td>\n      <td>1.0</td>\n      <td>1425941529</td>\n    </tr>\n    <tr>\n      <th>1</th>\n      <td>1</td>\n      <td>147</td>\n      <td>4.5</td>\n      <td>1425942435</td>\n    </tr>\n    <tr>\n      <th>2</th>\n      <td>1</td>\n      <td>858</td>\n      <td>5.0</td>\n      <td>1425941523</td>\n    </tr>\n    <tr>\n      <th>3</th>\n      <td>1</td>\n      <td>1221</td>\n      <td>5.0</td>\n      <td>1425941546</td>\n    </tr>\n    <tr>\n      <th>4</th>\n      <td>1</td>\n      <td>1246</td>\n      <td>5.0</td>\n      <td>1425941556</td>\n    </tr>\n    <tr>\n      <th>5</th>\n      <td>1</td>\n      <td>1968</td>\n      <td>4.0</td>\n      <td>1425942148</td>\n    </tr>\n    <tr>\n      <th>6</th>\n      <td>1</td>\n      <td>2762</td>\n      <td>4.5</td>\n      <td>1425941300</td>\n    </tr>\n    <tr>\n      <th>7</th>\n      <td>1</td>\n      <td>2918</td>\n      <td>5.0</td>\n      <td>1425941593</td>\n    </tr>\n    <tr>\n      <th>8</th>\n      <td>1</td>\n      <td>2959</td>\n      <td>4.0</td>\n      <td>1425941601</td>\n    </tr>\n    <tr>\n      <th>9</th>\n      <td>1</td>\n      <td>4226</td>\n      <td>4.0</td>\n      <td>1425942228</td>\n    </tr>\n  </tbody>\n</table>\n</div>"
     },
     "execution_count": 275,
     "metadata": {},
     "output_type": "execute_result"
    }
   ]
  },
  {
   "cell_type": "code",
   "metadata": {
    "colab": {
     "base_uri": "https://localhost:8080/"
    },
    "id": "FUqUIWiQdlFG",
    "outputId": "ac040560-fb5f-4505-e5d4-1897ccc6f616"
   },
   "source": [
    "ratings.info()"
   ],
   "execution_count": 276,
   "outputs": [
    {
     "name": "stdout",
     "output_type": "stream",
     "text": [
      "<class 'pandas.core.frame.DataFrame'>\n",
      "RangeIndex: 26024289 entries, 0 to 26024288\n",
      "Data columns (total 4 columns):\n",
      " #   Column     Dtype  \n",
      "---  ------     -----  \n",
      " 0   userId     int64  \n",
      " 1   movieId    int64  \n",
      " 2   rating     float64\n",
      " 3   timestamp  int64  \n",
      "dtypes: float64(1), int64(3)\n",
      "memory usage: 794.2 MB\n"
     ]
    }
   ]
  },
  {
   "cell_type": "markdown",
   "source": [
    "Убедимся в отсутствии пропусков"
   ],
   "metadata": {
    "id": "5n60gzmGk3yu"
   }
  },
  {
   "cell_type": "code",
   "source": [
    "pd.isnull(ratings).sum()"
   ],
   "metadata": {
    "colab": {
     "base_uri": "https://localhost:8080/"
    },
    "id": "pifpWo3ckX2b",
    "outputId": "cbaa5fe1-dffb-433d-cc6d-962ca72439ee"
   },
   "execution_count": 277,
   "outputs": [
    {
     "data": {
      "text/plain": "userId       0\nmovieId      0\nrating       0\ntimestamp    0\ndtype: int64"
     },
     "execution_count": 277,
     "metadata": {},
     "output_type": "execute_result"
    }
   ]
  },
  {
   "cell_type": "markdown",
   "source": [
    "Объедините датафреймы `metadata` и `ratings` в один. Обратите внимание, что `'id'` в  `metadata`, этот тот же самый идентификатор, что и `'movie_id'` и `ratings`. Объединять нужно по этому идентификатору (также обратите внимание на его тип данных)."
   ],
   "metadata": {
    "id": "0YKZ0PhV_2TI"
   }
  },
  {
   "cell_type": "code",
   "source": [
    "data = pd.merge(metadata, ratings, left_on=['id'], right_on = ['movieId'])"
   ],
   "metadata": {
    "id": "pgfIp7gsw5qg"
   },
   "execution_count": 278,
   "outputs": []
  },
  {
   "cell_type": "markdown",
   "source": [],
   "metadata": {
    "id": "_A4PEoC5z1Vr"
   }
  },
  {
   "cell_type": "markdown",
   "source": [
    "## Задание 4"
   ],
   "metadata": {
    "id": "9paMCSNcBAlE"
   }
  },
  {
   "cell_type": "code",
   "source": [
    "pd.isnull(data).sum()"
   ],
   "metadata": {
    "colab": {
     "base_uri": "https://localhost:8080/"
    },
    "id": "bs258T-o2N0H",
    "outputId": "eef1fa68-a33c-410e-b74a-26174ab58b8a"
   },
   "execution_count": 279,
   "outputs": [
    {
     "data": {
      "text/plain": "id            0\nimdb_id      47\noverview      0\ntitle         0\nuserId        0\nmovieId       0\nrating        0\ntimestamp     0\ndtype: int64"
     },
     "execution_count": 279,
     "metadata": {},
     "output_type": "execute_result"
    }
   ]
  },
  {
   "cell_type": "markdown",
   "source": [
    "Появились ли пропуски в получившемся после объединения датафрейме? Если появились, то ответьте на вопрос \"почему?\" и удалите строки с пропусками.\n",
    "\n",
    "Выведите размеры получившегося датафрейма и 10 случайных записей в нём."
   ],
   "metadata": {
    "id": "5FN7L7HYmoQn"
   }
  },
  {
   "cell_type": "code",
   "source": [
    "data.info()\n",
    "display(data.sample(10))"
   ],
   "metadata": {
    "colab": {
     "base_uri": "https://localhost:8080/",
     "height": 623
    },
    "id": "UPiZSItR1GSN",
    "outputId": "ae07f8c1-4cee-4539-b1e3-eea14f0b43e8"
   },
   "execution_count": 280,
   "outputs": [
    {
     "name": "stdout",
     "output_type": "stream",
     "text": [
      "<class 'pandas.core.frame.DataFrame'>\n",
      "Int64Index: 11223149 entries, 0 to 11223148\n",
      "Data columns (total 8 columns):\n",
      " #   Column     Dtype  \n",
      "---  ------     -----  \n",
      " 0   id         int64  \n",
      " 1   imdb_id    object \n",
      " 2   overview   object \n",
      " 3   title      object \n",
      " 4   userId     int64  \n",
      " 5   movieId    int64  \n",
      " 6   rating     float64\n",
      " 7   timestamp  int64  \n",
      "dtypes: float64(1), int64(4), object(3)\n",
      "memory usage: 770.6+ MB\n"
     ]
    },
    {
     "data": {
      "text/plain": "           id    imdb_id                                           overview  \\\n1810860  1281  tt0118689  Bean works as a caretaker at Britain's formida...   \n7203672   919  tt0275230  In Japan, the vampire-hunter Saya, who is a po...   \n1769520   266  tt0057345  Screenwriter Paul Javal's marriage to his wife...   \n5524393   296  tt0181852  It's been 10 years since John Connor saved Ear...   \n8540696  6443  tt0386862  As an awkward idealistic high school teacher b...   \n5979893   899  tt0009968  Broken Blossoms is an American silent film fro...   \n7536915   953  tt0351283  Zoo animals leave the comforts of man-made hab...   \n3626514   955  tt0120755  With computer genius Luther Stickell at his si...   \n2438137  2109  tt0120812  When Hong Kong Inspector Lee is summoned to Lo...   \n9038455  6639  tt0484740  In Colombia just after the Great War, an old m...   \n\n                                      title  userId  movieId  rating  \\\n1810860                                Bean  185167     1281     4.0   \n7203672             Blood: The Last Vampire   14495      919     4.0   \n1769520                            Contempt   83918      266     4.0   \n5524393  Terminator 3: Rise of the Machines   35897      296     4.5   \n8540696            The Forest for the Trees  259446     6443     3.0   \n5979893                     Broken Blossoms  203114      899     4.0   \n7536915                          Madagascar  231867      953     2.0   \n3626514              Mission: Impossible II  127217      955     4.5   \n2438137                           Rush Hour  124146     2109     1.0   \n9038455         Love in the Time of Cholera  207001     6639     4.5   \n\n          timestamp  \n1810860  1467976646  \n7203672   965369430  \n1769520   834397606  \n5524393  1317492457  \n8540696  1159832505  \n5979893  1367773862  \n7536915   944375121  \n3626514  1386016326  \n2438137   956674369  \n9038455  1190913744  ",
      "text/html": "<div>\n<style scoped>\n    .dataframe tbody tr th:only-of-type {\n        vertical-align: middle;\n    }\n\n    .dataframe tbody tr th {\n        vertical-align: top;\n    }\n\n    .dataframe thead th {\n        text-align: right;\n    }\n</style>\n<table border=\"1\" class=\"dataframe\">\n  <thead>\n    <tr style=\"text-align: right;\">\n      <th></th>\n      <th>id</th>\n      <th>imdb_id</th>\n      <th>overview</th>\n      <th>title</th>\n      <th>userId</th>\n      <th>movieId</th>\n      <th>rating</th>\n      <th>timestamp</th>\n    </tr>\n  </thead>\n  <tbody>\n    <tr>\n      <th>1810860</th>\n      <td>1281</td>\n      <td>tt0118689</td>\n      <td>Bean works as a caretaker at Britain's formida...</td>\n      <td>Bean</td>\n      <td>185167</td>\n      <td>1281</td>\n      <td>4.0</td>\n      <td>1467976646</td>\n    </tr>\n    <tr>\n      <th>7203672</th>\n      <td>919</td>\n      <td>tt0275230</td>\n      <td>In Japan, the vampire-hunter Saya, who is a po...</td>\n      <td>Blood: The Last Vampire</td>\n      <td>14495</td>\n      <td>919</td>\n      <td>4.0</td>\n      <td>965369430</td>\n    </tr>\n    <tr>\n      <th>1769520</th>\n      <td>266</td>\n      <td>tt0057345</td>\n      <td>Screenwriter Paul Javal's marriage to his wife...</td>\n      <td>Contempt</td>\n      <td>83918</td>\n      <td>266</td>\n      <td>4.0</td>\n      <td>834397606</td>\n    </tr>\n    <tr>\n      <th>5524393</th>\n      <td>296</td>\n      <td>tt0181852</td>\n      <td>It's been 10 years since John Connor saved Ear...</td>\n      <td>Terminator 3: Rise of the Machines</td>\n      <td>35897</td>\n      <td>296</td>\n      <td>4.5</td>\n      <td>1317492457</td>\n    </tr>\n    <tr>\n      <th>8540696</th>\n      <td>6443</td>\n      <td>tt0386862</td>\n      <td>As an awkward idealistic high school teacher b...</td>\n      <td>The Forest for the Trees</td>\n      <td>259446</td>\n      <td>6443</td>\n      <td>3.0</td>\n      <td>1159832505</td>\n    </tr>\n    <tr>\n      <th>5979893</th>\n      <td>899</td>\n      <td>tt0009968</td>\n      <td>Broken Blossoms is an American silent film fro...</td>\n      <td>Broken Blossoms</td>\n      <td>203114</td>\n      <td>899</td>\n      <td>4.0</td>\n      <td>1367773862</td>\n    </tr>\n    <tr>\n      <th>7536915</th>\n      <td>953</td>\n      <td>tt0351283</td>\n      <td>Zoo animals leave the comforts of man-made hab...</td>\n      <td>Madagascar</td>\n      <td>231867</td>\n      <td>953</td>\n      <td>2.0</td>\n      <td>944375121</td>\n    </tr>\n    <tr>\n      <th>3626514</th>\n      <td>955</td>\n      <td>tt0120755</td>\n      <td>With computer genius Luther Stickell at his si...</td>\n      <td>Mission: Impossible II</td>\n      <td>127217</td>\n      <td>955</td>\n      <td>4.5</td>\n      <td>1386016326</td>\n    </tr>\n    <tr>\n      <th>2438137</th>\n      <td>2109</td>\n      <td>tt0120812</td>\n      <td>When Hong Kong Inspector Lee is summoned to Lo...</td>\n      <td>Rush Hour</td>\n      <td>124146</td>\n      <td>2109</td>\n      <td>1.0</td>\n      <td>956674369</td>\n    </tr>\n    <tr>\n      <th>9038455</th>\n      <td>6639</td>\n      <td>tt0484740</td>\n      <td>In Colombia just after the Great War, an old m...</td>\n      <td>Love in the Time of Cholera</td>\n      <td>207001</td>\n      <td>6639</td>\n      <td>4.5</td>\n      <td>1190913744</td>\n    </tr>\n  </tbody>\n</table>\n</div>"
     },
     "metadata": {},
     "output_type": "display_data"
    }
   ]
  },
  {
   "cell_type": "markdown",
   "source": [
    "## Задание 5"
   ],
   "metadata": {
    "id": "JlBSFBYfDqCH"
   }
  },
  {
   "cell_type": "code",
   "execution_count": 19,
   "outputs": [],
   "source": [
    "movies = dict()\n",
    "for _, review in data.drop_duplicates(subset=['movieId']).iterrows():\n",
    "    movies[review['movieId']] = review['title']"
   ],
   "metadata": {
    "collapsed": false
   }
  },
  {
   "cell_type": "code",
   "execution_count": 20,
   "outputs": [],
   "source": [
    "critics = {}\n",
    "for _, review in data.iterrows():\n",
    "    if review['userId'] in critics.keys():\n",
    "        critics[review['userId']][review['movieId']] = review['rating']\n",
    "    else:\n",
    "        critics[review['userId']] = {review['movieId']: review['rating']}"
   ],
   "metadata": {
    "collapsed": false
   }
  },
  {
   "cell_type": "markdown",
   "source": [
    "Возьмите случайного пользователя (проверьте, чтобы у него было достаточное количество оценок). Сформируйте для этого пользователя рекомендацию методом коллаборативной фильтрации. Оцените качество это рекомендации.\n",
    "\n",
    "\n",
    "Повторите эти рассчеты для большого числа пользователей и дайте интегральную оценку."
   ],
   "metadata": {
    "id": "p1_Gjtmgnoc6"
   }
  },
  {
   "cell_type": "markdown",
   "source": [
    "**Будем считать что достаточное количество оценок - 666**\n",
    "\n"
   ],
   "metadata": {
    "id": "16Noj6ndDEfo"
   }
  },
  {
   "cell_type": "code",
   "source": [
    "def pick_random_user(df, overview_count = 666):\n",
    "  user_ratings_count = df.groupby('userId')['userId'].count()\n",
    "  user_ratings_count = user_ratings_count.loc[lambda x : x >= overview_count]\n",
    "  return user_ratings_count.sample(1)"
   ],
   "metadata": {
    "colab": {
     "base_uri": "https://localhost:8080/"
    },
    "id": "Az_DLHnaDVCY",
    "outputId": "1e855c7b-13b9-459f-f031-1865e8928079"
   },
   "execution_count": 21,
   "outputs": []
  },
  {
   "cell_type": "code",
   "execution_count": 22,
   "outputs": [],
   "source": [
    "def similar_films(critics_dict: dict, person1, person2):\n",
    "    # создаем пустой список фильмов с названием\n",
    "    sim_film = []\n",
    "    # для всех фильмов у person1, если такой фильм оценивался person 2, добавляем этот фильм в список sim_film\n",
    "    for film in critics_dict[person1].keys():\n",
    "        if film in critics_dict[person2].keys():\n",
    "            sim_film.append(film)\n",
    "    ## your code here\n",
    "\n",
    "    return sim_film"
   ],
   "metadata": {
    "collapsed": false
   }
  },
  {
   "cell_type": "code",
   "execution_count": 23,
   "outputs": [],
   "source": [
    "def compute_euclid(x, y):\n",
    "    return np.sqrt(sum([ (x_ - y_) ** 2 for x_,y_ in zip(x, y)]))"
   ],
   "metadata": {
    "collapsed": false
   }
  },
  {
   "cell_type": "code",
   "execution_count": 32,
   "outputs": [],
   "source": [
    "def euclid_oxana(critics_dict, person1, person2):\n",
    "    # используем написанную функцию для получения фильмов, оцененных обоими критиками\n",
    "    sim_films = similar_films(critics_dict, person1, person2)\n",
    "\n",
    "    # если нет ни одной общей оценки, то есть длина sim_film равна 0 - вернуть 0\n",
    "    if len(sim_films) == 0:\n",
    "        return 0\n",
    "\n",
    "    ## your code here\n",
    "    x = []\n",
    "    y = []\n",
    "    for film in sim_films:\n",
    "        x.append(critics_dict[person1][film])\n",
    "        y.append(critics_dict[person2][film])\n",
    "\n",
    "    # посчитаем евклидово расстояние между критиками по фильмам из sim_films\n",
    "    # посчитаем похожесть score\n",
    "    return 1 / (1 + compute_euclid(x, y))"
   ],
   "metadata": {
    "collapsed": false
   }
  },
  {
   "cell_type": "code",
   "execution_count": 25,
   "outputs": [],
   "source": [
    "from scipy.stats import pearsonr\n",
    "# Возвращает коэффициент корреляции Пирсона между person1 и person2\n",
    "def sim_pearson(critics_dict, person1, person2):\n",
    "    from math import isnan # это нам пригодиться для обработки деления на 0\n",
    "\n",
    "    # получить список фильмов, оцененных обоими критиками\n",
    "    sim_films = similar_films(critics_dict, person1, person2)\n",
    "\n",
    "    ## your code here\n",
    "\n",
    "    # если нет ни одной общей оценки, вернуть 0\n",
    "    if len(sim_films) < 2:\n",
    "        return 0\n",
    "\n",
    "    # получим оценки критиков для фильмов из пересечения\n",
    "    scores1 = []\n",
    "    scores2 = []\n",
    "    for film in sim_films:\n",
    "        scores1.append(critics_dict[person1][film])\n",
    "        scores2.append(critics_dict[person2][film])\n",
    "\n",
    "    # посчитаем коэффициент корреляции\n",
    "    r = pearsonr(scores1, scores2)[0]\n",
    "\n",
    "    ## end of your code\n",
    "\n",
    "    # если вдруг было деление на ноль и функция вернула nan, то присваиваем ноль\n",
    "    if isnan(r):\n",
    "        r = 0\n",
    "    return r"
   ],
   "metadata": {
    "collapsed": false
   }
  },
  {
   "cell_type": "code",
   "execution_count": 26,
   "outputs": [],
   "source": [
    "\n",
    "def topMatches(critics_dict, person, similarity=sim_pearson):\n",
    "    # your code here\n",
    "    # инициализируем лист оценок похожести\n",
    "    scores = []\n",
    "    # для каждого человека в словаре критиков, если этот человек не тот, для которого мы подбираем соответствия\n",
    "    for user in critics_dict.keys():\n",
    "        if person != user:\n",
    "            # добавить в scores похожесть, вычисленную с помощью функции, записанной в similarity, и имя человека\n",
    "            scores.append((user, similarity(critics_dict, person, user)))\n",
    "    # отсортировать список по убыванию оценок\n",
    "    scores.sort(key = lambda x: x[1], reverse=True)\n",
    "    # возвращаем первые n человек\n",
    "    return scores\n"
   ],
   "metadata": {
    "collapsed": false
   }
  },
  {
   "cell_type": "code",
   "execution_count": 90,
   "outputs": [
    {
     "name": "stdout",
     "output_type": "stream",
     "text": [
      "96874\n"
     ]
    }
   ],
   "source": [
    "random_user = pick_random_user(data).index[0]\n",
    "print(random_user)"
   ],
   "metadata": {
    "collapsed": false
   }
  },
  {
   "cell_type": "code",
   "execution_count": 91,
   "outputs": [
    {
     "name": "stderr",
     "output_type": "stream",
     "text": [
      "C:\\Users\\milen\\AppData\\Local\\Programs\\Python\\Python39\\lib\\site-packages\\scipy\\stats\\_stats_py.py:4424: ConstantInputWarning: An input array is constant; the correlation coefficient is not defined.\n",
      "  warnings.warn(stats.ConstantInputWarning(msg))\n"
     ]
    }
   ],
   "source": [
    "matches = topMatches(critics, random_user)"
   ],
   "metadata": {
    "collapsed": false
   }
  },
  {
   "cell_type": "markdown",
   "source": [],
   "metadata": {
    "collapsed": false
   }
  },
  {
   "cell_type": "code",
   "execution_count": 92,
   "outputs": [
    {
     "name": "stdout",
     "output_type": "stream",
     "text": [
      "[(229967, 0.6542093104526652), (9278, 0.654206389723015), (94840, 0.6541352613848364), (59446, 0.6541288981421133), (95418, 0.6541038540261415), (237481, 0.6541022781770687), (170828, 0.6541009870546161), (250489, 0.6540699401677286), (229173, 0.6540699401677286), (86321, 0.6540699401677283), (238737, 0.6540611994542858), (103021, 0.6540093063175998), (190192, 0.6539800127102134), (138620, 0.6539738665893449), (232524, 0.6539235458277052), (120444, 0.6539214945229088), (87671, 0.653917175470611), (53375, 0.6539064651711778), (40202, 0.6539045028092), (12881, 0.6538852975902517), (52042, 0.6538852975902517), (13170, 0.6538789547262833), (190782, 0.6538703172285597), (139248, 0.6538595625868042), (203634, 0.653859562586804), (223728, 0.6538461538461537), (17760, 0.6538349793779233), (225058, 0.6537945447857216), (164819, 0.6537862624387525), (87586, 0.6537494524992011), (134565, 0.6537494524992009), (20397, 0.6537289398021152), (152856, 0.6537104851338884), (36964, 0.6537014466829247), (214656, 0.6536610186271835), (209059, 0.6536476507361043), (75421, 0.6536347630381938), (194092, 0.6536238974274551), (64110, 0.653585762312334), (25869, 0.6535841616486983), (76188, 0.6535787050062464), (160503, 0.6535444634207007), (117487, 0.6535232024656041), (19355, 0.6534526017194946), (156812, 0.653433128904334), (112895, 0.6534213047087767), (124848, 0.6533854668616458), (167725, 0.6533640523653874), (118521, 0.653358607776565), (46190, 0.6533586077765648), (94251, 0.6533538551101512), (50338, 0.6533450781537495), (3730, 0.6532745799184878), (14123, 0.6532412555335391), (72371, 0.6532335178244756), (40155, 0.6532232467263841), (215842, 0.6532127991195031), (44214, 0.653200775639956), (10149, 0.6531972647421809), (102396, 0.6531972647421808), (14126, 0.6531972647421806), (94641, 0.6531661025877599), (223819, 0.6531618663625992), (2004, 0.6531561093841245), (145818, 0.6531487177502301), (225769, 0.6531219378360038), (81031, 0.6530019360360337), (61463, 0.6529804822935861), (4378, 0.652935784032858), (65215, 0.6529286250990105), (14130, 0.6529286250990105), (128093, 0.6529019280813871), (180561, 0.6528956555663142), (268438, 0.6528654033000193), (172087, 0.652862549237373), (248203, 0.6528576353053677), (130366, 0.6528437906121847), (42056, 0.6528168161597198), (244367, 0.652796993668087), (168568, 0.6527912098338667), (77058, 0.6527912098338667), (127422, 0.6527533657682197), (269344, 0.6527533657682197), (97485, 0.6527533657682196), (31258, 0.6527533657682196), (254002, 0.6527533657682196), (43588, 0.6527533657682196), (121308, 0.6527533657682196), (7572, 0.6527533657682196), (185868, 0.6527533657682196), (189279, 0.6527382299847488), (155653, 0.6527299120066192), (206158, 0.6527206339960658), (239152, 0.6527206339960658), (196190, 0.6527206339960656), (239046, 0.652667738826552), (197885, 0.652646896707021), (104149, 0.6526379976342696), (69145, 0.6525787490898306), (32073, 0.6525426193749984), (68373, 0.6525026612039884), (70463, 0.6524726973924442), (103369, 0.6524726973924442), (67449, 0.65243825430126), (26345, 0.65243825430126), (31337, 0.65243825430126), (107239, 0.65243825430126), (215888, 0.65243825430126), (53324, 0.65243825430126), (257941, 0.6524382543012599), (266704, 0.6524374474355251), (218298, 0.6524235616828062), (18447, 0.652385842465479), (11595, 0.6523450688042053), (208307, 0.6523286319679853), (221538, 0.6523280730534424), (113907, 0.6523280730534423), (27044, 0.6523280730534422), (233367, 0.652322909780815), (46809, 0.652264278072277), (144280, 0.6521864934374387), (265386, 0.6521864934374386), (176368, 0.6521727544503381), (42307, 0.6521235987467637), (59789, 0.6521235987467636), (116809, 0.6520889060158696), (55900, 0.6520732960932837), (25641, 0.6520732960932837), (200372, 0.6519978639343068), (88693, 0.651933903353833), (119900, 0.6519202405202649), (3575, 0.6519202405202648), (171061, 0.6518654360240569), (130321, 0.6518247160566062), (184537, 0.6518125118174688), (175727, 0.6518125118174687), (264091, 0.6517861419401114), (91668, 0.6517861419401113), (17638, 0.6517861419401112), (44910, 0.6517861419401112), (131905, 0.6517861419401111), (155808, 0.6517768857159978), (111079, 0.6517728758362802), (144531, 0.6517505359122819), (53178, 0.6517216396465191), (24439, 0.6516311192522111), (95063, 0.6515837655350015), (35483, 0.6515712125662435), (129065, 0.6515336706809616), (180068, 0.6514888195627142), (94685, 0.6514630472985903), (91612, 0.6514466333088098), (136605, 0.6514466333088097), (264191, 0.6514323163475135), (265020, 0.6514047490619211), (253234, 0.6513995920872446), (47473, 0.651369757285677), (60961, 0.6513389472789296), (141526, 0.651320292556889), (108090, 0.6513116116815079), (1226, 0.6513116116815079), (99069, 0.6513039130456645), (173830, 0.651266752844666), (184478, 0.6512667352128301), (131726, 0.6512561027426449), (77648, 0.6512532252637816), (243829, 0.6512250890075831), (210233, 0.6512171447631794), (33982, 0.651150562908459), (33469, 0.6510801542295992), (77743, 0.651035755542732), (155986, 0.6510307670169275), (144086, 0.6510226865429847), (12597, 0.6509812385757368), (109860, 0.6509788089399707), (239525, 0.6509758415411336), (56551, 0.6509674295591369), (177037, 0.6509552759012615), (15049, 0.6509445549041194), (229673, 0.6509445549041194), (41564, 0.6509445549041194), (80297, 0.6509445549041194), (57212, 0.6509445549041194), (112205, 0.6509445549041194), (246991, 0.6509361972501959), (79005, 0.6509191410111121), (120349, 0.6509102937627549), (264504, 0.6508669514945318), (155064, 0.650839988062769), (187043, 0.650829842464975), (19651, 0.6508140266182865), (198383, 0.6508140266182865), (221114, 0.6508046201737295), (84700, 0.6507913734559687), (17190, 0.6507913734559686), (71483, 0.6507913734559686), (61748, 0.6507913734559686), (153220, 0.6507913734559685), (64792, 0.6507913734559685), (150822, 0.6507913734559685), (17181, 0.6507476271867392), (92158, 0.6507395678818867), (183866, 0.6506683853846718), (212852, 0.6506411205713271), (228657, 0.6506199333788689), (151074, 0.6506000486323555), (159007, 0.6505604462359276), (171903, 0.6504955559846833), (111288, 0.6504925025453933), (177148, 0.6504684260092483), (167622, 0.6504436355879909), (246651, 0.6504436355879908), (243315, 0.6503614123159434), (191025, 0.6503491094745754), (238551, 0.6503328212312225), (246443, 0.6502611061510903), (231996, 0.6502503675297686), (122123, 0.6502432364641652), (152220, 0.650229783457153), (171744, 0.6501378839963112), (66000, 0.650109912196485), (24221, 0.6500397658834488), (249092, 0.6500176272666082), (40167, 0.6500112459665918), (52817, 0.6500112459665917), (110152, 0.6500112459665915), (256354, 0.6500112459665915), (30844, 0.6500112459665915), (66763, 0.6500000000000001), (90495, 0.6500000000000001), (222477, 0.6500000000000001), (92950, 0.6500000000000001), (258631, 0.65), (150265, 0.65), (137519, 0.65), (155727, 0.6499999999999999), (166342, 0.6499999999999999), (260451, 0.6499999999999999), (39162, 0.6499987690983078), (224611, 0.6499555709619101), (76094, 0.6499365987675894), (132969, 0.6499365987675894), (163903, 0.6499231699386334), (184010, 0.6498440561375454), (5480, 0.6498440561375454), (27505, 0.6498440561375454), (47879, 0.6498216550600941), (252409, 0.6497891776122492), (218660, 0.6497221227363151), (233886, 0.6497221227363149), (10014, 0.6497031309177983), (25220, 0.6496752435470526), (123202, 0.6495788473269504), (123985, 0.6495190528383291), (169325, 0.6495190528383291), (2483, 0.649519052838329), (155386, 0.649519052838329), (265455, 0.6494995522601581), (82292, 0.6494482641981609), (178003, 0.6494423139874295), (56194, 0.6494090498597985), (230348, 0.6493955172843919), (101271, 0.6493759998561613), (248262, 0.6493759998561612), (171885, 0.6493311948292404), (114396, 0.649262603897381), (22712, 0.6491982234520774), (49054, 0.6491134836118732), (39660, 0.6491134836118732), (212986, 0.6491134836118732), (173433, 0.6490734136415514), (118732, 0.6490734136415512), (167149, 0.6490549534590923), (206867, 0.6490229342872014), (245974, 0.649018831637351), (127189, 0.6490167559216204), (94446, 0.6489825451805655), (239180, 0.6489710810733341), (218644, 0.6489447788890507), (93197, 0.6489447788890504), (126014, 0.6488856845230503), (236945, 0.6488856845230503), (64445, 0.6488856845230502), (29466, 0.6488856845230502), (242955, 0.6488856845230501), (32251, 0.6488856845230501), (135219, 0.6488856845230501), (160588, 0.6488856845230501), (178330, 0.6488856845230501), (206376, 0.6488856845230501), (139064, 0.6488856845230501), (88735, 0.6488856845230501), (171015, 0.6488856845230501), (8890, 0.6488856845230501), (71205, 0.6488856845230501), (261715, 0.6488856845230501), (247044, 0.6488856845230501), (189249, 0.6488856845230501), (213216, 0.6488856845230501), (148947, 0.6488856845230501), (266354, 0.6488856845230501), (97555, 0.6488856845230501), (207975, 0.64888568452305), (166277, 0.64888568452305), (189119, 0.64888568452305), (103779, 0.64888568452305), (236032, 0.64888568452305), (27867, 0.64888568452305), (176504, 0.64888568452305), (213889, 0.64888568452305), (105771, 0.64888568452305), (260855, 0.64888568452305), (54797, 0.64888568452305), (53194, 0.64888568452305), (82997, 0.64888568452305), (250771, 0.64888568452305), (38078, 0.64888568452305), (22542, 0.64888568452305), (72736, 0.64888568452305), (249043, 0.6488782272583539), (130557, 0.6488331495527562), (162337, 0.6488235991108119), (120827, 0.6487929116130234), (117189, 0.6487420662054662), (86931, 0.648741690532736), (27197, 0.648723411906236), (82934, 0.6486952270859841), (155142, 0.6486144595709632), (237299, 0.6485931520784636), (92210, 0.6485931520784635), (144432, 0.6485523850317724), (167953, 0.648485512248315), (44089, 0.6484664555997911), (949, 0.648466455599791), (85909, 0.6484246644403228), (165518, 0.6483943436778999), (118758, 0.6483810684699614), (58843, 0.6483695850567781), (48945, 0.64833875193058), (27320, 0.64833875193058), (212960, 0.6483355481931001), (233134, 0.648297659314349), (225091, 0.6482669203345176), (93160, 0.6482299130725303), (207441, 0.6482037235521646), (196818, 0.6482037235521645), (242091, 0.6482037235521644), (64205, 0.6481607638066086), (19841, 0.6481573776751459), (128989, 0.6481199831541713), (226988, 0.6480740698407862), (36844, 0.6480252134141566), (193927, 0.6480167555967922), (226526, 0.6479655919225688), (181996, 0.6479651772801852), (245228, 0.6479330629504232), (20012, 0.64790131918602), (142254, 0.6478654109551064), (64140, 0.647846101162558), (121744, 0.6478341756738251), (89841, 0.6477782001878848), (47381, 0.6477780104055825), (248985, 0.6477652407593116), (55214, 0.647746651883939), (115792, 0.6477368487357221), (112785, 0.6477046088817666), (210161, 0.6477040589229046), (234189, 0.6477026740170952), (121107, 0.6476484200955406), (148510, 0.6476196241967277), (91701, 0.6475945477108744), (24039, 0.6475761258027333), (95873, 0.6475182677614473), (239368, 0.6474987709525734), (211458, 0.6474898225937405), (1327, 0.6474670731361813), (40479, 0.6474358974358974), (114068, 0.6473630722928371), (201114, 0.6473583921594355), (26258, 0.647345296049331), (28484, 0.6473264489664636), (50529, 0.647323594101011), (52493, 0.6472907152501879), (236746, 0.647196102768782), (204216, 0.6471663202889633), (171987, 0.6471502289294341), (264433, 0.647150228929434), (155926, 0.647150228929434), (372, 0.6471142215276839), (54778, 0.6470659079845711), (213866, 0.647058823529412), (33974, 0.6470588235294119), (149614, 0.6470588235294117), (245741, 0.6470509202505471), (260513, 0.6470396333157189), (6100, 0.6469966392206307), (233286, 0.6469966392206307), (233364, 0.6469966392206306), (43622, 0.6469966392206304), (28868, 0.6469966392206304), (24542, 0.6469966392206304), (57201, 0.6469966392206304), (141072, 0.6469966392206304), (97671, 0.6469966392206304), (1569, 0.6469966392206304), (133954, 0.6469966392206304), (251384, 0.6469824428788349), (252119, 0.6469575001255038), (138995, 0.6468743682870582), (108916, 0.6468676317725663), (228942, 0.6468043953776643), (103980, 0.646755504751857), (33665, 0.6467555047518568), (20333, 0.6467077116722), (248133, 0.6467068993482258), (154953, 0.646674138963613), (258150, 0.6466702635516303), (259407, 0.6466697906828632), (38073, 0.6466529947193089), (101122, 0.6466169081658211), (43371, 0.6466009334427923), (133320, 0.646600575096061), (220930, 0.6465352499988559), (177372, 0.6465081838352358), (233238, 0.6464664797881116), (84826, 0.6464155840824328), (166518, 0.6463987355349675), (202637, 0.6463706142658873), (80284, 0.6463630499395909), (194277, 0.6463371943337054), (248389, 0.6463342806967557), (134159, 0.6463256395267766), (87533, 0.6463068199879782), (267441, 0.6462505331160624), (269863, 0.6462303276414969), (260509, 0.6462303276414969), (117847, 0.6462303276414968), (130808, 0.6462303276414968), (79350, 0.6462303276414968), (166632, 0.6462303276414968), (122528, 0.6462208449906514), (37324, 0.6462102042787191), (147671, 0.646176337890148), (129997, 0.6461702685025609), (268536, 0.6461082015272736), (141612, 0.6460582824697987), (237605, 0.6460565864560363), (165339, 0.6460415830634638), (25674, 0.6460202875515593), (34980, 0.6459867938158813), (263281, 0.6459780040367835), (42153, 0.6459763761530718), (191811, 0.6459751934999393), (188855, 0.6459735337763902), (54211, 0.645942241466174), (6020, 0.6459422414661738), (224997, 0.6459385608395596), (100580, 0.6459245645169085), (136193, 0.6457843034233974), (165814, 0.6457453517175452), (110461, 0.6456870485814954), (199189, 0.6456738625979106), (40828, 0.645660149373493), (157962, 0.6456498061509979), (35357, 0.6456079348093939), (132216, 0.6455990710866075), (180063, 0.6455498143958781), (117299, 0.6455408670591644), (120134, 0.645514075661437), (55804, 0.6454972243679029), (75864, 0.6454972243679029), (132116, 0.6454972243679029), (151933, 0.6454972243679029), (53511, 0.6454972243679029), (185028, 0.6454972243679029), (99860, 0.6454972243679029), (109896, 0.6454972243679029), (270197, 0.6454972243679029), (3924, 0.6454972243679029), (244138, 0.6454972243679029), (69051, 0.6454972243679029), (56074, 0.6454972243679029), (88122, 0.6454972243679029), (204063, 0.6454972243679028), (235890, 0.6454972243679028), (211043, 0.6454972243679028), (270837, 0.6454972243679028), (34401, 0.6454972243679028), (83085, 0.6454972243679028), (168359, 0.6454972243679028), (173670, 0.6454972243679028), (227876, 0.6454972243679028), (210665, 0.6454972243679028), (218215, 0.6454972243679028), (161497, 0.6454972243679028), (32899, 0.6454972243679028), (219415, 0.6454972243679028), (250739, 0.6454972243679028), (69104, 0.6454972243679028), (136583, 0.6454972243679028), (220164, 0.6454972243679028), (165163, 0.6454972243679028), (101634, 0.6454972243679028), (245997, 0.6454972243679028), (17806, 0.6454972243679028), (162419, 0.6454972243679028), (252148, 0.6454972243679028), (47143, 0.6454972243679027), (238356, 0.6454972243679027), (9568, 0.6454972243679027), (44233, 0.6454972243679027), (57723, 0.6454972243679027), (66343, 0.6454972243679027), (216997, 0.6454972243679027), (231712, 0.6454972243679027), (147282, 0.6454972243679027), (249352, 0.6454972243679027), (120209, 0.6454972243679027), (148845, 0.6454972243679027), (105696, 0.6454972243679027), (103351, 0.6454972243679027), (22066, 0.6454972243679027), (226748, 0.6454972243679027), (225114, 0.6454972243679027), (205258, 0.6454972243679027), (88683, 0.6454972243679027), (214952, 0.6454972243679027), (182999, 0.6454972243679027), (247946, 0.6454972243679026), (30266, 0.6454972243679026), (141161, 0.6454972243679026), (21921, 0.6454527732282044), (219883, 0.6454234490405726), (23012, 0.6454025860676375), (42156, 0.6453874739251529), (5048, 0.6453743408940594), (9251, 0.6453737716492017), (239778, 0.6453227420767392), (200132, 0.6453108823448872), (98398, 0.6452982074247223), (4615, 0.6452779215142574), (209443, 0.6452738302707581), (207561, 0.6452614447435383), (176425, 0.6452391213346741), (51476, 0.6451990790162129), (46815, 0.6451968143446133), (243110, 0.6451791670811047), (174348, 0.6451416204711965), (256900, 0.6451341434967457), (14663, 0.6450152897174241), (68347, 0.6449648129387199), (105430, 0.6449610988950989), (50158, 0.6449257349027274), (200326, 0.6449169275100167), (75163, 0.6449144781809061), (54893, 0.6449144781809061), (137860, 0.6449099757187647), (217628, 0.6449020216370243), (54503, 0.6449020216370241), (261673, 0.6449020216370241), (237428, 0.6448505031229083), (159450, 0.6448467555392493), (24823, 0.6448467555392493), (234149, 0.6448467555392493), (214202, 0.6448194351506675), (72379, 0.6447726293608411), (128618, 0.6447493646560102), (194983, 0.644736842105263), (231597, 0.644736842105263), (226397, 0.6447150063759699), (103764, 0.6447150063759698), (217085, 0.6446644011346182), (95351, 0.6446583712203043), (83168, 0.6446583712203043), (145662, 0.6446583712203043), (3355, 0.6446583712203043), (252391, 0.6446583712203043), (102170, 0.6446583712203042), (208445, 0.6446583712203042), (210920, 0.6446583712203042), (232192, 0.6446583712203042), (245897, 0.6446583712203042), (263198, 0.6446583712203042), (62475, 0.6446583712203042), (41889, 0.6446583712203042), (5617, 0.6446583712203042), (30468, 0.6446583712203042), (93673, 0.6446583712203042), (95470, 0.6446583712203041), (120564, 0.6446583712203041), (68811, 0.6446583712203041), (134469, 0.6446489088484159), (135431, 0.6445033866354897), (259131, 0.6445033866354896), (148143, 0.6445033866354896), (269735, 0.6445033866354895), (51155, 0.6444624176632182), (143064, 0.6444444444444445), (207498, 0.6444444444444444), (253646, 0.6444444444444444), (268233, 0.6444295394437922), (21035, 0.6444275075886816), (210858, 0.6444275075886815), (46525, 0.6444240777830839), (180807, 0.6443867481081256), (215178, 0.6443833370420677), (239940, 0.6443051693813366), (62655, 0.644278153923165), (188793, 0.644272661302796), (231857, 0.6442407241595314), (88561, 0.6441910643976461), (90875, 0.644182502820393), (234952, 0.6441269916572674), (224118, 0.6441052633729117), (190646, 0.6440940481460319), (53209, 0.644056645126068), (112114, 0.6440206089892366), (138011, 0.6439963153212235), (208724, 0.6439963153212235), (121707, 0.6439926502911137), (171983, 0.6439813203756434), (217921, 0.6439708117234392), (97017, 0.6439640551028792), (119949, 0.6439618195623059), (146474, 0.6439209162167848), (114732, 0.6439209162167848), (24189, 0.6439209162167847), (79877, 0.6439209162167847), (233554, 0.6439209162167846), (258267, 0.6439209162167846), (252158, 0.643918049938109), (97853, 0.6438763875992325), (71632, 0.643874181976303), (27166, 0.643848442047141), (201170, 0.6438440943244658), (131544, 0.6438356346750929), (202311, 0.6438285514574746), (37309, 0.6437980670301378), (110589, 0.643796306459214), (174673, 0.643796306459214), (260605, 0.643777984757179), (80689, 0.6437407196005162), (88785, 0.643726309578718), (8869, 0.643680386531784), (268807, 0.6436457636519511), (149058, 0.6436457636519509), (84446, 0.6436429634179557), (266640, 0.6436120565381874), (201390, 0.6435969114774224), (164511, 0.6435959029348385), (92587, 0.6435758207147227), (61085, 0.6435619430344627), (84788, 0.6434939836876904), (124460, 0.6434939836876904), (235261, 0.6434939836876904), (226605, 0.643489452087787), (79080, 0.6433988133871347), (234273, 0.6433874170521618), (173934, 0.6433529406851458), (138316, 0.6432675209026769), (39522, 0.6432675209026769), (133484, 0.6432675209026769), (185071, 0.6432675209026769), (174756, 0.6432675209026768), (205461, 0.6432675209026768), (29460, 0.6432675209026767), (157287, 0.6432675209026767), (132314, 0.643250072039689), (16640, 0.6432242017658958), (244246, 0.6432019047938813), (40071, 0.643198214484235), (217260, 0.6431758808251549), (35805, 0.6431752271721973), (10204, 0.6431590637371268), (245462, 0.6431484889130131), (225576, 0.6431196942844083), (199068, 0.6430961498709615), (179714, 0.6430394361098803), (142738, 0.6429378690899679), (232964, 0.6428695435311895), (51218, 0.642857142857143), (125117, 0.642857142857143), (133920, 0.6428571428571429), (200608, 0.6428571428571429), (248621, 0.6428571428571428), (243079, 0.6428571428571428), (11359, 0.6428571428571428), (71849, 0.6428571428571428), (5227, 0.6428571428571428), (86307, 0.6428571428571428), (108332, 0.6428571428571428), (137867, 0.6428571428571428), (259940, 0.6428571428571428), (262334, 0.6428571428571428), (153039, 0.6428571428571428), (104098, 0.6428303699715199), (215836, 0.6428243465332251), (158217, 0.642824346533225), (176823, 0.6428242465558704), (159668, 0.6427568363201984), (262719, 0.6427194063462824), (12705, 0.642718120911326), (244103, 0.642718120911326), (95695, 0.6426620275909546), (198363, 0.6426321494054743), (74528, 0.64260289355229), (121276, 0.6425895644302096), (14207, 0.6425754631219992), (182766, 0.6425754631219992), (138728, 0.6425754631219991), (139738, 0.6425754631219991), (154697, 0.6425754631219991), (161942, 0.6425754631219991), (113838, 0.6425754631219991), (62273, 0.6425396041156863), (34805, 0.6425294053171791), (107655, 0.642483121987102), (192471, 0.6424235708493281), (170137, 0.6424200290226084), (123915, 0.642364054837573), (118709, 0.6423599978398716), (203799, 0.6423543181722274), (225928, 0.6423172335936725), (188258, 0.6423165167229603), (167099, 0.6423153759378957), (256916, 0.6422937444233849), (170477, 0.6422864154615404), (221484, 0.6422758541647183), (67769, 0.6422616289332564), (124904, 0.6422480664334692), (50046, 0.6422185577088692), (20549, 0.6420827817437598), (145459, 0.6420387375057796), (70267, 0.6420242378222334), (69546, 0.6419970370551845), (195524, 0.6419676595688428), (141747, 0.6419510447761755), (55503, 0.6419510447761754), (235951, 0.6419505094795117), (180724, 0.6419479963933901), (181699, 0.6419444090860011), (64295, 0.6419407387663695), (87199, 0.6419407387663694), (66582, 0.6419395798938046), (220710, 0.6418991092862962), (195367, 0.6418674080138397), (41196, 0.6418625415785221), (229525, 0.6418452484879146), (203199, 0.6418319625030879), (5477, 0.6417935341722425), (30833, 0.6417513477786905), (49914, 0.641688947919748), (67925, 0.641688947919748), (90316, 0.641688947919748), (200505, 0.641688947919748), (215367, 0.641688947919748), (247463, 0.641688947919748), (215223, 0.6416889479197478), (46792, 0.6416889479197478), (219812, 0.6416889479197478), (266195, 0.6416889479197478), (103810, 0.6416889479197478), (259391, 0.6416889479197478), (142327, 0.6416889479197478), (182557, 0.6416889479197478), (236569, 0.6416738651724483), (14596, 0.6416458036560339), (240427, 0.6416341533104256), (153229, 0.6416236526819378), (128320, 0.6415723219152988), (78268, 0.6415491920762262), (90989, 0.6415385506874398), (44728, 0.6414902736772993), (29590, 0.6414733628480092), (95211, 0.6414713746086688), (140175, 0.6414269805898185), (11967, 0.6414179071693586), (69159, 0.6414079574030873), (98120, 0.6413980204688325), (171874, 0.6413945636668351), (142852, 0.6413822865173265), (139334, 0.641333084320859), (159464, 0.6412573229326939), (15163, 0.6412405093253499), (91502, 0.6412364700532214), (13588, 0.6412364700532214), (254081, 0.6412364700532214), (207159, 0.6412364700532214), (234123, 0.6412319123122286), (201593, 0.641181823225505), (61237, 0.6411378106988328), (183290, 0.6411092770533289), (264261, 0.6411042944785276), (211649, 0.6410878703464022), (261761, 0.6410878703464021), (262101, 0.6410773883285728), (161532, 0.6410256410256411), (30483, 0.6410044795138362), (223188, 0.6410014886130567), (11422, 0.6409586768877593), (236849, 0.6409235954456451), (136258, 0.6408845539119042), (103642, 0.6408699444616558), (93753, 0.6408699444616557), (112955, 0.6408502198230774), (190643, 0.6408461287109104), (15629, 0.6408461287109104), (210041, 0.6408118982203425), (251927, 0.640791550148477), (164133, 0.6407555816832783), (32875, 0.6407232755171874), (857, 0.6407223692498906), (165718, 0.6407174372525156), (202483, 0.6407116072277478), (206086, 0.6407116072277477), (265187, 0.6407116072277477), (59213, 0.6407116072277477), (77598, 0.6407116072277477), (121959, 0.6407116072277476), (212946, 0.640681647132937), (143462, 0.6406447807271447), (129551, 0.640625), (242203, 0.640614328579496), (162447, 0.6406112087120769), (245647, 0.6405998884282321), (84349, 0.6405365573796027), (265684, 0.6405126152203486), (38212, 0.6405126152203485), (201037, 0.6405126152203484), (91717, 0.64048986934008), (60722, 0.6404898693400798), (255408, 0.6404447607135403), (100996, 0.6404447607135402), (14995, 0.6404447607135402), (155271, 0.6404447607135402), (214621, 0.6404391130276093), (195553, 0.6404112602683381), (96562, 0.6403921725007257), (211847, 0.6403584961296727), (36566, 0.6403489119003504), (160918, 0.6403287883038916), (226006, 0.6402913757205404), (151106, 0.640257040581503), (193529, 0.6402491923775313), (66227, 0.6401906392481046), (192360, 0.6401843996644798), (164692, 0.6401551279178458), (134316, 0.6400397120788128), (30213, 0.64002034247449), (142176, 0.6399999999999999), (4312, 0.6399596761490322), (115931, 0.6399448505650359), (189037, 0.6399178279567016), (27803, 0.6398960163688362), (250808, 0.6398853001944994), (12389, 0.6398771166858559), (260673, 0.6398771166858559), (204550, 0.639873383349119), (242482, 0.6398633711112394), (173348, 0.6398320977167437), (161990, 0.6397612635199754), (5947, 0.6397562908442086), (204382, 0.6397415519711854), (140110, 0.6397218239016457), (114625, 0.6397078946489486), (93513, 0.6396898596683582), (43719, 0.6396680840341799), (166534, 0.6396396396396395), (114160, 0.6396172759431786), (231665, 0.6396021490668314), (253734, 0.6396021490668313), (151342, 0.6396021490668313), (211641, 0.6396021490668313), (258982, 0.6396021490668313), (119643, 0.6396021490668313), (118025, 0.6396021490668312), (2086, 0.6396021490668312), (155882, 0.6396021490668312), (199264, 0.6396021490668312), (96828, 0.6396021490668312), (142279, 0.6396021490668312), (18608, 0.6396021490668312), (214610, 0.6396021490668312), (127618, 0.6396021490668312), (125553, 0.6396021490668312), (4735, 0.6396021490668312), (181474, 0.6395297754146543), (3572, 0.6395216613827431), (32721, 0.6394964732576267), (92427, 0.6394858894732023), (234615, 0.6394477556057617), (254036, 0.6394084182887794), (248054, 0.6393715371433204), (159652, 0.6393620130910062), (80431, 0.6393620130910062), (192413, 0.6393620130910062), (241628, 0.639362013091006), (57647, 0.639362013091006), (108007, 0.639353425464664), (20971, 0.6393504619344946), (113870, 0.6393427281885602), (92148, 0.6393036109588068), (109749, 0.6392708191974272), (241322, 0.6392504770353102), (58993, 0.6392254747782221), (61091, 0.6392247269942516), (248341, 0.6391080993564437), (38549, 0.6390644422470537), (59405, 0.6390644422470536), (144057, 0.6390644422470536), (259285, 0.6390644422470536), (94288, 0.6390096504226939), (195471, 0.6390096504226939), (87967, 0.6390096504226939), (12936, 0.6390096504226939), (185842, 0.6390096504226938), (203245, 0.6390096504226936), (166891, 0.6389828338584013), (185079, 0.6389784510646974), (8881, 0.6389784510646974), (40623, 0.638950262356652), (174232, 0.6389151433378876), (240564, 0.6388934206907096), (267646, 0.638888888888889), (191520, 0.6388765649999399), (124416, 0.6388765649999399), (209000, 0.6388765649999399), (263276, 0.6388765649999399), (265889, 0.6388765649999399), (160704, 0.6388011501894311), (29988, 0.6387727180404934), (4360, 0.6387140179060972), (177364, 0.6386913847955176), (94353, 0.6386821436269179), (170304, 0.6386580863396183), (113981, 0.6386580863396182), (184356, 0.638599254201405), (149042, 0.6385499445979397), (235536, 0.6385239466639094), (131251, 0.6384997577922866), (24242, 0.6384946120470288), (180648, 0.6384821241286597), (113234, 0.6384639061536502), (144138, 0.6384423980690616), (5997, 0.6383204787326259), (206891, 0.6383106423916777), (116366, 0.638303336273449), (50625, 0.6382988430269813), (242335, 0.6382648185623152), (195837, 0.6382345659298854), (80405, 0.6381723297967093), (16063, 0.6381518081788444), (44589, 0.6381507154605425), (240182, 0.6381449017759607), (34644, 0.6381449017759607), (140273, 0.6381449017759607), (65918, 0.6381449017759606), (177029, 0.6381241786235472), (228393, 0.6380870427428421), (164804, 0.6380648228292942), (208945, 0.6380475374498649), (48942, 0.638046082770138), (239995, 0.6379986312846814), (102557, 0.6379600705148911), (67212, 0.6379336065831585), (257345, 0.6379279726950036), (58730, 0.6378977350044912), (225376, 0.6378879538497861), (204893, 0.6378776145713206), (40468, 0.6378648833438434), (35665, 0.6378648833438434), (235883, 0.6378471563450057), (77773, 0.6378295761923264), (270811, 0.6377928041432808), (179328, 0.6377928041432808), (133938, 0.6377928041432808), (13899, 0.6377765899476924), (108066, 0.63775573588154), (146530, 0.637725994800623), (48542, 0.6377092708436365), (144993, 0.6377092708436364), (194355, 0.6376869804557358), (62933, 0.6376804093660593), (181533, 0.6376804093660593), (266325, 0.6376804093660592), (173939, 0.6376727264232777), (100782, 0.6376467725891872), (243585, 0.6376329523138714), (64317, 0.6376329523138713), (77034, 0.6375998551737634), (190074, 0.637535577754862), (196132, 0.637535577754862), (34997, 0.6375196739104009), (243003, 0.6374869072014853), (36038, 0.6374552583116767), (133505, 0.6374526262543677), (148059, 0.6374453307112474), (126300, 0.6374391197111788), (112056, 0.6374229190549626), (162629, 0.637418092159512), (135185, 0.6374167871288327), (143996, 0.6373961915910286), (202244, 0.637390521447874), (123677, 0.6373776392996037), (28613, 0.6373774391990982), (142277, 0.6373540097940652), (73888, 0.6372659274182271), (62296, 0.6372395473602609), (91894, 0.6372395473602609), (7641, 0.63719309286431), (156345, 0.6371930928643099), (7660, 0.6371860058146334), (135659, 0.6371860058146332), (20248, 0.637158645138507), (201750, 0.6371346749780661), (63161, 0.6370967741935484), (236078, 0.6370965235818397), (95502, 0.6370846318370139), (227290, 0.6370661464188242), (249642, 0.6370624351781212), (216300, 0.6370589892970319), (64068, 0.6370589892970319), (20327, 0.6370416150673999), (31182, 0.6370332838163478), (168918, 0.6370220572706061), (142258, 0.6370156469241784), (105540, 0.6369308545388717), (144696, 0.6369260919649681), (23474, 0.6369116069780949), (240472, 0.6368830985100321), (164523, 0.636800114127734), (175996, 0.6367853686607046), (140523, 0.6367521367521368), (65129, 0.6367188209303911), (227916, 0.6367145399670133), (22626, 0.6367026230570662), (138441, 0.636656015720374), (87161, 0.6366530899316468), (115719, 0.6366228843385906), (67174, 0.6366127389367093), (254636, 0.6365871078552663), (139546, 0.636552428754956), (214691, 0.6364926343645658), (230313, 0.6364873465443639), (76007, 0.6364688465216445), (204621, 0.6364688465216445), (240713, 0.6364688465216445), (163822, 0.6364688465216444), (224034, 0.6364688465216444), (157401, 0.6364688465216444), (228159, 0.6364686445241208), (232720, 0.6364652878376866), (243358, 0.6364536341372554), (124623, 0.6364346693566012), (64502, 0.636396103067893), (42866, 0.636396103067893), (10301, 0.6363961030678928), (22725, 0.6363961030678927), (224459, 0.6363961030678927), (174628, 0.6363961030678927), (75659, 0.6363961030678927), (223763, 0.6363961030678926), (234966, 0.6363961030678926), (195833, 0.6363797426647719), (155842, 0.6363797426647719), (109734, 0.6363658366848318), (243693, 0.6363636363636365), (112592, 0.6363636363636364), (186774, 0.6363636363636364), (131533, 0.6363636363636364), (270342, 0.6363636363636364), (19965, 0.6363636363636364), (179872, 0.6363636363636364), (243482, 0.6363636363636364), (101852, 0.6363636363636364), (109413, 0.6363636363636364), (166650, 0.6363636363636364), (211318, 0.6363636363636364), (172802, 0.6363636363636364), (209287, 0.6363636363636364), (24420, 0.6363636363636364), (88149, 0.6363636363636364), (81880, 0.6363636363636364), (153904, 0.6363636363636364), (9830, 0.6363636363636364), (45292, 0.6363636363636364), (113591, 0.6363636363636364), (229975, 0.6363636363636364), (97022, 0.6363636363636364), (99757, 0.6363636363636364), (207837, 0.6363636363636364), (44408, 0.6363636363636364), (123209, 0.6363636363636364), (143961, 0.6363636363636364), (224035, 0.6363636363636364), (196876, 0.6363636363636364), (195582, 0.6363636363636364), (102109, 0.6363636363636364), (131653, 0.6363636363636364), (170377, 0.6363636363636364), (133775, 0.6363636363636364), (211636, 0.6363636363636364), (149283, 0.6363636363636364), (270309, 0.6363636363636364), (80962, 0.6363636363636362), (58615, 0.6363636363636362), (206022, 0.6363636363636362), (109177, 0.6363636363636362), (170363, 0.6363636363636362), (113878, 0.6363636363636362), (71715, 0.6363636363636362), (133340, 0.6363636363636362), (232150, 0.6363636363636362), (159445, 0.6363636363636362), (85438, 0.6363636363636362), (90977, 0.6363636363636362), (149278, 0.6363592899589048), (161613, 0.6362979065037945), (34832, 0.6362847629757779), (174350, 0.6362847629757779), (270016, 0.6362847629757779), (54277, 0.6362847629757779), (103988, 0.6362847629757779), (193430, 0.6362847629757779), (241257, 0.6362847629757779), (119755, 0.6362847629757777), (243429, 0.6362847629757776), (88749, 0.6362563328241562), (3024, 0.6362090102803519), (174344, 0.6361949197404947), (50516, 0.6361949197404947), (180085, 0.636178020015355), (10114, 0.6361771386043283), (220621, 0.6361763759768243), (134971, 0.6361608799576332), (182797, 0.6361505060205357), (247089, 0.6361376336921494), (9994, 0.6361104144965557), (189286, 0.6360478324462624), (19824, 0.636026266568218), (207260, 0.6360199118826669), (23082, 0.6360086189655124), (138719, 0.6359727033932191), (160634, 0.6359727033932191), (229704, 0.635961854412002), (69595, 0.6359605381627211), (176306, 0.6359337738364605), (138288, 0.635855855098946), (111058, 0.6357899462254755), (2119, 0.6357639532057509), (263005, 0.6357639532057509), (89939, 0.6357639532057507), (131795, 0.6357633743489731), (200380, 0.6357410374253549), (202397, 0.6357325696282459), (89563, 0.6357084917461995), (29754, 0.6357084917461995), (263093, 0.6357084917461994), (260809, 0.6357084917461993), (155054, 0.6356936256030317), (249242, 0.6356845346445098), (56091, 0.6356811346035218), (206408, 0.6356782019918038), (255957, 0.6356778001529269), (84940, 0.6356608256882639), (196502, 0.6356608256882638), (169058, 0.6356608256882637), (14295, 0.6356417261637283), (131463, 0.6356016249340791), (34542, 0.6356004501658491), (223630, 0.635597406968452), (193955, 0.6355871154220867), (22510, 0.6355140567630981), (5582, 0.63549985302308), (1424, 0.6354889093022424), (27437, 0.635471507467298), (5306, 0.6354658085948682), (67590, 0.6354598484169272), (229217, 0.6354550589861184), (107123, 0.6354401581021422), (10071, 0.6354190868651475), (197228, 0.6354107097191862), (870, 0.635404058656387), (109890, 0.6353949229215907), (87156, 0.6352906444286353), (253074, 0.635281110652787), (4726, 0.6352580709975036), (219469, 0.6352216003500042), (42548, 0.6351422550380256), (228125, 0.6351157564268732), (80091, 0.6351073488299559), (86825, 0.6351073488299559), (142409, 0.6351073488299558), (63510, 0.6351073488299558), (47535, 0.6351073488299558), (258621, 0.6351041758236843), (216367, 0.635099956941632), (261123, 0.6350852961085884), (86155, 0.6350670141178972), (89401, 0.6350412815450809), (266994, 0.6350006350009526), (63366, 0.6350006350009525), (178074, 0.6350006350009525), (119839, 0.6350006350009525), (209042, 0.6350006350009525), (140740, 0.6349929565568331), (223714, 0.6349812749303676), (13557, 0.6349803146555019), (19695, 0.6349404600401141), (203273, 0.6349369493523663), (188529, 0.6349178222388541), (99936, 0.6348737067986651), (183791, 0.6348494578989385), (30856, 0.6348248966420001), (257391, 0.6348110542727385), (230405, 0.6348110542727385), (78644, 0.6348110542727383), (223503, 0.6347917188462602), (64557, 0.6347917188462602), (185338, 0.6347716207284163), (146483, 0.6347454495420081), (92397, 0.634745449542008), (250154, 0.634745449542008), (162067, 0.634745449542008), (73284, 0.6347454495420078), (263234, 0.6347454495420078), (15548, 0.6347454495420078), (118389, 0.6346908030064153), (188727, 0.6346630624175339), (141759, 0.634655148074213), (214810, 0.6346177794762744), (102710, 0.6346153846153847), (133640, 0.6346153846153847), (146157, 0.6345246760229498), (148747, 0.634505636379538), (197766, 0.634500211608463), (229721, 0.634478730881381), (93478, 0.6344590721049272), (136658, 0.6344412685745154), (213404, 0.6344412685745154), (191996, 0.6344412685745153), (142649, 0.6344412685745153), (125241, 0.6343967735455608), (244672, 0.6343811575514727), (212886, 0.63435912778036), (13750, 0.6343510610022888), (81842, 0.6343350474165467), (190421, 0.6343350474165466), (233738, 0.6343350474165466), (216576, 0.6342703292561562), (187969, 0.6342599279769312), (267394, 0.6341957434983528), (62228, 0.6341827636910269), (189571, 0.6341718324267315), (237754, 0.6341554305119896), (40942, 0.6341005008688838), (263173, 0.6340973247800632), (113425, 0.6340796180491189), (170463, 0.6340544258104467), (203930, 0.6340294594746585), (36444, 0.6340294594746585), (178615, 0.6340294594746585), (13591, 0.6340113905520576), (262014, 0.6339555736144471), (122680, 0.6339211328107766), (46609, 0.6338892456325625), (99896, 0.6338656910463875), (259629, 0.6338656910463873), (70433, 0.6338656910463873), (141492, 0.6338656910463873), (138136, 0.6338656910463873), (105866, 0.6338185336835988), (104783, 0.6337940231439914), (69185, 0.6337839028557964), (175604, 0.6337772796238156), (119774, 0.6337768413122402), (119032, 0.6337730315194952), (211869, 0.6337609111975773), (14571, 0.6337561120327408), (195132, 0.6337458148214662), (140285, 0.6337117467354233), (124990, 0.6337007844285659), (204392, 0.6336927023352599), (200811, 0.6335879510819886), (138565, 0.6335667039973515), (116878, 0.6335081289775986), (229896, 0.6335035120929974), (112922, 0.6335026098871481), (238117, 0.6334349293989152), (38072, 0.6334307917217433), (231027, 0.6334307917217432), (261357, 0.6334120199455939), (44915, 0.6333984795942081), (157618, 0.6333937428884383), (213941, 0.6333682399226749), (1200, 0.6333333333333335), (30118, 0.6333333333333333), (44455, 0.6333004963811237), (97049, 0.6333004963811236), (205805, 0.6333004963811236), (33936, 0.6333004963811236), (85630, 0.6333004963811235), (38593, 0.633298813306878), (116093, 0.633298325821111), (37764, 0.6332785063987777), (64825, 0.6332423700593872), (82983, 0.6332377902572627), (254770, 0.6332377902572626), (107949, 0.6332345987294217), (266974, 0.6332118840740025), (159353, 0.6331895524784817), (55787, 0.6331679500974099), (182003, 0.63313344561938), (25078, 0.6331130843152799), (22457, 0.6331130843152799), (78342, 0.6331130843152799), (259513, 0.6330643237525513), (194829, 0.6330637042635241), (140353, 0.6330541649476573), (61435, 0.6330435566126065), (56039, 0.6329817744201311), (124205, 0.6329817744201311), (179899, 0.632981774420131), (106854, 0.632981774420131), (81524, 0.6329788714132796), (247992, 0.6329788714132796), (175981, 0.6329621044272916), (173343, 0.6328950498050973), (30001, 0.6328690668803094), (237466, 0.6328642799158285), (25362, 0.6328498173757734), (259693, 0.6327855304510442), (140048, 0.6327461157990807), (223092, 0.6326725351390609), (167747, 0.6326364105838517), (9725, 0.6325987349183445), (195131, 0.6325574013315957), (246970, 0.6325352215107177), (192070, 0.6325198133495037), (66778, 0.6324978032927288), (37410, 0.6324954585216442), (26418, 0.6324831544009519), (75558, 0.632455532033676), (267012, 0.632455532033676), (26265, 0.632455532033676), (144971, 0.632455532033676), (3275, 0.632455532033676), (10325, 0.632455532033676), (213480, 0.632455532033676), (79344, 0.632455532033676), (193230, 0.6324555320336759), (118352, 0.6324555320336759), (61062, 0.6324555320336759), (69564, 0.6324555320336759), (253390, 0.6324555320336759), (53439, 0.6324555320336759), (122990, 0.6324555320336759), (127692, 0.6324555320336759), (140445, 0.6324555320336759), (175835, 0.6324555320336759), (208354, 0.6324555320336759), (54760, 0.6324555320336759), (24421, 0.6324555320336759), (156140, 0.6324555320336759), (21067, 0.6324555320336759), (64096, 0.6324555320336759), (1317, 0.6324555320336759), (69925, 0.6324555320336759), (180940, 0.6324555320336759), (213710, 0.6324555320336759), (154568, 0.6324555320336759), (9363, 0.6324555320336759), (13693, 0.6324555320336759), (242521, 0.6324555320336759), (245225, 0.6324555320336759), (167046, 0.6324555320336759), (270889, 0.6324555320336759), (216095, 0.6324555320336759), (176627, 0.6324555320336759), (266019, 0.6324555320336759), (136388, 0.6324555320336759), (214635, 0.6324555320336759), (257889, 0.6324555320336759), (141929, 0.6324555320336759), (189691, 0.6324555320336758), (217953, 0.6324555320336758), (151771, 0.6324555320336758), (137739, 0.6324555320336758), (270322, 0.6324555320336758), (59692, 0.6324555320336758), (258260, 0.6324555320336758), (185919, 0.6324555320336758), (173180, 0.6324555320336758), (149911, 0.6324555320336758), (212214, 0.6324555320336758), (10634, 0.6324555320336758), (30093, 0.6324555320336758), (83989, 0.6324555320336758), (39817, 0.6324555320336758), (66230, 0.6324555320336758), (209108, 0.6324555320336758), (118561, 0.6324555320336758), (25203, 0.6324555320336758), (173719, 0.6324555320336757), (128936, 0.6324282955528352), (145858, 0.6323804616424601), (129037, 0.6323529411764708), (140627, 0.6323360091124473), (1880, 0.6322138036125603), (142164, 0.6321954228176433), (60325, 0.632126727471794), (126949, 0.6321180724105224), (80041, 0.6321054320721498), (57214, 0.6320971664187096), (134274, 0.6320257287002884), (151611, 0.6319334885835686), (255662, 0.6319305999758523), (144528, 0.6318831471760191), (136601, 0.6317978570234556), (84695, 0.6317677063467304), (191846, 0.6317539727139918), (233455, 0.6317382148639481), (268340, 0.6317119251977167), (208150, 0.6317109190797743), (71186, 0.6316922756558025), (71740, 0.6316526093819761), (100985, 0.6316511701147546), (65519, 0.6316424035414328), (128128, 0.6316362003300438), (79355, 0.6316299207100967), (17687, 0.6316299207100967), (229326, 0.6316139407998893), (139119, 0.6315904670039691), (220094, 0.6315819742520665), (248169, 0.631578947368421), (256821, 0.631570001137157), (260141, 0.6315565187405134), (97963, 0.6315539556208946), (211428, 0.6315487099165173), (247658, 0.631540181149671), (234093, 0.6315251510126194), (1372, 0.6314421312245398), (115767, 0.6313739873529622), (246631, 0.63135014066246), (126351, 0.6313358105322219), (79318, 0.6313358105322218), (62782, 0.6313358105322218), (8340, 0.6313358105322218), (77705, 0.6312893777096925), (190404, 0.6312730027373702), (43150, 0.6312279884865479), (11303, 0.6312256535318497), (251951, 0.63121905864763), (129310, 0.6312190586476298), (178142, 0.6312015473064169), (130849, 0.6311898624184179), (50726, 0.6311687442672026), (82779, 0.6311687442672026), (39010, 0.6311687442672026), (204891, 0.6311687442672026), (52909, 0.6311687442672026), (119309, 0.6311687442672025), (165349, 0.6311687442672025), (151890, 0.6311687442672025), (263987, 0.6311370710144282), (157509, 0.6310896492338176), (183045, 0.6310840499261431), (115648, 0.6310680319374672), (170625, 0.6310417651408292), (142207, 0.6309536394571161), (216720, 0.6309406663085791), (256505, 0.6309312213168021), (33902, 0.6309237879016261), (39583, 0.6308932681440449), (270496, 0.6308932681440449), (49854, 0.6308802978765118), (148916, 0.630874867656052), (67507, 0.630818276718736), (236062, 0.6308092849525132), (149725, 0.6307780049169673), (90127, 0.6307714227596918), (247784, 0.6307530914435469), (205624, 0.6307436763985832), (96057, 0.6306874074962652), (60451, 0.6306697716731442), (3667, 0.6306568962981749), (126468, 0.6306562238868914), (240139, 0.6306562238868912), (172572, 0.6306562238868912), (254632, 0.6306562238868911), (100981, 0.6306414784205198), (10938, 0.6306414784205198), (156977, 0.6305860398481811), (164, 0.6304883249912806), (116594, 0.6304866698513261), (73694, 0.6304866698513261), (263939, 0.630483730114426), (170624, 0.6304600019386887), (148722, 0.6304445765199487), (190353, 0.6304347826086957), (39786, 0.6304083926108117), (251142, 0.630341132074124), (203201, 0.6302521008403363), (193682, 0.6302087912488812), (104152, 0.630208791248881), (46824, 0.6302062136603723), (227598, 0.6301538619391621), (129990, 0.6301496573972831), (218350, 0.6301476218780918), (124371, 0.6301260378126045), (19478, 0.6301260378126045), (193068, 0.6301260378126043), (41574, 0.6301260378126043), (210462, 0.6300720123452087), (206438, 0.6300720123452086), (48915, 0.6300661524390719), (256343, 0.6300492245185735), (261232, 0.6300199295170689), (30123, 0.6299993847665263), (16944, 0.6299596910144933), (24602, 0.6299545049285734), (153415, 0.6299467399465138), (116612, 0.6299407883487123), (159916, 0.6299407883487121), (234520, 0.6299407883487121), (93650, 0.6299407883487121), (197539, 0.6299407883487119), (78581, 0.6299388067765852), (243976, 0.6299305595388828), (56737, 0.6299077157770583), (23900, 0.6298740377874044), (185715, 0.6298581677452549), (141576, 0.6298366572977736), (160244, 0.6298366572977735), (17433, 0.6298007698256346), (235716, 0.6297170216808429), (55591, 0.6297031059991921), (179169, 0.6296884707848639), (71952, 0.6295412064573487), (226476, 0.6295412064573487), (233071, 0.6295258577905343), (211873, 0.6294820948336656), (24272, 0.6294651817966899), (21968, 0.6294651817966898), (8969, 0.6294651817966896), (6645, 0.6294397039146995), (49272, 0.6293959413188874), (141467, 0.6293647399173579), (136911, 0.6293597937587052), (203781, 0.6293440259526656), (189834, 0.6293153651974895), (259568, 0.6292982421519212), (120458, 0.6292982421519212), (119354, 0.6292982421519211), (171215, 0.6292767762545339), (61532, 0.629269023700086), (206096, 0.6292532049656927), (86135, 0.6292227825854898), (23772, 0.6291959619730948), (208525, 0.6291876147130607), (12583, 0.6291614928043338), (244700, 0.6291272070846213), (207064, 0.6290983276741029), (251601, 0.6290939671233219), (261557, 0.6290799285738723), (238879, 0.6290188708491925), (6193, 0.6290086109634713), (98165, 0.6289873397004658), (206080, 0.628970902033151), (68365, 0.628970902033151), (260729, 0.628970902033151), (59966, 0.628970902033151), (166599, 0.628970902033151), (175944, 0.628970902033151), (54076, 0.6289709020331509), (5290, 0.6289709020331509), (149125, 0.6289709020331509), (187700, 0.6289709020331509), (231381, 0.6289661615050209), (59555, 0.6288468991298254), (264764, 0.6288281455225325), (64337, 0.6288281455225325), (58628, 0.6288082227054204), (93275, 0.6288082227054204), (175825, 0.6288082227054204), (216500, 0.6288082227054204), (3942, 0.6288082227054204), (223657, 0.6287858659610265), (60891, 0.6287836059473404), (41877, 0.6287673557013757), (136066, 0.628753787504461), (52912, 0.6287517390161386), (4853, 0.6286513972689514), (97156, 0.6286185570937123), (146758, 0.6286185570937123), (31282, 0.6286185570937123), (23450, 0.6286185570937123), (246012, 0.6286185570937123), (112906, 0.6286185570937122), (215925, 0.6286185570937122), (163411, 0.6286185570937122), (72119, 0.6286185570937122), (179319, 0.6286185570937122), (46461, 0.6286185570937122), (195857, 0.6286185570937122), (40106, 0.6286185570937122), (259713, 0.6286185570937122), (260221, 0.6286185570937122), (21279, 0.6286185570937122), (246778, 0.6286185570937122), (251848, 0.6286185570937122), (42247, 0.6286185570937122), (5268, 0.6286185570937122), (158118, 0.6286185570937122), (33006, 0.6286185570937122), (188817, 0.6286185570937122), (142994, 0.6286185570937122), (66406, 0.6286185570937121), (149472, 0.6286185570937121), (151508, 0.6286185570937121), (213430, 0.6286185570937121), (201172, 0.6286185570937121), (264756, 0.6286185570937121), (210753, 0.6286185570937121), (190395, 0.6286185570937121), (262369, 0.6286185570937121), (17513, 0.6286185570937121), (100479, 0.6286185570937121), (120710, 0.6286185570937121), (70016, 0.6286185570937121), (53372, 0.6286185570937121), (255240, 0.6286185570937121), (152422, 0.6286185570937121), (255414, 0.6286185570937121), (154325, 0.6286185570937121), (153528, 0.6286185570937121), (50182, 0.6285999928361702), (183896, 0.6285872661926204), (254061, 0.6285648694397382), (261239, 0.6285623201386408), (172618, 0.6285493925655832), (160131, 0.6285466955358262), (166983, 0.6285441941697473), (31512, 0.628539361054709), (179392, 0.628539361054709), (175657, 0.628539361054709), (183943, 0.628539361054709), (244392, 0.628539361054709), (246983, 0.6285393610547089), (261895, 0.6285393610547089), (157413, 0.6285161764984483), (192817, 0.6284703665107674), (2807, 0.6284678229720899), (26696, 0.6284056150459484), (49021, 0.6283877557759538), (135070, 0.6283787178796811), (118887, 0.6283707388220153), (174052, 0.6283495733207594), (113475, 0.6283312034385804), (66964, 0.6283188009576973), (27961, 0.6283019524112804), (114460, 0.6282808624375433), (223614, 0.6282808624375433), (40540, 0.6282808624375433), (237795, 0.6282808624375433), (184215, 0.6282580899747352), (99040, 0.6282406549922189), (196944, 0.6282400424483868), (129497, 0.6282308096182772), (245967, 0.6281486345370073), (234998, 0.6281122190678597), (130438, 0.6281122190678597), (225268, 0.6281122190678597), (13350, 0.6281068956994894), (9876, 0.6280972351174039), (161540, 0.6280916963166586), (56586, 0.6280916963166586), (217127, 0.6280778057312644), (160169, 0.6280673699242275), (114365, 0.6280225803899345), (143754, 0.6279936254777587), (266275, 0.6279553275314936), (204781, 0.6278979811033232), (97668, 0.6278919260835557), (62570, 0.6278325643143714), (160176, 0.6278137510556078), (132428, 0.6277190513221813), (73966, 0.6276815587107443), (48418, 0.6276571856226213), (163309, 0.6276459144608479), (53583, 0.6276459144608478), (267991, 0.6276459144608478), (95325, 0.6276459144608478), (142256, 0.6276089304413853), (11160, 0.6275996239677192), (182699, 0.627598763808003), (191941, 0.6275987638080027), (25905, 0.6275987638080027), (152594, 0.6275730106277887), (258172, 0.6275660925378378), (26332, 0.6275383016524966), (146497, 0.6275330162139615), (79833, 0.6275129604603921), (246426, 0.6274957000688277), (114529, 0.6274950199005568), (206445, 0.6274950199005567), (14246, 0.6274950199005567), (244614, 0.6274950199005567), (33308, 0.6274950199005566), (103168, 0.6274775228162021), (185442, 0.6274558051381587), (199881, 0.6274558051381585), (189870, 0.6274418677074677), (270435, 0.6273920724272402), (166927, 0.6273764344284783), (123756, 0.6273764344284781), (262176, 0.6273764344284781), (252247, 0.6273550009275093), (246014, 0.6273291925465838), (50151, 0.6272740656720996), (187074, 0.6272150756439738), (43184, 0.6271568478435432), (123069, 0.6271094865810316), (215132, 0.6271094865810316), (130215, 0.6270894413356967), (39494, 0.6270879520536933), (114409, 0.6270544465288199), (172787, 0.6270433742440734), (119838, 0.6270170635549783), (78911, 0.6269767042608322), (30848, 0.6269164435829974), (210246, 0.6269156688215357), (10776, 0.6269025919200666), (84555, 0.6268896666923195), (252521, 0.6268896666923193), (207078, 0.6268705396506566), (36362, 0.6268307633487586), (56724, 0.6268291271656099), (248709, 0.6268245792533556), (102269, 0.6267248905510794), (220111, 0.6267179296419844), (133222, 0.6266283136583126), (133445, 0.6265895446469514), (55137, 0.6265693779683406), (111588, 0.6265515005254438), (56341, 0.6265403443746255), (41363, 0.6265331561272871), (25765, 0.6265249609074541), (195831, 0.6264518021884175), (157117, 0.626422431982715), (71339, 0.6264202877541699), (62388, 0.6264202877541698), (180576, 0.6264144833056663), (219718, 0.6264114497259977), (109278, 0.6263716900023574), (264587, 0.6263556725786303), (83664, 0.6263375178484332), (59358, 0.6263333039314944), (91572, 0.6262758456337706), (115220, 0.6262242910851497), (71271, 0.6262242910851497), (7918, 0.6262242910851495), (247226, 0.6262183247429786), (199383, 0.6262126856349297), (119683, 0.6261841435693001), (166094, 0.6261585997769192), (213149, 0.6261558132996751), (21675, 0.6261367579761737), (144544, 0.6261312344992899), (161711, 0.6260990336999411), (65450, 0.6260990336999411), (141957, 0.6260879033472615), (191629, 0.6260618886117354), (33394, 0.6260599061785017), (45261, 0.6260360515945493), (152491, 0.6259710241773906), (238377, 0.6259686371487614), (146498, 0.6259676268597077), (253483, 0.6259114837476292), (28929, 0.6258510220793384), (197682, 0.6258508771171848), (227152, 0.6258421920963874), (18969, 0.6257987223706326), (93803, 0.6257980163344699), (33989, 0.6257627971644917), (210922, 0.6257604878522637), (138749, 0.6256800169261815), (173795, 0.6256792741924413), (152252, 0.6256546181610986), (126722, 0.6256497679495345), (56610, 0.625609281564841), (4801, 0.6255789710203572), (72810, 0.6255432421712245), (40285, 0.6255432421712244), (257707, 0.6255432421712244), (43417, 0.6255432421712244), (264162, 0.6255432421712243), (249617, 0.6255432421712243), (71807, 0.6255432421712243), (177754, 0.6255432421712241), (39127, 0.6255432421712241), (188119, 0.6255375784555024), (648, 0.6255270730405676), (218235, 0.625524987512432), (79391, 0.6254850496163781), (229279, 0.6254383470780056), (201102, 0.6254042215267518), (175773, 0.6253926177428016), (135707, 0.6253909915928249), (11181, 0.6253773439544007), (52349, 0.6253053994807225), (237381, 0.6252949830837425), (246255, 0.6252949830837424), (82794, 0.6252832405653947), (183498, 0.6252412661738195), (219566, 0.6252138106573549), (29828, 0.625197005521047), (44514, 0.6251736834825803), (231809, 0.6251690321485914), (227587, 0.6251100239520826), (118851, 0.625095089976799), (4894, 0.6250822706512437), (66785, 0.625076307917994), (46163, 0.6250271250771959), (110656, 0.625), (59731, 0.625), (227984, 0.625), (201221, 0.625), (43492, 0.6249999999999999), (45442, 0.6249999999999999), (111019, 0.6249999999999999), (134977, 0.6249999999999998), (23239, 0.6249949558332761), (184509, 0.6249637670656817), (129615, 0.6249412709487404), (132285, 0.6249324287797365), (63134, 0.6249285673464722), (184066, 0.6249074792575985), (152677, 0.6249021923624257), (9554, 0.6248809410409238), (206420, 0.6248809410409238), (173908, 0.6248438085693466), (226180, 0.6248061405470932), (171803, 0.6248022931251849), (232003, 0.6248007573491187), (223529, 0.624789121050561), (55577, 0.6247580176717713), (172883, 0.6247580176717712), (262070, 0.6247161517603578), (153846, 0.6247161517603577), (74946, 0.6246877341798583), (90404, 0.6246728381491179), (119497, 0.6246598786303277), (218351, 0.6246465258604103), (55810, 0.6245958989094), (83425, 0.6245889760090508), (155484, 0.6245592137682245), (151921, 0.6245592137682245), (38946, 0.6245592137682244), (140068, 0.6245508908004377), (251944, 0.6245503727677958), (153779, 0.6245383527799537), (175893, 0.6245383527799537), (109489, 0.6245383527799537), (158437, 0.6245383527799537), (141585, 0.6245127971196698), (212364, 0.6245106046150481), (20464, 0.6244845108799226), (163638, 0.6244045133754109), (148488, 0.624373526470002), (173561, 0.624355337631437), (120188, 0.624278615462511), (149717, 0.6242364869577647), (101528, 0.624208551921542), (217857, 0.6241877839323594), (194077, 0.6241572113359476), (226732, 0.6241565697858893), (220800, 0.6241518411825037), (169147, 0.6241465409187209), (264408, 0.6241357858666943), (35695, 0.6241050826688055), (91767, 0.6241002339236628), (167089, 0.6240896334821995), (210319, 0.6240896334821995), (42839, 0.6240896334821994), (84921, 0.6240864794142965), (255090, 0.6240841296866827), (100649, 0.6240714608779225), (3678, 0.6240377207533828), (32117, 0.6240377207533828), (266472, 0.6240377207533827), (105635, 0.6240377207533827), (168973, 0.6240377207533827), (187823, 0.6240192894539399), (92960, 0.6240098802817386), (82269, 0.6240062447787825), (38966, 0.623999262005934), (6408, 0.623997504014976), (173639, 0.6239919444536091), (126608, 0.6239919444536091), (20782, 0.6239674578490629), (88946, 0.6239413522692007), (47645, 0.6239188545233142), (227808, 0.6238847065734219), (66710, 0.6238476314985082), (57580, 0.623810589750295), (243705, 0.6237951349364391), (189051, 0.6237820095507831), (162257, 0.6237449404683604), (224289, 0.6237085736817237), (215113, 0.6237055560836821), (250282, 0.6236635542952859), (121514, 0.6236630358077133), (225454, 0.6236608207451918), (212312, 0.6236608207451917), (84726, 0.6236348727784989), (53854, 0.6236207449696074), (242171, 0.6236095644623237), (41025, 0.6236095644623237), (141479, 0.6236095644623237), (184143, 0.6236095644623237), (85406, 0.6236095644623237), (60211, 0.6236095644623236), (162359, 0.6236095644623236), (105593, 0.6236095644623236), (78832, 0.6236095644623235), (242394, 0.6236095644623235), (2572, 0.6236095644623235), (251276, 0.6236095644623235), (101178, 0.6236095644623235), (160924, 0.6235957280003451), (233152, 0.6235220551818246), (200661, 0.6235179312880046), (121989, 0.6235167936573462), (5449, 0.6234876344123289), (74285, 0.6234619167749048), (184907, 0.6234458231490083), (237548, 0.6234433350672707), (150771, 0.6234292001593574), (211182, 0.6234292001593573), (45318, 0.623389012885324), (33048, 0.6233730513753473), (198619, 0.6233360482105718), (178666, 0.6233022919309994), (7649, 0.6233022919309992), (241464, 0.6232502388407517), (113916, 0.6232502388407515), (50154, 0.6232502388407515), (122436, 0.6232502388407515), (33445, 0.6232502388407515), (182596, 0.6232502388407515), (16048, 0.6232502388407514), (261882, 0.6232457943927753), (214198, 0.6232185828212287), (123969, 0.6231924215892239), (213365, 0.6231769528497558), (51014, 0.623146361869656), (109527, 0.6231327348282687), (222916, 0.6231190555181605), (43075, 0.6231043623950823), (249257, 0.6231011611647551), (234993, 0.6230559828490335), (136677, 0.6229918232859788), (139565, 0.6229541679970017), (159903, 0.6229487570742133), (146820, 0.6229178176443523), (167757, 0.6228625772932799), (125138, 0.6228613997814276), (191701, 0.6228410989030496), (172619, 0.6227991553292185), (23819, 0.6227991553292184), (33221, 0.6227991553292183), (119274, 0.6227748215845431), (221673, 0.6227523687795277), (38154, 0.6227272727272727), (232363, 0.6227148003923925), (269980, 0.6227085654194975), (131911, 0.6226998490772392), (176585, 0.6226306440570678), (197058, 0.6225728063646905), (264850, 0.6225728063646905), (125756, 0.6225560118109418), (9553, 0.6225430174794673), (23173, 0.6225430174794673), (265966, 0.622543017479467), (171757, 0.622543017479467), (217207, 0.622543017479467), (173156, 0.6225430174794669), (162165, 0.6225430174794669), (218044, 0.6225430174794669), (66750, 0.6225430174794669), (7067, 0.6225412465745833), (87562, 0.6225310618976452), (6090, 0.6224949798994367), (187694, 0.6224329324205835), (130440, 0.6223971954927309), (107971, 0.6223815430174353), (134535, 0.622375914264142), (242861, 0.6223759142641418), (173640, 0.622370697095636)]\n"
     ]
    }
   ],
   "source": [
    "print(matches[22000:24000])"
   ],
   "metadata": {
    "collapsed": false
   }
  },
  {
   "cell_type": "code",
   "execution_count": 93,
   "outputs": [],
   "source": [
    "euclid_matches = topMatches(critics, random_user, similarity=euclid_oxana)"
   ],
   "metadata": {
    "collapsed": false
   }
  },
  {
   "cell_type": "code",
   "execution_count": 94,
   "outputs": [
    {
     "name": "stdout",
     "output_type": "stream",
     "text": [
      "[(129951, 0.4721359549995794), (133076, 0.4721359549995794), (134130, 0.4721359549995794), (145273, 0.4721359549995794), (146860, 0.4721359549995794), (154179, 0.4721359549995794), (159769, 0.4721359549995794), (179170, 0.4721359549995794), (193136, 0.4721359549995794), (194225, 0.4721359549995794), (211350, 0.4721359549995794), (232601, 0.4721359549995794), (237426, 0.4721359549995794), (243966, 0.4721359549995794), (245546, 0.4721359549995794), (255367, 0.4721359549995794), (256998, 0.4721359549995794), (8785, 0.4721359549995794), (16406, 0.4721359549995794), (23838, 0.4721359549995794), (27360, 0.4721359549995794), (41619, 0.4721359549995794), (71606, 0.4721359549995794), (71979, 0.4721359549995794), (82526, 0.4721359549995794), (98446, 0.4721359549995794), (112474, 0.4721359549995794), (145948, 0.4721359549995794), (168835, 0.4721359549995794), (175036, 0.4721359549995794), (176562, 0.4721359549995794), (190318, 0.4721359549995794), (202924, 0.4721359549995794), (208643, 0.4721359549995794), (254260, 0.4721359549995794), (260630, 0.4721359549995794), (266292, 0.4721359549995794), (8248, 0.4721359549995794), (16773, 0.4721359549995794), (33001, 0.4721359549995794), (75186, 0.4721359549995794), (76961, 0.4721359549995794), (86950, 0.4721359549995794), (112814, 0.4721359549995794), (164220, 0.4721359549995794), (169145, 0.4721359549995794), (211448, 0.4721359549995794), (254044, 0.4721359549995794), (255974, 0.4721359549995794), (258305, 0.4721359549995794), (270714, 0.4721359549995794), (13781, 0.4721359549995794), (20741, 0.4721359549995794), (36511, 0.4721359549995794), (43616, 0.4721359549995794), (48419, 0.4721359549995794), (66745, 0.4721359549995794), (71942, 0.4721359549995794), (107791, 0.4721359549995794), (110638, 0.4721359549995794), (123496, 0.4721359549995794), (161724, 0.4721359549995794), (168268, 0.4721359549995794), (178016, 0.4721359549995794), (232207, 0.4721359549995794), (261332, 0.4721359549995794), (269538, 0.4721359549995794), (59744, 0.4721359549995794), (88931, 0.4721359549995794), (107977, 0.4721359549995794), (153257, 0.4721359549995794), (94855, 0.4721359549995794), (116749, 0.4721359549995794), (119325, 0.4721359549995794), (119563, 0.4721359549995794), (150357, 0.4721359549995794), (31274, 0.4721359549995794), (243166, 0.4721359549995794), (42364, 0.4721359549995794), (141293, 0.4721359549995794), (41381, 0.4721359549995794), (7270, 0.4721359549995794), (25837, 0.4721359549995794), (34512, 0.4721359549995794), (98612, 0.4721359549995794), (200694, 0.4721359549995794), (28069, 0.4721359549995794), (33861, 0.4721359549995794), (55575, 0.4721359549995794), (71769, 0.4721359549995794), (75654, 0.4721359549995794), (84643, 0.4721359549995794), (117127, 0.4721359549995794), (131757, 0.4721359549995794), (149916, 0.4721359549995794), (151736, 0.4721359549995794), (156369, 0.4721359549995794), (160226, 0.4721359549995794), (188479, 0.4721359549995794), (209338, 0.4721359549995794), (258059, 0.4721359549995794), (149709, 0.4721359549995794), (31512, 0.4721359549995794), (71631, 0.4721359549995794), (76707, 0.4721359549995794), (78737, 0.4721359549995794), (86850, 0.4721359549995794), (95830, 0.4721359549995794), (111762, 0.4721359549995794), (117727, 0.4721359549995794), (134705, 0.4721359549995794), (149665, 0.4721359549995794), (165308, 0.4721359549995794), (223292, 0.4721359549995794), (20376, 0.4721359549995794), (20566, 0.4721359549995794), (35283, 0.4721359549995794), (69075, 0.4721359549995794), (75521, 0.4721359549995794), (97200, 0.4721359549995794), (102047, 0.4721359549995794), (111868, 0.4721359549995794), (126314, 0.4721359549995794), (138964, 0.4721359549995794), (144620, 0.4721359549995794), (154363, 0.4721359549995794), (162329, 0.4721359549995794), (165572, 0.4721359549995794), (169230, 0.4721359549995794), (184616, 0.4721359549995794), (188788, 0.4721359549995794), (192585, 0.4721359549995794), (198193, 0.4721359549995794), (208263, 0.4721359549995794), (213420, 0.4721359549995794), (213952, 0.4721359549995794), (216133, 0.4721359549995794), (224918, 0.4721359549995794), (234633, 0.4721359549995794), (237317, 0.4721359549995794), (241618, 0.4721359549995794), (246501, 0.4721359549995794), (262132, 0.4721359549995794), (265698, 0.4721359549995794), (265763, 0.4721359549995794), (58521, 0.4721359549995794), (83153, 0.4721359549995794), (119743, 0.4721359549995794), (196862, 0.4721359549995794), (251721, 0.4721359549995794), (267480, 0.4721359549995794), (60752, 0.4721359549995794), (132405, 0.4721359549995794), (180847, 0.4721359549995794), (185383, 0.4721359549995794), (118189, 0.4721359549995794), (2287, 0.4721359549995794), (26706, 0.4721359549995794), (39949, 0.4721359549995794), (45430, 0.4721359549995794), (60690, 0.4721359549995794), (69586, 0.4721359549995794), (102177, 0.4721359549995794), (126081, 0.4721359549995794), (152461, 0.4721359549995794), (201224, 0.4721359549995794), (237682, 0.4721359549995794), (244478, 0.4721359549995794), (68978, 0.4721359549995794), (87636, 0.4721359549995794), (129133, 0.4721359549995794), (179186, 0.4721359549995794), (229601, 0.4721359549995794), (35792, 0.4721359549995794), (150112, 0.4721359549995794), (246046, 0.4721359549995794), (74964, 0.4721359549995794), (239635, 0.4721359549995794), (226813, 0.4721359549995794), (153103, 0.4721359549995794), (6701, 0.4721359549995794), (81861, 0.4721359549995794), (115576, 0.4721359549995794), (139397, 0.4721359549995794), (143461, 0.4721359549995794), (156196, 0.4721359549995794), (196868, 0.4721359549995794), (243030, 0.4721359549995794), (59087, 0.4721359549995794), (68693, 0.4721359549995794), (88521, 0.4721359549995794), (117843, 0.4721359549995794), (188489, 0.4721359549995794), (199712, 0.4721359549995794), (216449, 0.4721359549995794), (264779, 0.4721359549995794), (212165, 0.4721359549995794), (18525, 0.4721359549995794), (64712, 0.4721359549995794), (65063, 0.4721359549995794), (133664, 0.4721359549995794), (238063, 0.4721359549995794), (248555, 0.4721359549995794), (264770, 0.4721359549995794), (253765, 0.4721359549995794), (401, 0.4721359549995794), (2028, 0.4721359549995794), (7102, 0.4721359549995794), (10095, 0.4721359549995794), (10234, 0.4721359549995794), (10988, 0.4721359549995794), (11350, 0.4721359549995794), (16770, 0.4721359549995794), (16811, 0.4721359549995794), (24824, 0.4721359549995794), (25863, 0.4721359549995794), (29353, 0.4721359549995794), (30620, 0.4721359549995794), (30798, 0.4721359549995794), (33374, 0.4721359549995794), (34945, 0.4721359549995794), (34947, 0.4721359549995794), (42459, 0.4721359549995794), (50508, 0.4721359549995794), (52877, 0.4721359549995794), (56778, 0.4721359549995794), (60318, 0.4721359549995794), (61536, 0.4721359549995794), (66950, 0.4721359549995794), (69214, 0.4721359549995794), (73187, 0.4721359549995794), (73908, 0.4721359549995794), (74068, 0.4721359549995794), (77377, 0.4721359549995794), (80582, 0.4721359549995794), (81981, 0.4721359549995794), (84908, 0.4721359549995794), (88577, 0.4721359549995794), (91101, 0.4721359549995794), (93169, 0.4721359549995794), (95073, 0.4721359549995794), (96326, 0.4721359549995794), (96503, 0.4721359549995794), (98477, 0.4721359549995794), (99074, 0.4721359549995794), (102390, 0.4721359549995794), (102687, 0.4721359549995794), (103804, 0.4721359549995794), (108959, 0.4721359549995794), (111023, 0.4721359549995794), (111861, 0.4721359549995794), (113950, 0.4721359549995794), (116386, 0.4721359549995794), (122441, 0.4721359549995794), (123196, 0.4721359549995794), (123650, 0.4721359549995794), (127093, 0.4721359549995794), (127456, 0.4721359549995794), (128474, 0.4721359549995794), (129966, 0.4721359549995794), (136407, 0.4721359549995794), (137733, 0.4721359549995794), (141995, 0.4721359549995794), (142642, 0.4721359549995794), (149191, 0.4721359549995794), (149416, 0.4721359549995794), (152020, 0.4721359549995794), (152269, 0.4721359549995794), (152747, 0.4721359549995794), (153296, 0.4721359549995794), (153909, 0.4721359549995794), (155863, 0.4721359549995794), (157363, 0.4721359549995794), (157486, 0.4721359549995794), (159537, 0.4721359549995794), (162526, 0.4721359549995794), (163911, 0.4721359549995794), (164002, 0.4721359549995794), (164468, 0.4721359549995794), (170865, 0.4721359549995794), (171148, 0.4721359549995794), (171186, 0.4721359549995794), (172758, 0.4721359549995794), (172864, 0.4721359549995794), (172969, 0.4721359549995794), (176082, 0.4721359549995794), (176504, 0.4721359549995794), (176986, 0.4721359549995794), (177770, 0.4721359549995794), (178457, 0.4721359549995794), (185385, 0.4721359549995794), (185448, 0.4721359549995794), (185484, 0.4721359549995794), (189015, 0.4721359549995794), (193184, 0.4721359549995794), (193249, 0.4721359549995794), (195161, 0.4721359549995794), (195649, 0.4721359549995794), (196291, 0.4721359549995794), (196830, 0.4721359549995794), (200335, 0.4721359549995794), (205049, 0.4721359549995794), (205500, 0.4721359549995794), (207852, 0.4721359549995794), (209968, 0.4721359549995794), (215210, 0.4721359549995794), (220432, 0.4721359549995794), (221533, 0.4721359549995794), (222948, 0.4721359549995794), (223178, 0.4721359549995794), (224011, 0.4721359549995794), (225139, 0.4721359549995794), (228974, 0.4721359549995794), (229851, 0.4721359549995794), (230762, 0.4721359549995794), (233393, 0.4721359549995794), (233557, 0.4721359549995794), (236820, 0.4721359549995794), (241733, 0.4721359549995794), (242859, 0.4721359549995794), (244863, 0.4721359549995794), (247801, 0.4721359549995794), (248689, 0.4721359549995794), (253410, 0.4721359549995794), (253918, 0.4721359549995794), (254688, 0.4721359549995794), (254966, 0.4721359549995794), (256882, 0.4721359549995794), (258897, 0.4721359549995794), (261473, 0.4721359549995794), (263287, 0.4721359549995794), (265250, 0.4721359549995794), (266493, 0.4721359549995794), (269850, 0.4721359549995794), (158438, 0.4721359549995794), (17067, 0.4721359549995794), (19816, 0.4721359549995794), (61982, 0.4721359549995794), (74891, 0.4721359549995794), (87884, 0.4721359549995794), (91512, 0.4721359549995794), (111564, 0.4721359549995794), (143756, 0.4721359549995794), (145920, 0.4721359549995794), (192325, 0.4721359549995794), (201215, 0.4721359549995794), (204649, 0.4721359549995794), (217549, 0.4721359549995794), (224463, 0.4721359549995794), (227024, 0.4721359549995794), (236210, 0.4721359549995794), (249149, 0.4721359549995794), (255893, 0.4721359549995794), (263190, 0.4721359549995794), (111881, 0.4721359549995794), (117118, 0.4721359549995794), (119133, 0.4721359549995794), (171344, 0.4721359549995794), (264052, 0.4721359549995794), (42244, 0.4721359549995794), (110740, 0.4721359549995794), (106335, 0.4721359549995794), (127588, 0.4721359549995794), (167485, 0.4721359549995794), (96954, 0.4721359549995794), (69085, 0.4721359549995794), (8399, 0.4721359549995794), (12280, 0.4721359549995794), (18601, 0.4721359549995794), (19058, 0.4721359549995794), (23876, 0.4721359549995794), (24106, 0.4721359549995794), (34639, 0.4721359549995794), (56712, 0.4721359549995794), (65385, 0.4721359549995794), (71572, 0.4721359549995794), (89775, 0.4721359549995794), (120754, 0.4721359549995794), (123909, 0.4721359549995794), (127749, 0.4721359549995794), (129762, 0.4721359549995794), (132356, 0.4721359549995794), (135013, 0.4721359549995794), (135395, 0.4721359549995794), (136264, 0.4721359549995794), (138110, 0.4721359549995794), (165207, 0.4721359549995794), (176047, 0.4721359549995794), (177267, 0.4721359549995794), (187778, 0.4721359549995794), (215843, 0.4721359549995794), (216966, 0.4721359549995794), (217450, 0.4721359549995794), (247953, 0.4721359549995794), (250701, 0.4721359549995794), (261003, 0.4721359549995794), (261538, 0.4721359549995794), (264429, 0.4721359549995794), (266742, 0.4721359549995794), (270042, 0.4721359549995794), (270175, 0.4721359549995794), (8022, 0.4721359549995794), (12553, 0.4721359549995794), (12650, 0.4721359549995794), (17011, 0.4721359549995794), (18408, 0.4721359549995794), (49866, 0.4721359549995794), (54839, 0.4721359549995794), (68005, 0.4721359549995794), (87784, 0.4721359549995794), (91300, 0.4721359549995794), (100153, 0.4721359549995794), (103102, 0.4721359549995794), (111378, 0.4721359549995794), (127395, 0.4721359549995794), (131671, 0.4721359549995794), (152739, 0.4721359549995794), (158061, 0.4721359549995794), (162017, 0.4721359549995794), (184845, 0.4721359549995794), (188324, 0.4721359549995794), (198240, 0.4721359549995794), (206445, 0.4721359549995794), (211593, 0.4721359549995794), (214645, 0.4721359549995794), (225021, 0.4721359549995794), (232035, 0.4721359549995794), (234875, 0.4721359549995794), (182226, 0.4721359549995794), (5934, 0.4721359549995794), (12747, 0.4721359549995794), (46276, 0.4721359549995794), (56753, 0.4721359549995794), (80629, 0.4721359549995794), (86134, 0.4721359549995794), (104063, 0.4721359549995794), (109042, 0.4721359549995794), (116402, 0.4721359549995794), (119327, 0.4721359549995794), (120472, 0.4721359549995794), (135368, 0.4721359549995794), (139043, 0.4721359549995794), (145792, 0.4721359549995794), (145966, 0.4721359549995794), (151107, 0.4721359549995794), (153236, 0.4721359549995794), (159907, 0.4721359549995794), (164824, 0.4721359549995794), (198304, 0.4721359549995794), (201662, 0.4721359549995794), (207860, 0.4721359549995794), (216082, 0.4721359549995794), (221544, 0.4721359549995794), (223206, 0.4721359549995794), (227246, 0.4721359549995794), (228398, 0.4721359549995794), (265583, 0.4721359549995794), (269874, 0.4721359549995794), (37767, 0.4721359549995794), (120823, 0.4721359549995794), (234968, 0.4721359549995794), (9596, 0.4721359549995794), (31088, 0.4721359549995794), (48837, 0.4721359549995794), (67286, 0.4721359549995794), (77663, 0.4721359549995794), (99901, 0.4721359549995794), (104004, 0.4721359549995794), (123272, 0.4721359549995794), (125466, 0.4721359549995794), (134439, 0.4721359549995794), (145870, 0.4721359549995794), (188910, 0.4721359549995794), (191624, 0.4721359549995794), (203519, 0.4721359549995794), (210230, 0.4721359549995794), (218877, 0.4721359549995794), (241064, 0.4721359549995794), (267588, 0.4721359549995794), (36495, 0.4721359549995794), (36767, 0.4721359549995794), (46002, 0.4721359549995794), (130799, 0.4721359549995794), (200144, 0.4721359549995794), (88705, 0.4721359549995794), (142834, 0.4721359549995794), (3267, 0.4721359549995794), (23886, 0.4721359549995794), (39620, 0.4721359549995794), (41370, 0.4721359549995794), (43400, 0.4721359549995794), (46915, 0.4721359549995794), (54504, 0.4721359549995794), (63022, 0.4721359549995794), (71083, 0.4721359549995794), (73903, 0.4721359549995794), (82519, 0.4721359549995794), (93468, 0.4721359549995794), (98133, 0.4721359549995794), (108515, 0.4721359549995794), (109399, 0.4721359549995794), (110491, 0.4721359549995794), (118088, 0.4721359549995794), (141038, 0.4721359549995794), (142914, 0.4721359549995794), (151928, 0.4721359549995794), (166940, 0.4721359549995794), (170709, 0.4721359549995794), (180001, 0.4721359549995794), (180892, 0.4721359549995794), (210756, 0.4721359549995794), (246715, 0.4721359549995794), (257850, 0.4721359549995794), (131981, 0.4721359549995794), (8394, 0.4721359549995794), (133574, 0.4721359549995794), (171280, 0.4721359549995794), (185783, 0.4721359549995794), (200342, 0.4721359549995794), (110692, 0.4721359549995794), (212983, 0.4721359549995794), (34787, 0.4721359549995794), (4712, 0.4721359549995794), (19103, 0.4721359549995794), (40327, 0.4721359549995794), (65420, 0.4721359549995794), (85645, 0.4721359549995794), (112387, 0.4721359549995794), (131433, 0.4721359549995794), (149113, 0.4721359549995794), (150320, 0.4721359549995794), (170924, 0.4721359549995794), (183226, 0.4721359549995794), (258273, 0.4721359549995794), (29830, 0.4721359549995794), (171581, 0.4721359549995794), (6945, 0.4721359549995794), (51613, 0.4721359549995794), (96451, 0.4721359549995794), (173083, 0.4721359549995794), (59162, 0.4721359549995794), (215561, 0.4721359549995794), (45705, 0.4721359549995794), (56320, 0.4721359549995794), (117916, 0.4721359549995794), (144273, 0.4721359549995794), (186427, 0.4721359549995794), (215706, 0.4721359549995794), (262267, 0.4721359549995794), (74922, 0.4721359549995794), (174441, 0.4721359549995794), (11069, 0.4721359549995794), (19411, 0.4721359549995794), (20606, 0.4721359549995794), (22518, 0.4721359549995794), (22637, 0.4721359549995794), (33111, 0.4721359549995794), (36745, 0.4721359549995794), (41741, 0.4721359549995794), (59234, 0.4721359549995794), (75267, 0.4721359549995794), (96932, 0.4721359549995794), (100179, 0.4721359549995794), (115809, 0.4721359549995794), (120309, 0.4721359549995794), (133376, 0.4721359549995794), (138019, 0.4721359549995794), (152984, 0.4721359549995794), (157194, 0.4721359549995794), (164882, 0.4721359549995794), (167839, 0.4721359549995794), (188653, 0.4721359549995794), (217160, 0.4721359549995794), (218946, 0.4721359549995794), (237542, 0.4721359549995794), (245450, 0.4721359549995794), (268085, 0.4721359549995794), (268548, 0.4721359549995794), (270120, 0.4721359549995794), (19144, 0.4721359549995794), (257386, 0.4721359549995794), (37942, 0.4721359549995794), (16506, 0.4721359549995794), (40889, 0.4721359549995794), (79840, 0.4721359549995794), (100600, 0.4721359549995794), (103999, 0.4721359549995794), (106185, 0.4721359549995794), (124535, 0.4721359549995794), (136198, 0.4721359549995794), (144130, 0.4721359549995794), (157995, 0.4721359549995794), (201608, 0.4721359549995794), (232061, 0.4721359549995794), (253878, 0.4721359549995794), (262763, 0.4721359549995794), (263775, 0.4721359549995794), (88789, 0.4721359549995794), (229204, 0.4721359549995794), (1617, 0.4721359549995794), (65255, 0.4721359549995794), (136043, 0.4721359549995794), (188295, 0.4721359549995794), (228508, 0.4721359549995794), (1464, 0.4721359549995794), (134009, 0.4721359549995794), (20109, 0.4721359549995794), (108264, 0.4721359549995794), (115526, 0.4721359549995794), (180659, 0.4721359549995794), (215677, 0.4721359549995794), (227161, 0.4721359549995794), (270002, 0.4721359549995794), (1028, 0.4721359549995794), (1949, 0.4721359549995794), (12159, 0.4721359549995794), (37202, 0.4721359549995794), (67252, 0.4721359549995794), (202688, 0.4721359549995794), (248580, 0.4721359549995794), (2397, 0.4721359549995794), (3680, 0.4721359549995794), (3806, 0.4721359549995794), (3946, 0.4721359549995794), (5362, 0.4721359549995794), (5994, 0.4721359549995794), (7829, 0.4721359549995794), (8752, 0.4721359549995794), (10005, 0.4721359549995794), (10178, 0.4721359549995794), (15041, 0.4721359549995794), (15955, 0.4721359549995794), (16241, 0.4721359549995794), (19256, 0.4721359549995794), (21364, 0.4721359549995794), (21399, 0.4721359549995794), (22671, 0.4721359549995794), (24063, 0.4721359549995794), (24601, 0.4721359549995794), (26851, 0.4721359549995794), (28734, 0.4721359549995794), (29165, 0.4721359549995794), (29329, 0.4721359549995794), (30110, 0.4721359549995794), (32485, 0.4721359549995794), (33302, 0.4721359549995794), (34360, 0.4721359549995794), (35138, 0.4721359549995794), (35748, 0.4721359549995794), (37930, 0.4721359549995794), (40409, 0.4721359549995794), (41739, 0.4721359549995794), (42903, 0.4721359549995794), (45068, 0.4721359549995794), (45661, 0.4721359549995794), (45715, 0.4721359549995794), (45953, 0.4721359549995794), (46675, 0.4721359549995794), (48481, 0.4721359549995794), (49521, 0.4721359549995794), (51918, 0.4721359549995794), (52779, 0.4721359549995794), (57099, 0.4721359549995794), (57375, 0.4721359549995794), (59814, 0.4721359549995794), (59865, 0.4721359549995794), (60100, 0.4721359549995794), (60102, 0.4721359549995794), (60563, 0.4721359549995794), (62061, 0.4721359549995794), (66378, 0.4721359549995794), (67424, 0.4721359549995794), (68481, 0.4721359549995794), (69243, 0.4721359549995794), (70046, 0.4721359549995794), (70853, 0.4721359549995794), (71302, 0.4721359549995794), (72143, 0.4721359549995794), (73369, 0.4721359549995794), (74146, 0.4721359549995794), (74323, 0.4721359549995794), (76040, 0.4721359549995794), (76072, 0.4721359549995794), (76612, 0.4721359549995794), (77007, 0.4721359549995794), (77927, 0.4721359549995794), (78463, 0.4721359549995794), (80219, 0.4721359549995794), (81193, 0.4721359549995794), (82207, 0.4721359549995794), (83302, 0.4721359549995794), (83489, 0.4721359549995794), (88376, 0.4721359549995794), (89618, 0.4721359549995794), (89948, 0.4721359549995794), (90673, 0.4721359549995794), (92426, 0.4721359549995794), (92591, 0.4721359549995794), (93081, 0.4721359549995794), (94121, 0.4721359549995794), (97020, 0.4721359549995794), (97728, 0.4721359549995794), (98430, 0.4721359549995794), (98437, 0.4721359549995794), (98894, 0.4721359549995794), (98947, 0.4721359549995794), (100219, 0.4721359549995794), (100827, 0.4721359549995794), (100835, 0.4721359549995794), (101056, 0.4721359549995794), (101177, 0.4721359549995794), (102845, 0.4721359549995794), (104657, 0.4721359549995794), (106066, 0.4721359549995794), (107284, 0.4721359549995794), (108604, 0.4721359549995794), (108843, 0.4721359549995794), (110291, 0.4721359549995794), (116721, 0.4721359549995794), (121492, 0.4721359549995794), (123857, 0.4721359549995794), (126578, 0.4721359549995794), (126780, 0.4721359549995794), (127313, 0.4721359549995794), (128407, 0.4721359549995794), (128682, 0.4721359549995794), (131704, 0.4721359549995794), (133989, 0.4721359549995794), (136428, 0.4721359549995794), (137865, 0.4721359549995794), (137919, 0.4721359549995794), (139249, 0.4721359549995794), (145102, 0.4721359549995794), (145236, 0.4721359549995794), (145419, 0.4721359549995794), (147393, 0.4721359549995794), (147756, 0.4721359549995794), (150409, 0.4721359549995794), (151976, 0.4721359549995794), (152067, 0.4721359549995794), (152078, 0.4721359549995794), (152367, 0.4721359549995794), (153195, 0.4721359549995794), (153688, 0.4721359549995794), (156270, 0.4721359549995794), (158848, 0.4721359549995794), (159285, 0.4721359549995794), (159759, 0.4721359549995794), (160998, 0.4721359549995794), (161233, 0.4721359549995794), (161553, 0.4721359549995794), (162962, 0.4721359549995794), (163065, 0.4721359549995794), (163456, 0.4721359549995794), (165670, 0.4721359549995794), (167191, 0.4721359549995794), (168902, 0.4721359549995794), (169283, 0.4721359549995794), (170228, 0.4721359549995794), (170416, 0.4721359549995794), (173928, 0.4721359549995794), (176022, 0.4721359549995794), (176495, 0.4721359549995794), (179822, 0.4721359549995794), (182240, 0.4721359549995794), (183689, 0.4721359549995794), (184934, 0.4721359549995794), (185874, 0.4721359549995794), (187528, 0.4721359549995794), (197003, 0.4721359549995794), (197452, 0.4721359549995794), (197755, 0.4721359549995794), (197903, 0.4721359549995794), (197911, 0.4721359549995794), (202078, 0.4721359549995794), (204746, 0.4721359549995794), (206007, 0.4721359549995794), (206108, 0.4721359549995794), (206370, 0.4721359549995794), (211933, 0.4721359549995794), (212406, 0.4721359549995794), (213926, 0.4721359549995794), (214051, 0.4721359549995794), (216087, 0.4721359549995794), (218980, 0.4721359549995794), (219918, 0.4721359549995794), (221158, 0.4721359549995794), (221604, 0.4721359549995794), (222560, 0.4721359549995794), (223264, 0.4721359549995794), (223605, 0.4721359549995794), (224002, 0.4721359549995794), (224677, 0.4721359549995794), (224934, 0.4721359549995794), (226056, 0.4721359549995794), (227120, 0.4721359549995794), (228268, 0.4721359549995794), (231154, 0.4721359549995794), (233194, 0.4721359549995794), (234105, 0.4721359549995794), (234957, 0.4721359549995794), (235197, 0.4721359549995794), (237397, 0.4721359549995794), (237693, 0.4721359549995794), (238711, 0.4721359549995794), (239985, 0.4721359549995794), (240062, 0.4721359549995794), (240129, 0.4721359549995794), (240795, 0.4721359549995794), (241859, 0.4721359549995794), (243145, 0.4721359549995794), (243573, 0.4721359549995794), (243591, 0.4721359549995794), (244058, 0.4721359549995794), (244183, 0.4721359549995794), (244556, 0.4721359549995794), (245134, 0.4721359549995794), (247439, 0.4721359549995794), (248052, 0.4721359549995794), (248326, 0.4721359549995794), (248340, 0.4721359549995794), (250224, 0.4721359549995794), (250790, 0.4721359549995794), (251418, 0.4721359549995794), (253175, 0.4721359549995794), (253603, 0.4721359549995794), (253648, 0.4721359549995794), (255813, 0.4721359549995794), (255846, 0.4721359549995794), (255992, 0.4721359549995794), (257310, 0.4721359549995794), (257314, 0.4721359549995794), (258025, 0.4721359549995794), (259880, 0.4721359549995794), (262030, 0.4721359549995794), (262659, 0.4721359549995794), (263262, 0.4721359549995794), (263531, 0.4721359549995794), (264667, 0.4721359549995794), (264704, 0.4721359549995794), (264857, 0.4721359549995794), (265867, 0.4721359549995794), (266952, 0.4721359549995794), (267379, 0.4721359549995794), (268730, 0.4721359549995794), (3826, 0.4721359549995794), (10556, 0.4721359549995794), (11204, 0.4721359549995794), (12685, 0.4721359549995794), (13877, 0.4721359549995794), (15142, 0.4721359549995794), (23101, 0.4721359549995794), (31797, 0.4721359549995794), (35454, 0.4721359549995794), (53158, 0.4721359549995794), (57801, 0.4721359549995794), (59845, 0.4721359549995794), (61755, 0.4721359549995794), (62832, 0.4721359549995794), (86462, 0.4721359549995794), (108290, 0.4721359549995794), (110947, 0.4721359549995794), (116315, 0.4721359549995794), (116637, 0.4721359549995794), (122161, 0.4721359549995794), (126243, 0.4721359549995794), (132520, 0.4721359549995794), (140036, 0.4721359549995794), (141952, 0.4721359549995794), (147788, 0.4721359549995794), (151564, 0.4721359549995794), (153516, 0.4721359549995794), (154077, 0.4721359549995794), (165070, 0.4721359549995794), (173854, 0.4721359549995794), (177920, 0.4721359549995794), (190656, 0.4721359549995794), (197738, 0.4721359549995794), (213797, 0.4721359549995794), (227360, 0.4721359549995794), (233333, 0.4721359549995794), (235114, 0.4721359549995794), (202, 0.4721359549995794), (11382, 0.4721359549995794), (34640, 0.4721359549995794), (44517, 0.4721359549995794), (61416, 0.4721359549995794), (166626, 0.4721359549995794), (233619, 0.4721359549995794), (246446, 0.4721359549995794), (249080, 0.4721359549995794), (263577, 0.4721359549995794), (237164, 0.4721359549995794), (3812, 0.4721359549995794), (61140, 0.4721359549995794), (73748, 0.4721359549995794), (74924, 0.4721359549995794), (79579, 0.4721359549995794), (82478, 0.4721359549995794), (83987, 0.4721359549995794), (97365, 0.4721359549995794), (109313, 0.4721359549995794), (117466, 0.4721359549995794), (118814, 0.4721359549995794), (181377, 0.4721359549995794), (218207, 0.4721359549995794), (236267, 0.4721359549995794), (240747, 0.4721359549995794), (244100, 0.4721359549995794), (264540, 0.4721359549995794), (84920, 0.4721359549995794), (157441, 0.4721359549995794), (173921, 0.4721359549995794), (197756, 0.4721359549995794), (229568, 0.4721359549995794), (249592, 0.4721359549995794), (257327, 0.4721359549995794), (70797, 0.4721359549995794), (239490, 0.4721359549995794), (255722, 0.4721359549995794), (122154, 0.4721359549995794), (133403, 0.4721359549995794), (134973, 0.4721359549995794), (3315, 0.4721359549995794), (15173, 0.4721359549995794), (16210, 0.4721359549995794), (23209, 0.4721359549995794), (27625, 0.4721359549995794), (27837, 0.4721359549995794), (36527, 0.4721359549995794), (37143, 0.4721359549995794), (44557, 0.4721359549995794), (80135, 0.4721359549995794), (89810, 0.4721359549995794), (135326, 0.4721359549995794), (135809, 0.4721359549995794), (140937, 0.4721359549995794), (155137, 0.4721359549995794), (166519, 0.4721359549995794), (171075, 0.4721359549995794), (202023, 0.4721359549995794), (206019, 0.4721359549995794), (207512, 0.4721359549995794), (212389, 0.4721359549995794), (227154, 0.4721359549995794), (230266, 0.4721359549995794), (234524, 0.4721359549995794), (20879, 0.4721359549995794), (25013, 0.4721359549995794), (52325, 0.4721359549995794), (91440, 0.4721359549995794), (127770, 0.4721359549995794), (190455, 0.4721359549995794), (192619, 0.4721359549995794), (217726, 0.4721359549995794), (242762, 0.4721359549995794), (256981, 0.4721359549995794), (268726, 0.4721359549995794), (29332, 0.4721359549995794), (136309, 0.4721359549995794), (159434, 0.4721359549995794), (19072, 0.4721359549995794), (84803, 0.4721359549995794), (260558, 0.4721359549995794), (19680, 0.4721359549995794), (23680, 0.4721359549995794), (28713, 0.4721359549995794), (29889, 0.4721359549995794), (32898, 0.4721359549995794), (57598, 0.4721359549995794), (70328, 0.4721359549995794), (90184, 0.4721359549995794), (97116, 0.4721359549995794), (117989, 0.4721359549995794), (129914, 0.4721359549995794), (142132, 0.4721359549995794), (144802, 0.4721359549995794), (155402, 0.4721359549995794), (156297, 0.4721359549995794), (196089, 0.4721359549995794), (203573, 0.4721359549995794), (212333, 0.4721359549995794), (219837, 0.4721359549995794), (220750, 0.4721359549995794), (232112, 0.4721359549995794), (233654, 0.4721359549995794), (243699, 0.4721359549995794), (248774, 0.4721359549995794), (172748, 0.4721359549995794), (64249, 0.4721359549995794), (70034, 0.4721359549995794), (134016, 0.4721359549995794), (141691, 0.4721359549995794), (149600, 0.4721359549995794), (153047, 0.4721359549995794), (168826, 0.4721359549995794), (169888, 0.4721359549995794), (173264, 0.4721359549995794), (244331, 0.4721359549995794), (16992, 0.4721359549995794), (31957, 0.4721359549995794), (52630, 0.4721359549995794), (56911, 0.4721359549995794), (72529, 0.4721359549995794), (88490, 0.4721359549995794), (102989, 0.4721359549995794), (104990, 0.4721359549995794), (105097, 0.4721359549995794), (106290, 0.4721359549995794), (107737, 0.4721359549995794), (117927, 0.4721359549995794), (118753, 0.4721359549995794), (119055, 0.4721359549995794), (121110, 0.4721359549995794), (123135, 0.4721359549995794), (126075, 0.4721359549995794), (127042, 0.4721359549995794), (141099, 0.4721359549995794), (157445, 0.4721359549995794), (160531, 0.4721359549995794), (161187, 0.4721359549995794), (169107, 0.4721359549995794), (203630, 0.4721359549995794), (205597, 0.4721359549995794), (218125, 0.4721359549995794), (224383, 0.4721359549995794), (225551, 0.4721359549995794), (233722, 0.4721359549995794), (238715, 0.4721359549995794), (247454, 0.4721359549995794), (259702, 0.4721359549995794), (22705, 0.4721359549995794), (181109, 0.4721359549995794), (177894, 0.4721359549995794), (247363, 0.4721359549995794), (262692, 0.4721359549995794), (13091, 0.4721359549995794), (17748, 0.4721359549995794), (51844, 0.4721359549995794), (63102, 0.4721359549995794), (97150, 0.4721359549995794), (106190, 0.4721359549995794), (136602, 0.4721359549995794), (149030, 0.4721359549995794), (171912, 0.4721359549995794), (198982, 0.4721359549995794), (199946, 0.4721359549995794), (209387, 0.4721359549995794), (237256, 0.4721359549995794), (29574, 0.4721359549995794), (39617, 0.4721359549995794), (62383, 0.4721359549995794), (81398, 0.4721359549995794), (93421, 0.4721359549995794), (105982, 0.4721359549995794), (176845, 0.4721359549995794), (184790, 0.4721359549995794), (188584, 0.4721359549995794), (208642, 0.4721359549995794), (239652, 0.4721359549995794), (254282, 0.4721359549995794), (259584, 0.4721359549995794), (16102, 0.4721359549995794), (50576, 0.4721359549995794), (102382, 0.4721359549995794), (228588, 0.4721359549995794), (46329, 0.4721359549995794), (138292, 0.4721359549995794), (146222, 0.4721359549995794), (199441, 0.4721359549995794), (215385, 0.4721359549995794), (215597, 0.4721359549995794), (150172, 0.4721359549995794), (195365, 0.4721359549995794), (248697, 0.4721359549995794), (270701, 0.4721359549995794), (115728, 0.4721359549995794), (142514, 0.4721359549995794), (163337, 0.4721359549995794), (94052, 0.4721359549995794), (98623, 0.4721359549995794), (197154, 0.4721359549995794), (197600, 0.4721359549995794), (211917, 0.4721359549995794), (227970, 0.4721359549995794), (228115, 0.4721359549995794), (257046, 0.4721359549995794), (270504, 0.4721359549995794), (13508, 0.4721359549995794), (14626, 0.4721359549995794), (32270, 0.4721359549995794), (67510, 0.4721359549995794), (105348, 0.4721359549995794), (116436, 0.4721359549995794), (137335, 0.4721359549995794), (141633, 0.4721359549995794), (144038, 0.4721359549995794), (175352, 0.4721359549995794), (182813, 0.4721359549995794), (212488, 0.4721359549995794), (99747, 0.4721359549995794), (29963, 0.4721359549995794), (54998, 0.4721359549995794), (203645, 0.4721359549995794), (223025, 0.4721359549995794), (4660, 0.4721359549995794), (167790, 0.4721359549995794), (814, 0.4721359549995794), (5825, 0.4721359549995794), (22180, 0.4721359549995794), (28214, 0.4721359549995794), (40894, 0.4721359549995794), (54928, 0.4721359549995794), (65869, 0.4721359549995794), (69988, 0.4721359549995794), (114380, 0.4721359549995794), (114646, 0.4721359549995794), (214019, 0.4721359549995794), (218771, 0.4721359549995794), (232675, 0.4721359549995794), (253249, 0.4721359549995794), (253279, 0.4721359549995794), (7409, 0.4721359549995794), (8830, 0.4721359549995794), (101366, 0.4721359549995794), (111601, 0.4721359549995794), (228124, 0.4721359549995794), (249292, 0.4721359549995794), (234772, 0.4721359549995794), (91154, 0.4721359549995794), (6952, 0.4721359549995794), (208157, 0.4721359549995794), (266090, 0.4721359549995794), (198147, 0.4721359549995794), (175280, 0.4721359549995794), (184028, 0.4721359549995794), (194515, 0.4721359549995794), (197389, 0.4721359549995794), (229248, 0.4721359549995794), (18219, 0.4721359549995794), (66227, 0.4721359549995794), (98123, 0.4721359549995794), (116248, 0.4721359549995794), (121438, 0.4721359549995794), (159428, 0.4721359549995794), (170916, 0.4721359549995794), (190434, 0.4721359549995794), (234854, 0.4721359549995794), (246625, 0.4721359549995794), (253225, 0.4721359549995794), (264725, 0.4721359549995794), (704, 0.4721359549995794), (28253, 0.4721359549995794), (38724, 0.4721359549995794), (43512, 0.4721359549995794), (55664, 0.4721359549995794), (114716, 0.4721359549995794), (120612, 0.4721359549995794), (168845, 0.4721359549995794), (175286, 0.4721359549995794), (180268, 0.4721359549995794), (180743, 0.4721359549995794), (191137, 0.4721359549995794), (212611, 0.4721359549995794), (243262, 0.4721359549995794), (244909, 0.4721359549995794), (250935, 0.4721359549995794), (254532, 0.4721359549995794), (109442, 0.4721359549995794), (235860, 0.4721359549995794), (36346, 0.4721359549995794), (43556, 0.4721359549995794), (66235, 0.4721359549995794), (74916, 0.4721359549995794), (92641, 0.4721359549995794), (102655, 0.4721359549995794), (112017, 0.4721359549995794), (147749, 0.4721359549995794), (160399, 0.4721359549995794), (182982, 0.4721359549995794), (214098, 0.4721359549995794), (237010, 0.4721359549995794), (237748, 0.4721359549995794), (240659, 0.4721359549995794), (257109, 0.4721359549995794), (127859, 0.4721359549995794), (20898, 0.4721359549995794), (169407, 0.4721359549995794), (201130, 0.4721359549995794), (215632, 0.4721359549995794), (225798, 0.4721359549995794), (225975, 0.4721359549995794), (254870, 0.4721359549995794), (22467, 0.4721359549995794), (67921, 0.4721359549995794), (92383, 0.4721359549995794), (95152, 0.4721359549995794), (96929, 0.4721359549995794), (99190, 0.4721359549995794), (140871, 0.4721359549995794), (175268, 0.4721359549995794), (197408, 0.4721359549995794), (259403, 0.4721359549995794), (263009, 0.4721359549995794), (74557, 0.4721359549995794), (74808, 0.4721359549995794), (88090, 0.4721359549995794), (106105, 0.4721359549995794), (154064, 0.4721359549995794), (86244, 0.4721359549995794), (89453, 0.4721359549995794), (99157, 0.4721359549995794), (120286, 0.4721359549995794), (123711, 0.4721359549995794), (139526, 0.4721359549995794), (157739, 0.4721359549995794), (162945, 0.4721359549995794), (169614, 0.4721359549995794), (223780, 0.4721359549995794), (234240, 0.4721359549995794), (243383, 0.4721359549995794), (245273, 0.4721359549995794), (246468, 0.4721359549995794), (253247, 0.4721359549995794), (265074, 0.4721359549995794), (227185, 0.4721359549995794), (16980, 0.4721359549995794), (68690, 0.4721359549995794), (70504, 0.4721359549995794), (75587, 0.4721359549995794), (99603, 0.4721359549995794), (101390, 0.4721359549995794), (105250, 0.4721359549995794), (131455, 0.4721359549995794), (148400, 0.4721359549995794), (149233, 0.4721359549995794), (195743, 0.4721359549995794), (196588, 0.4721359549995794), (259791, 0.4721359549995794), (262640, 0.4721359549995794), (270819, 0.4721359549995794), (9422, 0.4721359549995794), (48429, 0.4721359549995794), (147239, 0.4721359549995794), (172435, 0.4721359549995794), (194534, 0.4721359549995794), (205571, 0.4721359549995794), (221348, 0.4721359549995794), (229488, 0.4721359549995794), (258219, 0.4721359549995794), (270845, 0.4721359549995794), (5299, 0.4721359549995794), (28191, 0.4721359549995794), (42089, 0.4721359549995794), (49757, 0.4721359549995794), (68212, 0.4721359549995794), (82447, 0.4721359549995794), (83258, 0.4721359549995794), (142382, 0.4721359549995794), (159739, 0.4721359549995794), (178575, 0.4721359549995794), (192280, 0.4721359549995794), (192478, 0.4721359549995794), (199708, 0.4721359549995794), (204229, 0.4721359549995794), (216349, 0.4721359549995794), (218743, 0.4721359549995794), (221082, 0.4721359549995794), (224524, 0.4721359549995794), (253524, 0.4721359549995794), (256798, 0.4721359549995794), (259151, 0.4721359549995794), (260082, 0.4721359549995794), (265906, 0.4721359549995794), (267341, 0.4721359549995794), (267450, 0.4721359549995794), (21779, 0.4721359549995794), (31370, 0.4721359549995794), (37045, 0.4721359549995794), (64016, 0.4721359549995794), (87821, 0.4721359549995794), (95717, 0.4721359549995794), (120851, 0.4721359549995794), (124404, 0.4721359549995794), (134181, 0.4721359549995794), (149630, 0.4721359549995794), (155131, 0.4721359549995794), (168952, 0.4721359549995794), (179144, 0.4721359549995794), (182622, 0.4721359549995794), (200623, 0.4721359549995794), (230870, 0.4721359549995794), (237351, 0.4721359549995794), (237758, 0.4721359549995794), (246902, 0.4721359549995794), (258457, 0.4721359549995794), (1674, 0.4721359549995794), (22197, 0.4721359549995794), (45576, 0.4721359549995794), (57044, 0.4721359549995794), (142015, 0.4721359549995794), (64254, 0.4721359549995794), (92885, 0.4721359549995794), (139802, 0.4721359549995794), (142337, 0.4721359549995794), (161477, 0.4721359549995794), (193092, 0.4721359549995794), (195652, 0.4721359549995794), (7177, 0.4721359549995794), (19928, 0.4721359549995794), (75366, 0.4721359549995794), (110963, 0.4721359549995794), (166437, 0.4721359549995794), (184655, 0.4721359549995794), (190489, 0.4721359549995794), (194099, 0.4721359549995794), (200008, 0.4721359549995794), (213332, 0.4721359549995794), (237245, 0.4721359549995794), (9890, 0.4721359549995794), (33941, 0.4721359549995794), (166536, 0.4721359549995794), (6933, 0.4721359549995794), (186374, 0.4721359549995794), (27851, 0.4721359549995794), (61083, 0.4721359549995794), (78920, 0.4721359549995794), (87710, 0.4721359549995794), (114191, 0.4721359549995794), (114454, 0.4721359549995794), (143808, 0.4721359549995794), (150763, 0.4721359549995794), (183056, 0.4721359549995794), (245213, 0.4721359549995794), (252215, 0.4721359549995794), (264534, 0.4721359549995794), (19154, 0.4721359549995794), (51141, 0.4721359549995794), (92339, 0.4721359549995794), (252134, 0.4721359549995794), (15896, 0.4721359549995794), (20106, 0.4721359549995794), (30098, 0.4721359549995794), (78549, 0.4721359549995794), (144876, 0.4721359549995794), (159398, 0.4721359549995794), (256705, 0.4721359549995794), (39060, 0.4721359549995794), (168687, 0.4721359549995794), (170149, 0.4721359549995794), (237776, 0.4721359549995794), (222951, 0.4721359549995794), (250658, 0.4721359549995794), (241918, 0.4721359549995794), (7690, 0.4721359549995794), (24065, 0.4721359549995794), (51867, 0.4721359549995794), (52674, 0.4721359549995794), (110211, 0.4721359549995794), (137409, 0.4721359549995794), (158201, 0.4721359549995794), (212541, 0.4721359549995794), (235525, 0.4721359549995794), (253361, 0.4721359549995794), (26812, 0.4721359549995794), (38503, 0.4721359549995794), (116959, 0.4721359549995794), (117761, 0.4721359549995794), (163195, 0.4721359549995794), (1506, 0.4721359549995794), (13417, 0.4721359549995794), (17806, 0.4721359549995794), (20146, 0.4721359549995794), (24507, 0.4721359549995794), (24945, 0.4721359549995794), (26309, 0.4721359549995794), (26529, 0.4721359549995794), (29667, 0.4721359549995794), (34627, 0.4721359549995794), (38064, 0.4721359549995794), (41162, 0.4721359549995794), (44300, 0.4721359549995794), (45468, 0.4721359549995794), (49527, 0.4721359549995794), (49604, 0.4721359549995794), (49718, 0.4721359549995794), (62932, 0.4721359549995794), (70434, 0.4721359549995794), (73147, 0.4721359549995794), (76098, 0.4721359549995794), (76140, 0.4721359549995794), (76566, 0.4721359549995794), (78211, 0.4721359549995794), (78450, 0.4721359549995794), (80174, 0.4721359549995794), (81456, 0.4721359549995794), (86349, 0.4721359549995794), (91738, 0.4721359549995794), (105674, 0.4721359549995794), (107449, 0.4721359549995794), (109157, 0.4721359549995794), (114127, 0.4721359549995794), (116038, 0.4721359549995794), (122785, 0.4721359549995794), (136013, 0.4721359549995794), (137835, 0.4721359549995794), (148430, 0.4721359549995794), (156494, 0.4721359549995794), (167290, 0.4721359549995794), (172148, 0.4721359549995794), (179110, 0.4721359549995794), (185125, 0.4721359549995794), (205846, 0.4721359549995794), (209906, 0.4721359549995794), (212730, 0.4721359549995794), (226523, 0.4721359549995794), (228983, 0.4721359549995794), (234243, 0.4721359549995794), (247044, 0.4721359549995794), (253713, 0.4721359549995794), (261449, 0.4721359549995794), (262735, 0.4721359549995794), (266226, 0.4721359549995794), (92181, 0.4721359549995794), (100539, 0.4721359549995794), (185045, 0.4721359549995794), (208949, 0.4721359549995794), (212039, 0.4721359549995794), (227020, 0.4721359549995794), (9081, 0.4721359549995794), (138417, 0.4721359549995794), (174751, 0.4721359549995794), (186474, 0.4721359549995794), (209012, 0.4721359549995794), (63194, 0.4721359549995794), (255024, 0.4721359549995794), (4011, 0.4721359549995794), (11619, 0.4721359549995794), (19851, 0.4721359549995794), (151183, 0.4721359549995794), (170042, 0.4721359549995794), (201407, 0.4721359549995794), (256393, 0.4721359549995794), (125127, 0.4721359549995794), (18737, 0.4721359549995794), (23325, 0.4721359549995794), (56037, 0.4721359549995794), (87830, 0.4721359549995794), (100141, 0.4721359549995794), (137662, 0.4721359549995794), (243272, 0.4721359549995794), (46491, 0.4721359549995794), (113393, 0.4721359549995794), (217178, 0.4721359549995794), (27880, 0.4721359549995794), (157737, 0.4721359549995794), (159256, 0.4721359549995794), (17587, 0.4721359549995794), (21345, 0.4721359549995794), (30329, 0.4721359549995794), (81388, 0.4721359549995794), (109993, 0.4721359549995794), (115975, 0.4721359549995794), (175940, 0.4721359549995794), (223237, 0.4721359549995794), (229224, 0.4721359549995794), (255678, 0.4721359549995794), (240928, 0.4721359549995794), (219278, 0.4721359549995794), (201597, 0.4721359549995794), (65156, 0.4721359549995794), (164103, 0.4721359549995794), (230556, 0.4721359549995794), (15477, 0.4721359549995794), (28962, 0.4721359549995794), (33279, 0.4721359549995794), (46428, 0.4721359549995794), (63442, 0.4721359549995794), (64163, 0.4721359549995794), (76154, 0.4721359549995794), (107841, 0.4721359549995794), (108732, 0.4721359549995794), (150836, 0.4721359549995794), (174318, 0.4721359549995794), (179653, 0.4721359549995794), (198483, 0.4721359549995794), (209989, 0.4721359549995794), (219957, 0.4721359549995794), (222779, 0.4721359549995794), (244532, 0.4721359549995794), (255387, 0.4721359549995794), (256883, 0.4721359549995794), (118218, 0.4721359549995794), (140361, 0.4721359549995794), (141565, 0.4721359549995794), (206128, 0.4721359549995794), (30801, 0.4721359549995794), (63112, 0.4721359549995794), (137817, 0.4721359549995794), (139065, 0.4721359549995794), (155787, 0.4721359549995794), (165111, 0.4721359549995794), (193906, 0.4721359549995794), (194535, 0.4721359549995794), (205584, 0.4721359549995794), (262732, 0.4721359549995794), (260138, 0.4721359549995794), (65486, 0.4721359549995794), (178022, 0.4721359549995794), (82146, 0.4721359549995794), (167971, 0.4721359549995794), (64561, 0.4721359549995794), (95638, 0.4721359549995794), (141496, 0.4721359549995794), (149011, 0.4721359549995794), (173062, 0.4721359549995794), (192826, 0.4721359549995794), (196300, 0.4721359549995794), (224576, 0.4721359549995794), (228443, 0.4721359549995794), (242465, 0.4721359549995794), (162502, 0.4721359549995794), (261823, 0.4721359549995794), (104453, 0.4721359549995794), (107337, 0.4721359549995794), (124985, 0.4721359549995794), (251544, 0.4721359549995794), (213784, 0.4721359549995794), (52311, 0.4721359549995794), (47185, 0.4721359549995794), (52945, 0.4721359549995794), (71500, 0.4721359549995794), (171667, 0.4721359549995794), (191237, 0.4721359549995794), (201453, 0.4721359549995794), (56670, 0.4721359549995794), (229495, 0.4721359549995794), (21187, 0.4721359549995794), (189270, 0.4721359549995794), (211553, 0.4721359549995794), (268011, 0.4721359549995794), (168986, 0.4721359549995794), (14790, 0.4721359549995794), (139642, 0.4721359549995794), (238662, 0.4721359549995794), (8758, 0.4721359549995794), (17243, 0.4721359549995794), (19747, 0.4721359549995794), (35250, 0.4721359549995794), (38634, 0.4721359549995794), (46627, 0.4721359549995794), (51841, 0.4721359549995794), (52676, 0.4721359549995794), (54213, 0.4721359549995794), (62196, 0.4721359549995794), (62251, 0.4721359549995794), (73282, 0.4721359549995794), (80386, 0.4721359549995794), (90684, 0.4721359549995794), (99047, 0.4721359549995794), (107617, 0.4721359549995794), (111509, 0.4721359549995794), (145960, 0.4721359549995794), (154709, 0.4721359549995794), (160279, 0.4721359549995794), (172597, 0.4721359549995794), (177932, 0.4721359549995794), (191604, 0.4721359549995794), (209283, 0.4721359549995794), (221341, 0.4721359549995794), (254533, 0.4721359549995794), (255011, 0.4721359549995794), (262997, 0.4721359549995794), (168204, 0.4721359549995794), (187862, 0.4721359549995794), (59385, 0.4721359549995794), (161867, 0.4721359549995794), (65617, 0.4721359549995794), (200939, 0.4721359549995794), (201110, 0.4721359549995794), (254464, 0.4721359549995794), (121938, 0.4721359549995794), (146651, 0.4721359549995794), (84041, 0.4721359549995794), (40039, 0.4721359549995794), (167481, 0.4721359549995794), (54116, 0.4721359549995794), (206130, 0.4721359549995794), (217590, 0.4721359549995794), (178107, 0.4721359549995794), (212222, 0.4721359549995794), (83509, 0.4721359549995794), (99209, 0.4721359549995794), (107154, 0.4721359549995794), (150258, 0.4721359549995794), (267167, 0.4721359549995794), (50919, 0.4721359549995794), (69821, 0.4721359549995794), (76410, 0.4721359549995794), (202330, 0.4721359549995794), (222716, 0.4721359549995794), (239859, 0.4721359549995794), (20557, 0.4721359549995794), (74931, 0.4721359549995794), (107468, 0.4721359549995794), (135274, 0.4721359549995794), (231013, 0.4721359549995794), (378, 0.4721359549995794), (2235, 0.4721359549995794), (25797, 0.4721359549995794), (158705, 0.4721359549995794), (220824, 0.4721359549995794), (186640, 0.4721359549995794), (28350, 0.4721359549995794), (29854, 0.4721359549995794), (58003, 0.4721359549995794), (74545, 0.4721359549995794), (168709, 0.4721359549995794), (198525, 0.4721359549995794), (215143, 0.4721359549995794), (219211, 0.4721359549995794), (236559, 0.4721359549995794), (238959, 0.4721359549995794), (239454, 0.4721359549995794), (253881, 0.4721359549995794), (270805, 0.4721359549995794), (1676, 0.4721359549995794), (4030, 0.4721359549995794), (10998, 0.4721359549995794), (44143, 0.4721359549995794), (71253, 0.4721359549995794), (98512, 0.4721359549995794), (107072, 0.4721359549995794), (122120, 0.4721359549995794), (149165, 0.4721359549995794), (150282, 0.4721359549995794), (206276, 0.4721359549995794), (220019, 0.4721359549995794), (251570, 0.4721359549995794), (259388, 0.4721359549995794), (81447, 0.4721359549995794), (100737, 0.4721359549995794), (48072, 0.4721359549995794), (177433, 0.4721359549995794), (267724, 0.4721359549995794), (42306, 0.4721359549995794), (236890, 0.4721359549995794), (97029, 0.4721359549995794), (219906, 0.4721359549995794), (247425, 0.4721359549995794), (57465, 0.4721359549995794), (58247, 0.4721359549995794), (177051, 0.4721359549995794), (22844, 0.4721359549995794), (41340, 0.4721359549995794), (57773, 0.4721359549995794), (101445, 0.4721359549995794), (210745, 0.4721359549995794), (217810, 0.4721359549995794), (2894, 0.4721359549995794), (3548, 0.4721359549995794), (3554, 0.4721359549995794), (19049, 0.4721359549995794), (31618, 0.4721359549995794), (61226, 0.4721359549995794), (82826, 0.4721359549995794), (112751, 0.4721359549995794), (33187, 0.4721359549995794), (40636, 0.4721359549995794), (56227, 0.4721359549995794), (60274, 0.4721359549995794), (60661, 0.4721359549995794), (71124, 0.4721359549995794), (79381, 0.4721359549995794), (89405, 0.4721359549995794), (116766, 0.4721359549995794), (132670, 0.4721359549995794), (132863, 0.4721359549995794), (166804, 0.4721359549995794), (172925, 0.4721359549995794), (175684, 0.4721359549995794), (181060, 0.4721359549995794), (238427, 0.4721359549995794), (86526, 0.4721359549995794), (261717, 0.4721359549995794), (110345, 0.4721359549995794), (20673, 0.4721359549995794), (60852, 0.4721359549995794), (97599, 0.4721359549995794), (172734, 0.4721359549995794), (175144, 0.4721359549995794), (6494, 0.4721359549995794), (25077, 0.4721359549995794), (25710, 0.4721359549995794), (37973, 0.4721359549995794), (44652, 0.4721359549995794), (50794, 0.4721359549995794), (69692, 0.4721359549995794), (73189, 0.4721359549995794), (75577, 0.4721359549995794), (97299, 0.4721359549995794), (119576, 0.4721359549995794), (137090, 0.4721359549995794), (173490, 0.4721359549995794), (177046, 0.4721359549995794), (179829, 0.4721359549995794), (208193, 0.4721359549995794), (208712, 0.4721359549995794), (225375, 0.4721359549995794), (227205, 0.4721359549995794), (227382, 0.4721359549995794), (236314, 0.4721359549995794), (249689, 0.4721359549995794), (250789, 0.4721359549995794), (15839, 0.4721359549995794), (19935, 0.4721359549995794), (23248, 0.4721359549995794), (74493, 0.4721359549995794), (87538, 0.4721359549995794), (92362, 0.4721359549995794), (104139, 0.4721359549995794), (159379, 0.4721359549995794), (236779, 0.4721359549995794), (56499, 0.4721359549995794), (127054, 0.4721359549995794), (146704, 0.4721359549995794), (235688, 0.4721359549995794), (266932, 0.4721359549995794), (90960, 0.4721359549995794), (104559, 0.4721359549995794), (125217, 0.4721359549995794), (169635, 0.4721359549995794), (222436, 0.4721359549995794), (237189, 0.4721359549995794), (266753, 0.4721359549995794), (3954, 0.4721359549995794), (7006, 0.4721359549995794), (7536, 0.4721359549995794), (8019, 0.4721359549995794), (8105, 0.4721359549995794), (8484, 0.4721359549995794), (9999, 0.4721359549995794), (13194, 0.4721359549995794), (13281, 0.4721359549995794), (23400, 0.4721359549995794), (23655, 0.4721359549995794), (32215, 0.4721359549995794), (33959, 0.4721359549995794), (34045, 0.4721359549995794), (36539, 0.4721359549995794), (38823, 0.4721359549995794), (41047, 0.4721359549995794), (51774, 0.4721359549995794), (55789, 0.4721359549995794), (60384, 0.4721359549995794), (63427, 0.4721359549995794), (68976, 0.4721359549995794), (76507, 0.4721359549995794), (87920, 0.4721359549995794), (88951, 0.4721359549995794), (91646, 0.4721359549995794), (100942, 0.4721359549995794), (103658, 0.4721359549995794), (108929, 0.4721359549995794), (109322, 0.4721359549995794), (110434, 0.4721359549995794), (113351, 0.4721359549995794), (114255, 0.4721359549995794), (116057, 0.4721359549995794), (116550, 0.4721359549995794), (121225, 0.4721359549995794), (124534, 0.4721359549995794), (126099, 0.4721359549995794), (128353, 0.4721359549995794), (128502, 0.4721359549995794), (130498, 0.4721359549995794), (130925, 0.4721359549995794), (132142, 0.4721359549995794), (132250, 0.4721359549995794), (147160, 0.4721359549995794), (150102, 0.4721359549995794), (151718, 0.4721359549995794), (154440, 0.4721359549995794), (159207, 0.4721359549995794), (160930, 0.4721359549995794), (162933, 0.4721359549995794), (164412, 0.4721359549995794), (165230, 0.4721359549995794), (166187, 0.4721359549995794), (167181, 0.4721359549995794), (168190, 0.4721359549995794), (168481, 0.4721359549995794), (169377, 0.4721359549995794), (180299, 0.4721359549995794), (185322, 0.4721359549995794), (186938, 0.4721359549995794), (188741, 0.4721359549995794), (194087, 0.4721359549995794), (197510, 0.4721359549995794), (200262, 0.4721359549995794), (214196, 0.4721359549995794), (224513, 0.4721359549995794), (228319, 0.4721359549995794), (235774, 0.4721359549995794), (236125, 0.4721359549995794), (237208, 0.4721359549995794), (241227, 0.4721359549995794), (245063, 0.4721359549995794), (247758, 0.4721359549995794), (248927, 0.4721359549995794), (250455, 0.4721359549995794), (256036, 0.4721359549995794), (256492, 0.4721359549995794), (258670, 0.4721359549995794), (258690, 0.4721359549995794), (261875, 0.4721359549995794), (262673, 0.4721359549995794), (267238, 0.4721359549995794), (268522, 0.4721359549995794), (269066, 0.4721359549995794), (19040, 0.4721359549995794), (21912, 0.4721359549995794), (44998, 0.4721359549995794), (67374, 0.4721359549995794), (104510, 0.4721359549995794), (119927, 0.4721359549995794), (130525, 0.4721359549995794), (172843, 0.4721359549995794), (187136, 0.4721359549995794), (203190, 0.4721359549995794), (259933, 0.4721359549995794), (10324, 0.4721359549995794), (18307, 0.4721359549995794), (27402, 0.4721359549995794), (29817, 0.4721359549995794), (40865, 0.4721359549995794), (76954, 0.4721359549995794), (83074, 0.4721359549995794), (93385, 0.4721359549995794), (110888, 0.4721359549995794), (127017, 0.4721359549995794), (127467, 0.4721359549995794), (140566, 0.4721359549995794), (141008, 0.4721359549995794), (162099, 0.4721359549995794), (166230, 0.4721359549995794), (173505, 0.4721359549995794), (183499, 0.4721359549995794), (231736, 0.4721359549995794), (252678, 0.4721359549995794), (258408, 0.4721359549995794), (20523, 0.4721359549995794), (70630, 0.4721359549995794), (83511, 0.4721359549995794), (165903, 0.4721359549995794), (184129, 0.4721359549995794), (202195, 0.4721359549995794), (225151, 0.4721359549995794), (252226, 0.4721359549995794), (261264, 0.4721359549995794), (162253, 0.4721359549995794), (33202, 0.4721359549995794), (98362, 0.4721359549995794), (140819, 0.4721359549995794), (237158, 0.4721359549995794), (245579, 0.4721359549995794), (247616, 0.4721359549995794), (15107, 0.4721359549995794), (104991, 0.4721359549995794), (113617, 0.4721359549995794), (136581, 0.4721359549995794), (155104, 0.4721359549995794), (198648, 0.4721359549995794), (213264, 0.4721359549995794), (252211, 0.4721359549995794), (49939, 0.4721359549995794), (89360, 0.4721359549995794), (138944, 0.4721359549995794), (240353, 0.4721359549995794), (242419, 0.4721359549995794), (11067, 0.4721359549995794), (100730, 0.4721359549995794), (183282, 0.4721359549995794), (245706, 0.4721359549995794), (31288, 0.4721359549995794), (41157, 0.4721359549995794), (77314, 0.4721359549995794), (152288, 0.4721359549995794), (243377, 0.4721359549995794), (257962, 0.4721359549995794), (107871, 0.4721359549995794), (876, 0.4721359549995794), (59105, 0.4721359549995794), (169093, 0.4721359549995794), (217892, 0.4721359549995794), (45518, 0.4721359549995794), (250738, 0.4721359549995794), (2908, 0.4721359549995794), (27091, 0.4721359549995794), (35997, 0.4721359549995794), (100484, 0.4721359549995794), (108316, 0.4721359549995794), (117255, 0.4721359549995794), (118710, 0.4721359549995794), (147149, 0.4721359549995794), (174319, 0.4721359549995794), (182476, 0.4721359549995794), (218898, 0.4721359549995794), (233699, 0.4721359549995794), (103712, 0.4721359549995794), (117381, 0.4721359549995794), (195192, 0.4721359549995794), (47192, 0.4721359549995794), (82997, 0.4721359549995794), (151545, 0.4721359549995794), (242974, 0.4721359549995794), (266585, 0.4721359549995794), (60629, 0.4721359549995794), (73764, 0.4721359549995794), (84523, 0.4721359549995794), (106033, 0.4721359549995794), (119738, 0.4721359549995794), (144604, 0.4721359549995794), (163191, 0.4721359549995794), (244582, 0.4721359549995794), (47500, 0.4721359549995794), (48283, 0.4721359549995794), (59848, 0.4721359549995794), (103044, 0.4721359549995794), (106276, 0.4721359549995794), (166937, 0.4721359549995794), (170605, 0.4721359549995794), (197232, 0.4721359549995794), (200629, 0.4721359549995794), (240848, 0.4721359549995794), (254171, 0.4721359549995794), (265768, 0.4721359549995794), (34760, 0.4721359549995794), (230163, 0.4721359549995794), (261316, 0.4721359549995794), (1334, 0.4721359549995794), (115630, 0.4721359549995794), (147020, 0.4721359549995794), (251643, 0.4721359549995794), (206146, 0.4721359549995794), (2818, 0.4721359549995794), (179923, 0.4721359549995794), (218781, 0.4721359549995794), (117808, 0.4721359549995794), (132738, 0.4721359549995794), (136000, 0.4721359549995794), (194700, 0.4721359549995794), (195840, 0.4721359549995794), (204614, 0.4721359549995794), (216479, 0.4721359549995794), (244057, 0.4721359549995794), (35155, 0.4721359549995794), (68841, 0.4721359549995794), (87881, 0.4721359549995794), (129459, 0.4721359549995794), (166641, 0.4721359549995794), (235868, 0.4721359549995794), (1324, 0.4721359549995794), (2962, 0.4721359549995794), (3959, 0.4721359549995794), (6875, 0.4721359549995794), (17420, 0.4721359549995794), (36420, 0.4721359549995794), (53981, 0.4721359549995794), (72919, 0.4721359549995794), (75622, 0.4721359549995794), (91817, 0.4721359549995794), (92923, 0.4721359549995794), (96861, 0.4721359549995794), (111815, 0.4721359549995794), (111817, 0.4721359549995794), (113629, 0.4721359549995794), (117066, 0.4721359549995794), (133790, 0.4721359549995794), (135541, 0.4721359549995794), (136595, 0.4721359549995794), (141539, 0.4721359549995794), (148947, 0.4721359549995794), (160324, 0.4721359549995794), (168154, 0.4721359549995794), (168299, 0.4721359549995794), (179289, 0.4721359549995794), (190013, 0.4721359549995794), (199236, 0.4721359549995794), (204555, 0.4721359549995794), (205716, 0.4721359549995794), (221491, 0.4721359549995794), (228090, 0.4721359549995794), (228254, 0.4721359549995794), (229737, 0.4721359549995794), (236162, 0.4721359549995794), (239657, 0.4721359549995794), (243925, 0.4721359549995794), (251259, 0.4721359549995794), (252345, 0.4721359549995794)]\n"
     ]
    }
   ],
   "source": [
    "print(euclid_matches[22000:24000])"
   ],
   "metadata": {
    "collapsed": false
   }
  },
  {
   "cell_type": "code",
   "execution_count": 95,
   "outputs": [
    {
     "name": "stdout",
     "output_type": "stream",
     "text": [
      "Pearson best films\n",
      "You perfectly match with user 24607 : 1.0, you should watch his films:\n",
      "\tHeat\n",
      "\tFor a Few Dollars More\n",
      "\tPandora's Box\n",
      "\tOpen Water\n",
      "\tLudwig\n",
      "You perfectly match with user 137740 : 1.0, you should watch his films:\n",
      "\tHeat\n",
      "\tEarth Girls Are Easy\n",
      "\tCars\n",
      "You perfectly match with user 161069 : 1.0, you should watch his films:\n",
      "\tHeat\n",
      "\tTo Be or Not to Be\n",
      "\tThe Projected Man\n",
      "Euclid best films\n",
      "You perfectly match with user 255439 : 1.0, you should watch his films:\n",
      "\tHeat\n",
      "\tThe Time Machine\n",
      "\tAll the President's Men\n",
      "\tThe Assassination of Richard Nixon\n",
      "You perfectly match with user 229439 : 1.0, you should watch his films:\n",
      "\tGoldenEye\n",
      "\tHome Alone\n",
      "\tThe African Queen\n",
      "\tSay Anything...\n",
      "\tSpaceballs\n",
      "You perfectly match with user 50323 : 1.0, you should watch his films:\n",
      "\tCutthroat Island\n",
      "\tHouseboat\n",
      "\tHoly Matrimony\n",
      "\tLucky Number Slevin\n"
     ]
    }
   ],
   "source": [
    "print(\"Pearson best films\")\n",
    "for match in matches[:3]:\n",
    "    films = critics[match[0]]\n",
    "    print(f\"You perfectly match with user {match[0]} : {match[1]}, you should watch his films:\")\n",
    "    for film in films.keys():\n",
    "     print(f\"\\t{movies[film]}\")\n",
    "\n",
    "print(\"Euclid best films\")\n",
    "for match in euclid_matches[:3]:\n",
    "    films = critics[match[0]]\n",
    "    print(f\"You perfectly match with user {match[0]} : {match[1]}, you should watch his films:\")\n",
    "    for film in films.keys():\n",
    "        print(f\"\\t{movies[film]}\")"
   ],
   "metadata": {
    "collapsed": false
   }
  },
  {
   "cell_type": "code",
   "execution_count": 110,
   "outputs": [],
   "source": [
    "from sklearn.metrics import  precision_score, recall_score, f1_score, accuracy_score, mean_squared_error\n",
    "\n",
    "# [0, 5] -> [0 , 1]\n",
    "def scaler(value):\n",
    "    return value / 5.0\n",
    "\n",
    "# [-1, 1] -> [0, 1]\n",
    "def scale_pearson(value):\n",
    "    return (value + 1)/2\n",
    "\n",
    "def report(predicted, truth, predicted_binary, truth_binary):\n",
    "    presicion = precision_score(predicted_binary, truth_binary)\n",
    "    recall = recall_score(predicted_binary, truth_binary)\n",
    "    f1 = f1_score(predicted_binary, truth_binary)\n",
    "    accuracy = accuracy_score(predicted_binary, truth_binary)\n",
    "    mse = mean_squared_error(predicted, truth)\n",
    "    rmse = np.sqrt(mse)\n",
    "    return (presicion, recall, f1, accuracy, mse, rmse)\n",
    "\n",
    "# сравниваем оценку на фильм colaborative filtration и саму оценку пользователя для этого фильма\n",
    "def recommendation_correctness(critics_recommendations, critics_scores, pearson=False):\n",
    "    predicted = []\n",
    "    predicted_binary = []\n",
    "    truth = []\n",
    "    truth_binary = []\n",
    "    for predictions, critic_score in zip(critics_recommendations, critics_scores):\n",
    "        for prediction in predictions:\n",
    "            films = critics[prediction[0]]\n",
    "            for film_id in films.keys():\n",
    "                if film_id in critic_score.keys():\n",
    "                    predicted.append(scale_pearson(prediction[1]) if pearson else prediction[1])\n",
    "                    # результат нашей модели, и мы ей мало доверяем\n",
    "                    predicted_binary.append( 1 if prediction[1] >= 0.95 else 0)\n",
    "                    truth.append(scaler(critic_score[film_id]))\n",
    "                    # оценка пользователя 4+ -> хороший фильм\n",
    "                    truth_binary.append( 1 if scaler(critic_score[film_id])>= 0.8 else 0)\n",
    "    score = [ v for v in report(predicted, truth, predicted_binary, truth_binary)]\n",
    "    data_ = {\"score\": score}\n",
    "    report_ = pd.DataFrame(data_, index=['presicion','recall','f1-score', 'accuracy', 'mse', 'rmse']).T\n",
    "    display(report_)"
   ],
   "metadata": {
    "collapsed": false
   }
  },
  {
   "cell_type": "code",
   "execution_count": 111,
   "outputs": [
    {
     "name": "stdout",
     "output_type": "stream",
     "text": [
      "Euclid correctness for 1 user\n"
     ]
    },
    {
     "data": {
      "text/plain": "       presicion    recall  f1-score  accuracy       mse     rmse\nscore   0.001163  0.679422  0.002321  0.565134  0.375353  0.61266",
      "text/html": "<div>\n<style scoped>\n    .dataframe tbody tr th:only-of-type {\n        vertical-align: middle;\n    }\n\n    .dataframe tbody tr th {\n        vertical-align: top;\n    }\n\n    .dataframe thead th {\n        text-align: right;\n    }\n</style>\n<table border=\"1\" class=\"dataframe\">\n  <thead>\n    <tr style=\"text-align: right;\">\n      <th></th>\n      <th>presicion</th>\n      <th>recall</th>\n      <th>f1-score</th>\n      <th>accuracy</th>\n      <th>mse</th>\n      <th>rmse</th>\n    </tr>\n  </thead>\n  <tbody>\n    <tr>\n      <th>score</th>\n      <td>0.001163</td>\n      <td>0.679422</td>\n      <td>0.002321</td>\n      <td>0.565134</td>\n      <td>0.375353</td>\n      <td>0.61266</td>\n    </tr>\n  </tbody>\n</table>\n</div>"
     },
     "metadata": {},
     "output_type": "display_data"
    }
   ],
   "source": [
    "print(\"Euclid correctness for 1 user\")\n",
    "recommendation_correctness([euclid_matches],[critics[random_user]])"
   ],
   "metadata": {
    "collapsed": false
   }
  },
  {
   "cell_type": "code",
   "execution_count": 112,
   "outputs": [
    {
     "name": "stdout",
     "output_type": "stream",
     "text": [
      "Pierson correctness for 1 user\n"
     ]
    },
    {
     "data": {
      "text/plain": "       presicion   recall  f1-score  accuracy       mse      rmse\nscore   0.003448  0.46074  0.006845  0.564612  0.059703  0.244341",
      "text/html": "<div>\n<style scoped>\n    .dataframe tbody tr th:only-of-type {\n        vertical-align: middle;\n    }\n\n    .dataframe tbody tr th {\n        vertical-align: top;\n    }\n\n    .dataframe thead th {\n        text-align: right;\n    }\n</style>\n<table border=\"1\" class=\"dataframe\">\n  <thead>\n    <tr style=\"text-align: right;\">\n      <th></th>\n      <th>presicion</th>\n      <th>recall</th>\n      <th>f1-score</th>\n      <th>accuracy</th>\n      <th>mse</th>\n      <th>rmse</th>\n    </tr>\n  </thead>\n  <tbody>\n    <tr>\n      <th>score</th>\n      <td>0.003448</td>\n      <td>0.46074</td>\n      <td>0.006845</td>\n      <td>0.564612</td>\n      <td>0.059703</td>\n      <td>0.244341</td>\n    </tr>\n  </tbody>\n</table>\n</div>"
     },
     "metadata": {},
     "output_type": "display_data"
    }
   ],
   "source": [
    "print(\"Pierson correctness for 1 user\")\n",
    "recommendation_correctness([matches],[critics[random_user]], pearson=True)"
   ],
   "metadata": {
    "collapsed": false
   }
  },
  {
   "cell_type": "code",
   "execution_count": 185,
   "outputs": [
    {
     "name": "stdout",
     "output_type": "stream",
     "text": [
      "Euclid correctness for 10 users\n"
     ]
    },
    {
     "data": {
      "text/plain": "       presicion    recall  f1-score  accuracy     mse      rmse\nscore   0.001001  0.534683  0.001999  0.564928  0.3734  0.611065",
      "text/html": "<div>\n<style scoped>\n    .dataframe tbody tr th:only-of-type {\n        vertical-align: middle;\n    }\n\n    .dataframe tbody tr th {\n        vertical-align: top;\n    }\n\n    .dataframe thead th {\n        text-align: right;\n    }\n</style>\n<table border=\"1\" class=\"dataframe\">\n  <thead>\n    <tr style=\"text-align: right;\">\n      <th></th>\n      <th>presicion</th>\n      <th>recall</th>\n      <th>f1-score</th>\n      <th>accuracy</th>\n      <th>mse</th>\n      <th>rmse</th>\n    </tr>\n  </thead>\n  <tbody>\n    <tr>\n      <th>score</th>\n      <td>0.001001</td>\n      <td>0.534683</td>\n      <td>0.001999</td>\n      <td>0.564928</td>\n      <td>0.3734</td>\n      <td>0.611065</td>\n    </tr>\n  </tbody>\n</table>\n</div>"
     },
     "metadata": {},
     "output_type": "display_data"
    }
   ],
   "source": [
    "random_critics = []\n",
    "recommendations = []\n",
    "films = []\n",
    "for _ in range(10):\n",
    "    # выбор уникального критика\n",
    "    random_critic = pick_random_user(data).index[0]\n",
    "    while random_critic in random_critics:\n",
    "        random_critic = pick_random_user(data).index[0]\n",
    "    random_critics.append(random_critic)\n",
    "    recommendations.append(topMatches(critics, random_critic, similarity=euclid_oxana))\n",
    "    films.append(critics[random_user])\n",
    "print(\"Euclid correctness for 10 users\")\n",
    "recommendation_correctness(recommendations,films)"
   ],
   "metadata": {
    "collapsed": false
   }
  },
  {
   "cell_type": "code",
   "execution_count": null,
   "outputs": [
    {
     "name": "stderr",
     "output_type": "stream",
     "text": [
      "C:\\Users\\milen\\AppData\\Local\\Programs\\Python\\Python39\\lib\\site-packages\\scipy\\stats\\_stats_py.py:4424: ConstantInputWarning: An input array is constant; the correlation coefficient is not defined.\n",
      "  warnings.warn(stats.ConstantInputWarning(msg))\n",
      "C:\\Users\\milen\\AppData\\Local\\Programs\\Python\\Python39\\lib\\site-packages\\scipy\\stats\\_stats_py.py:4424: ConstantInputWarning: An input array is constant; the correlation coefficient is not defined.\n",
      "  warnings.warn(stats.ConstantInputWarning(msg))\n",
      "C:\\Users\\milen\\AppData\\Local\\Programs\\Python\\Python39\\lib\\site-packages\\scipy\\stats\\_stats_py.py:4424: ConstantInputWarning: An input array is constant; the correlation coefficient is not defined.\n",
      "  warnings.warn(stats.ConstantInputWarning(msg))\n",
      "C:\\Users\\milen\\AppData\\Local\\Programs\\Python\\Python39\\lib\\site-packages\\scipy\\stats\\_stats_py.py:4424: ConstantInputWarning: An input array is constant; the correlation coefficient is not defined.\n",
      "  warnings.warn(stats.ConstantInputWarning(msg))\n",
      "C:\\Users\\milen\\AppData\\Local\\Programs\\Python\\Python39\\lib\\site-packages\\scipy\\stats\\_stats_py.py:4424: ConstantInputWarning: An input array is constant; the correlation coefficient is not defined.\n",
      "  warnings.warn(stats.ConstantInputWarning(msg))\n",
      "C:\\Users\\milen\\AppData\\Local\\Programs\\Python\\Python39\\lib\\site-packages\\scipy\\stats\\_stats_py.py:4424: ConstantInputWarning: An input array is constant; the correlation coefficient is not defined.\n",
      "  warnings.warn(stats.ConstantInputWarning(msg))\n",
      "C:\\Users\\milen\\AppData\\Local\\Programs\\Python\\Python39\\lib\\site-packages\\scipy\\stats\\_stats_py.py:4424: ConstantInputWarning: An input array is constant; the correlation coefficient is not defined.\n",
      "  warnings.warn(stats.ConstantInputWarning(msg))\n",
      "C:\\Users\\milen\\AppData\\Local\\Programs\\Python\\Python39\\lib\\site-packages\\scipy\\stats\\_stats_py.py:4424: ConstantInputWarning: An input array is constant; the correlation coefficient is not defined.\n",
      "  warnings.warn(stats.ConstantInputWarning(msg))\n",
      "C:\\Users\\milen\\AppData\\Local\\Programs\\Python\\Python39\\lib\\site-packages\\scipy\\stats\\_stats_py.py:4424: ConstantInputWarning: An input array is constant; the correlation coefficient is not defined.\n",
      "  warnings.warn(stats.ConstantInputWarning(msg))\n",
      "C:\\Users\\milen\\AppData\\Local\\Programs\\Python\\Python39\\lib\\site-packages\\scipy\\stats\\_stats_py.py:4424: ConstantInputWarning: An input array is constant; the correlation coefficient is not defined.\n",
      "  warnings.warn(stats.ConstantInputWarning(msg))\n"
     ]
    },
    {
     "name": "stdout",
     "output_type": "stream",
     "text": [
      "Pierson correctness for 10 users\n"
     ]
    },
    {
     "data": {
      "text/plain": "       presicion    recall  f1-score  accuracy       mse      rmse\nscore   0.003252  0.507722  0.006462  0.564915  0.056557  0.237817",
      "text/html": "<div>\n<style scoped>\n    .dataframe tbody tr th:only-of-type {\n        vertical-align: middle;\n    }\n\n    .dataframe tbody tr th {\n        vertical-align: top;\n    }\n\n    .dataframe thead th {\n        text-align: right;\n    }\n</style>\n<table border=\"1\" class=\"dataframe\">\n  <thead>\n    <tr style=\"text-align: right;\">\n      <th></th>\n      <th>presicion</th>\n      <th>recall</th>\n      <th>f1-score</th>\n      <th>accuracy</th>\n      <th>mse</th>\n      <th>rmse</th>\n    </tr>\n  </thead>\n  <tbody>\n    <tr>\n      <th>score</th>\n      <td>0.003252</td>\n      <td>0.507722</td>\n      <td>0.006462</td>\n      <td>0.564915</td>\n      <td>0.056557</td>\n      <td>0.237817</td>\n    </tr>\n  </tbody>\n</table>\n</div>"
     },
     "metadata": {},
     "output_type": "display_data"
    }
   ],
   "source": [
    "random_critics = []\n",
    "recommendations = []\n",
    "films = []\n",
    "for _ in range(10):\n",
    "    # выбор уникального критика\n",
    "    random_critic = pick_random_user(data).index[0]\n",
    "    while random_critic in random_critics:\n",
    "        random_critic = pick_random_user(data).index[0]\n",
    "    random_critics.append(random_critic)\n",
    "    recommendations.append(topMatches(critics, random_critic))\n",
    "    films.append(critics[random_user])\n",
    "print(\"Pierson correctness for 10 users\")\n",
    "recommendation_correctness(recommendations,films, pearson=True)"
   ],
   "metadata": {
    "collapsed": false,
    "pycharm": {
     "is_executing": true
    }
   }
  },
  {
   "cell_type": "markdown",
   "source": [
    "## Задание 6"
   ],
   "metadata": {
    "collapsed": false
   }
  },
  {
   "cell_type": "markdown",
   "source": [
    "Используйте метод Term Frequency Inverse Document Frequency (TF-IDF), чтобы отфильтровать фильмы, похожие (используйте для этого косинусное расстояние) на те, которые пользователь высоко оценил.\n",
    "Оцените качество такой рекомендации."
   ],
   "metadata": {
    "collapsed": false
   }
  },
  {
   "cell_type": "code",
   "execution_count": 187,
   "outputs": [],
   "source": [
    "%%capture\n",
    "import nltk\n",
    "import string\n",
    "nltk.download('punkt')\n",
    "nltk.download('stopwords')\n",
    "nltk.download('wordnet')"
   ],
   "metadata": {
    "collapsed": false
   }
  },
  {
   "cell_type": "code",
   "execution_count": 234,
   "outputs": [],
   "source": [
    "tfidf_data = metadata.copy()"
   ],
   "metadata": {
    "collapsed": false
   }
  },
  {
   "cell_type": "markdown",
   "source": [
    "**Уберем знаки препинания**"
   ],
   "metadata": {
    "collapsed": false
   }
  },
  {
   "cell_type": "code",
   "execution_count": 235,
   "outputs": [
    {
     "data": {
      "text/plain": "      id    imdb_id                                           overview  \\\n0    862  tt0114709  led by woody andys toys live happily in his ro...   \n1   8844  tt0113497  when siblings judy and peter discover an encha...   \n2  15602  tt0113228  a family wedding reignites the ancient feud be...   \n3  31357  tt0114885  cheated on mistreated and stepped on the women...   \n4  11862  tt0113041  just when george banks has recovered from his ...   \n\n                         title  \n0                    Toy Story  \n1                      Jumanji  \n2             Grumpier Old Men  \n3            Waiting to Exhale  \n4  Father of the Bride Part II  ",
      "text/html": "<div>\n<style scoped>\n    .dataframe tbody tr th:only-of-type {\n        vertical-align: middle;\n    }\n\n    .dataframe tbody tr th {\n        vertical-align: top;\n    }\n\n    .dataframe thead th {\n        text-align: right;\n    }\n</style>\n<table border=\"1\" class=\"dataframe\">\n  <thead>\n    <tr style=\"text-align: right;\">\n      <th></th>\n      <th>id</th>\n      <th>imdb_id</th>\n      <th>overview</th>\n      <th>title</th>\n    </tr>\n  </thead>\n  <tbody>\n    <tr>\n      <th>0</th>\n      <td>862</td>\n      <td>tt0114709</td>\n      <td>led by woody andys toys live happily in his ro...</td>\n      <td>Toy Story</td>\n    </tr>\n    <tr>\n      <th>1</th>\n      <td>8844</td>\n      <td>tt0113497</td>\n      <td>when siblings judy and peter discover an encha...</td>\n      <td>Jumanji</td>\n    </tr>\n    <tr>\n      <th>2</th>\n      <td>15602</td>\n      <td>tt0113228</td>\n      <td>a family wedding reignites the ancient feud be...</td>\n      <td>Grumpier Old Men</td>\n    </tr>\n    <tr>\n      <th>3</th>\n      <td>31357</td>\n      <td>tt0114885</td>\n      <td>cheated on mistreated and stepped on the women...</td>\n      <td>Waiting to Exhale</td>\n    </tr>\n    <tr>\n      <th>4</th>\n      <td>11862</td>\n      <td>tt0113041</td>\n      <td>just when george banks has recovered from his ...</td>\n      <td>Father of the Bride Part II</td>\n    </tr>\n  </tbody>\n</table>\n</div>"
     },
     "metadata": {},
     "output_type": "display_data"
    }
   ],
   "source": [
    "def remove_punctuation(sentence):\n",
    "    for ch in string.punctuation:\n",
    "        sentence = sentence.replace(ch,\"\")\n",
    "    return sentence.lower()\n",
    "tfidf_data['overview'] = tfidf_data.apply(lambda row: remove_punctuation(row['overview']), axis=1)\n",
    "display(tfidf_data.head())"
   ],
   "metadata": {
    "collapsed": false
   }
  },
  {
   "cell_type": "code",
   "execution_count": 236,
   "outputs": [
    {
     "data": {
      "text/plain": "      id    imdb_id                                           overview  \\\n0    862  tt0114709  [led, by, woody, andys, toys, live, happily, i...   \n1   8844  tt0113497  [when, siblings, judy, and, peter, discover, a...   \n2  15602  tt0113228  [a, family, wedding, reignites, the, ancient, ...   \n3  31357  tt0114885  [cheated, on, mistreated, and, stepped, on, th...   \n4  11862  tt0113041  [just, when, george, banks, has, recovered, fr...   \n\n                         title  \n0                    Toy Story  \n1                      Jumanji  \n2             Grumpier Old Men  \n3            Waiting to Exhale  \n4  Father of the Bride Part II  ",
      "text/html": "<div>\n<style scoped>\n    .dataframe tbody tr th:only-of-type {\n        vertical-align: middle;\n    }\n\n    .dataframe tbody tr th {\n        vertical-align: top;\n    }\n\n    .dataframe thead th {\n        text-align: right;\n    }\n</style>\n<table border=\"1\" class=\"dataframe\">\n  <thead>\n    <tr style=\"text-align: right;\">\n      <th></th>\n      <th>id</th>\n      <th>imdb_id</th>\n      <th>overview</th>\n      <th>title</th>\n    </tr>\n  </thead>\n  <tbody>\n    <tr>\n      <th>0</th>\n      <td>862</td>\n      <td>tt0114709</td>\n      <td>[led, by, woody, andys, toys, live, happily, i...</td>\n      <td>Toy Story</td>\n    </tr>\n    <tr>\n      <th>1</th>\n      <td>8844</td>\n      <td>tt0113497</td>\n      <td>[when, siblings, judy, and, peter, discover, a...</td>\n      <td>Jumanji</td>\n    </tr>\n    <tr>\n      <th>2</th>\n      <td>15602</td>\n      <td>tt0113228</td>\n      <td>[a, family, wedding, reignites, the, ancient, ...</td>\n      <td>Grumpier Old Men</td>\n    </tr>\n    <tr>\n      <th>3</th>\n      <td>31357</td>\n      <td>tt0114885</td>\n      <td>[cheated, on, mistreated, and, stepped, on, th...</td>\n      <td>Waiting to Exhale</td>\n    </tr>\n    <tr>\n      <th>4</th>\n      <td>11862</td>\n      <td>tt0113041</td>\n      <td>[just, when, george, banks, has, recovered, fr...</td>\n      <td>Father of the Bride Part II</td>\n    </tr>\n  </tbody>\n</table>\n</div>"
     },
     "metadata": {},
     "output_type": "display_data"
    }
   ],
   "source": [
    "from nltk.tokenize import word_tokenize\n",
    "tfidf_data['overview'] = tfidf_data.apply(lambda row: word_tokenize(row['overview'], language='english'), axis=1)\n",
    "display(tfidf_data.head())"
   ],
   "metadata": {
    "collapsed": false
   }
  },
  {
   "cell_type": "markdown",
   "source": [
    "**Лемматизация**"
   ],
   "metadata": {
    "collapsed": false
   }
  },
  {
   "cell_type": "code",
   "execution_count": 237,
   "outputs": [],
   "source": [
    "%%capture\n",
    "!pip install pymorphy2\n",
    "from pymorphy2 import MorphAnalyzer"
   ],
   "metadata": {
    "collapsed": false
   }
  },
  {
   "cell_type": "code",
   "execution_count": 238,
   "outputs": [
    {
     "name": "stdout",
     "output_type": "stream",
     "text": [
      "мышь\n"
     ]
    }
   ],
   "source": [
    "# проверка\n",
    "morph = MorphAnalyzer()\n",
    "print(morph.parse('мыши')[0].normal_form)"
   ],
   "metadata": {
    "collapsed": false
   }
  },
  {
   "cell_type": "code",
   "execution_count": 239,
   "outputs": [
    {
     "data": {
      "text/plain": "      id    imdb_id                                           overview  \\\n0    862  tt0114709  [led, by, woody, andys, toys, live, happily, i...   \n1   8844  tt0113497  [when, siblings, judy, and, peter, discover, a...   \n2  15602  tt0113228  [a, family, wedding, reignites, the, ancient, ...   \n3  31357  tt0114885  [cheated, on, mistreated, and, stepped, on, th...   \n4  11862  tt0113041  [just, when, george, banks, has, recovered, fr...   \n\n                         title  \n0                    Toy Story  \n1                      Jumanji  \n2             Grumpier Old Men  \n3            Waiting to Exhale  \n4  Father of the Bride Part II  ",
      "text/html": "<div>\n<style scoped>\n    .dataframe tbody tr th:only-of-type {\n        vertical-align: middle;\n    }\n\n    .dataframe tbody tr th {\n        vertical-align: top;\n    }\n\n    .dataframe thead th {\n        text-align: right;\n    }\n</style>\n<table border=\"1\" class=\"dataframe\">\n  <thead>\n    <tr style=\"text-align: right;\">\n      <th></th>\n      <th>id</th>\n      <th>imdb_id</th>\n      <th>overview</th>\n      <th>title</th>\n    </tr>\n  </thead>\n  <tbody>\n    <tr>\n      <th>0</th>\n      <td>862</td>\n      <td>tt0114709</td>\n      <td>[led, by, woody, andys, toys, live, happily, i...</td>\n      <td>Toy Story</td>\n    </tr>\n    <tr>\n      <th>1</th>\n      <td>8844</td>\n      <td>tt0113497</td>\n      <td>[when, siblings, judy, and, peter, discover, a...</td>\n      <td>Jumanji</td>\n    </tr>\n    <tr>\n      <th>2</th>\n      <td>15602</td>\n      <td>tt0113228</td>\n      <td>[a, family, wedding, reignites, the, ancient, ...</td>\n      <td>Grumpier Old Men</td>\n    </tr>\n    <tr>\n      <th>3</th>\n      <td>31357</td>\n      <td>tt0114885</td>\n      <td>[cheated, on, mistreated, and, stepped, on, th...</td>\n      <td>Waiting to Exhale</td>\n    </tr>\n    <tr>\n      <th>4</th>\n      <td>11862</td>\n      <td>tt0113041</td>\n      <td>[just, when, george, banks, has, recovered, fr...</td>\n      <td>Father of the Bride Part II</td>\n    </tr>\n  </tbody>\n</table>\n</div>"
     },
     "metadata": {},
     "output_type": "display_data"
    }
   ],
   "source": [
    "def lemmatize(sentence):\n",
    "    return [morph.parse(w)[0].normal_form for w in sentence]\n",
    "tfidf_data['overview'] = tfidf_data.apply(lambda row: lemmatize(row['overview']), axis=1)\n",
    "display(tfidf_data.head())"
   ],
   "metadata": {
    "collapsed": false
   }
  },
  {
   "cell_type": "code",
   "execution_count": 242,
   "outputs": [
    {
     "data": {
      "text/plain": "      id    imdb_id                                           overview  \\\n0    862  tt0114709  led by woody andys toys live happily in his ro...   \n1   8844  tt0113497  when siblings judy and peter discover an encha...   \n2  15602  tt0113228  a family wedding reignites the ancient feud be...   \n3  31357  tt0114885  cheated on mistreated and stepped on the women...   \n4  11862  tt0113041  just when george banks has recovered from his ...   \n\n                         title  \n0                    Toy Story  \n1                      Jumanji  \n2             Grumpier Old Men  \n3            Waiting to Exhale  \n4  Father of the Bride Part II  ",
      "text/html": "<div>\n<style scoped>\n    .dataframe tbody tr th:only-of-type {\n        vertical-align: middle;\n    }\n\n    .dataframe tbody tr th {\n        vertical-align: top;\n    }\n\n    .dataframe thead th {\n        text-align: right;\n    }\n</style>\n<table border=\"1\" class=\"dataframe\">\n  <thead>\n    <tr style=\"text-align: right;\">\n      <th></th>\n      <th>id</th>\n      <th>imdb_id</th>\n      <th>overview</th>\n      <th>title</th>\n    </tr>\n  </thead>\n  <tbody>\n    <tr>\n      <th>0</th>\n      <td>862</td>\n      <td>tt0114709</td>\n      <td>led by woody andys toys live happily in his ro...</td>\n      <td>Toy Story</td>\n    </tr>\n    <tr>\n      <th>1</th>\n      <td>8844</td>\n      <td>tt0113497</td>\n      <td>when siblings judy and peter discover an encha...</td>\n      <td>Jumanji</td>\n    </tr>\n    <tr>\n      <th>2</th>\n      <td>15602</td>\n      <td>tt0113228</td>\n      <td>a family wedding reignites the ancient feud be...</td>\n      <td>Grumpier Old Men</td>\n    </tr>\n    <tr>\n      <th>3</th>\n      <td>31357</td>\n      <td>tt0114885</td>\n      <td>cheated on mistreated and stepped on the women...</td>\n      <td>Waiting to Exhale</td>\n    </tr>\n    <tr>\n      <th>4</th>\n      <td>11862</td>\n      <td>tt0113041</td>\n      <td>just when george banks has recovered from his ...</td>\n      <td>Father of the Bride Part II</td>\n    </tr>\n  </tbody>\n</table>\n</div>"
     },
     "metadata": {},
     "output_type": "display_data"
    }
   ],
   "source": [
    "def convert_to_string(sentence):\n",
    "    return ' '.join(sentence)\n",
    "tfidf_data['overview'] = tfidf_data.apply(lambda row: convert_to_string(row['overview']), axis=1)\n",
    "display(tfidf_data.head())"
   ],
   "metadata": {
    "collapsed": false
   }
  },
  {
   "cell_type": "code",
   "execution_count": 240,
   "outputs": [],
   "source": [
    "from sklearn.feature_extraction.text import TfidfVectorizer\n",
    "tf = TfidfVectorizer(analyzer='word', ngram_range=(1, 2), min_df=0, stop_words=\"english\")"
   ],
   "metadata": {
    "collapsed": false
   }
  },
  {
   "cell_type": "code",
   "execution_count": 243,
   "outputs": [
    {
     "data": {
      "text/plain": "(43856, 1055410)"
     },
     "execution_count": 243,
     "metadata": {},
     "output_type": "execute_result"
    }
   ],
   "source": [
    "tfidf_matrix = tf.fit_transform(tfidf_data['overview'])\n",
    "tfidf_matrix.shape"
   ],
   "metadata": {
    "collapsed": false
   }
  },
  {
   "cell_type": "code",
   "execution_count": 244,
   "outputs": [],
   "source": [
    "from sklearn.metrics.pairwise import cosine_similarity\n",
    "cosine_sim = cosine_similarity(tfidf_matrix)"
   ],
   "metadata": {
    "collapsed": false
   }
  },
  {
   "cell_type": "code",
   "execution_count": 245,
   "outputs": [],
   "source": [
    "cosine_sim_df = pd.DataFrame(cosine_sim, index=tfidf_data['title'], columns=tfidf_data['title'])"
   ],
   "metadata": {
    "collapsed": false
   }
  },
  {
   "cell_type": "code",
   "execution_count": 246,
   "outputs": [
    {
     "data": {
      "text/plain": "title                       Pure  Blood Diner  \\\ntitle                                           \nBedrooms and Hallways   0.009968     0.003877   \nThe Admirable Crichton  0.000000     0.000000   \nThe Lost Weekend        0.000000     0.000000   \nCar Trouble             0.000000     0.007397   \nRed Eagle               0.000000     0.005696   \nWalkabout               0.006559     0.000000   \nSide Street             0.003650     0.002755   \nDr. Black, Mr. Hyde     0.000000     0.000000   \nAtomic Age              0.002968     0.004774   \nCenizas del Paraiso     0.000000     0.000000   \n\ntitle                   Bleach: The DiamondDust Rebellion  \\\ntitle                                                       \nBedrooms and Hallways                            0.000000   \nThe Admirable Crichton                           0.000000   \nThe Lost Weekend                                 0.000000   \nCar Trouble                                      0.000000   \nRed Eagle                                        0.004426   \nWalkabout                                        0.000000   \nSide Street                                      0.000000   \nDr. Black, Mr. Hyde                              0.000000   \nAtomic Age                                       0.000000   \nCenizas del Paraiso                              0.000000   \n\ntitle                   Vieni avanti cretino  When You Comin' Back, Red Ryder?  \ntitle                                                                           \nBedrooms and Hallways                    0.0                          0.000000  \nThe Admirable Crichton                   0.0                          0.000000  \nThe Lost Weekend                         0.0                          0.000000  \nCar Trouble                              0.0                          0.010494  \nRed Eagle                                0.0                          0.008387  \nWalkabout                                0.0                          0.000000  \nSide Street                              0.0                          0.000000  \nDr. Black, Mr. Hyde                      0.0                          0.000000  \nAtomic Age                               0.0                          0.000000  \nCenizas del Paraiso                      0.0                          0.000000  ",
      "text/html": "<div>\n<style scoped>\n    .dataframe tbody tr th:only-of-type {\n        vertical-align: middle;\n    }\n\n    .dataframe tbody tr th {\n        vertical-align: top;\n    }\n\n    .dataframe thead th {\n        text-align: right;\n    }\n</style>\n<table border=\"1\" class=\"dataframe\">\n  <thead>\n    <tr style=\"text-align: right;\">\n      <th>title</th>\n      <th>Pure</th>\n      <th>Blood Diner</th>\n      <th>Bleach: The DiamondDust Rebellion</th>\n      <th>Vieni avanti cretino</th>\n      <th>When You Comin' Back, Red Ryder?</th>\n    </tr>\n    <tr>\n      <th>title</th>\n      <th></th>\n      <th></th>\n      <th></th>\n      <th></th>\n      <th></th>\n    </tr>\n  </thead>\n  <tbody>\n    <tr>\n      <th>Bedrooms and Hallways</th>\n      <td>0.009968</td>\n      <td>0.003877</td>\n      <td>0.000000</td>\n      <td>0.0</td>\n      <td>0.000000</td>\n    </tr>\n    <tr>\n      <th>The Admirable Crichton</th>\n      <td>0.000000</td>\n      <td>0.000000</td>\n      <td>0.000000</td>\n      <td>0.0</td>\n      <td>0.000000</td>\n    </tr>\n    <tr>\n      <th>The Lost Weekend</th>\n      <td>0.000000</td>\n      <td>0.000000</td>\n      <td>0.000000</td>\n      <td>0.0</td>\n      <td>0.000000</td>\n    </tr>\n    <tr>\n      <th>Car Trouble</th>\n      <td>0.000000</td>\n      <td>0.007397</td>\n      <td>0.000000</td>\n      <td>0.0</td>\n      <td>0.010494</td>\n    </tr>\n    <tr>\n      <th>Red Eagle</th>\n      <td>0.000000</td>\n      <td>0.005696</td>\n      <td>0.004426</td>\n      <td>0.0</td>\n      <td>0.008387</td>\n    </tr>\n    <tr>\n      <th>Walkabout</th>\n      <td>0.006559</td>\n      <td>0.000000</td>\n      <td>0.000000</td>\n      <td>0.0</td>\n      <td>0.000000</td>\n    </tr>\n    <tr>\n      <th>Side Street</th>\n      <td>0.003650</td>\n      <td>0.002755</td>\n      <td>0.000000</td>\n      <td>0.0</td>\n      <td>0.000000</td>\n    </tr>\n    <tr>\n      <th>Dr. Black, Mr. Hyde</th>\n      <td>0.000000</td>\n      <td>0.000000</td>\n      <td>0.000000</td>\n      <td>0.0</td>\n      <td>0.000000</td>\n    </tr>\n    <tr>\n      <th>Atomic Age</th>\n      <td>0.002968</td>\n      <td>0.004774</td>\n      <td>0.000000</td>\n      <td>0.0</td>\n      <td>0.000000</td>\n    </tr>\n    <tr>\n      <th>Cenizas del Paraiso</th>\n      <td>0.000000</td>\n      <td>0.000000</td>\n      <td>0.000000</td>\n      <td>0.0</td>\n      <td>0.000000</td>\n    </tr>\n  </tbody>\n</table>\n</div>"
     },
     "execution_count": 246,
     "metadata": {},
     "output_type": "execute_result"
    }
   ],
   "source": [
    "cosine_sim_df.sample(5, axis=1).sample(10, axis=0)"
   ],
   "metadata": {
    "collapsed": false
   }
  },
  {
   "cell_type": "markdown",
   "source": [],
   "metadata": {
    "collapsed": false
   }
  },
  {
   "cell_type": "code",
   "execution_count": 300,
   "outputs": [],
   "source": [
    "def build_recommendations(movie_title, similarity_df, output_df, k=10):\n",
    "    # взять k самых больших значений из матрицы похожести по movie_title\n",
    "    ix = similarity_df.loc[:,movie_title].to_numpy().argpartition(range(-1,-k,-1))\n",
    "    # взять k + 1 названия колонок по полученным на предыдущем шаге id колонок\n",
    "    closest = similarity_df.columns[ix[-1:-(k+2):-1]]\n",
    "    closest = closest.drop(movie_title, errors='ignore')\n",
    "    return pd.DataFrame(closest).merge(output_df).head(k)"
   ],
   "metadata": {
    "collapsed": false
   }
  },
  {
   "cell_type": "code",
   "execution_count": 252,
   "outputs": [
    {
     "data": {
      "text/plain": "                            title  \\\n0     Jonathan Rosenbaum, Present   \n1                  The Last Ferry   \n2                     Life Itself   \n3                     City Lights   \n4        Fracchia The Human Beast   \n5                   Mister Lonely   \n6  Role Play: Women on Fassbinder   \n7                          Angele   \n8                       Film Geek   \n9                        The Wall   \n\n                                            overview  \n0  a portrait of the influential american film cr...  \n1                                        directed by  \n2  life itself recounts the surprising and entert...  \n3  city lights is the first silent film that char...  \n4  the worlds greatest criminal and the world gre...  \n5  in paris a young american who works as a micha...  \n6  interviews with four women who were important ...  \n7  angèle is a 1934 french drama film directed pr...  \n8  the story of scotty pelk a socially inept vide...  \n9  a woman inexplicably finds herself cut off fro...  ",
      "text/html": "<div>\n<style scoped>\n    .dataframe tbody tr th:only-of-type {\n        vertical-align: middle;\n    }\n\n    .dataframe tbody tr th {\n        vertical-align: top;\n    }\n\n    .dataframe thead th {\n        text-align: right;\n    }\n</style>\n<table border=\"1\" class=\"dataframe\">\n  <thead>\n    <tr style=\"text-align: right;\">\n      <th></th>\n      <th>title</th>\n      <th>overview</th>\n    </tr>\n  </thead>\n  <tbody>\n    <tr>\n      <th>0</th>\n      <td>Jonathan Rosenbaum, Present</td>\n      <td>a portrait of the influential american film cr...</td>\n    </tr>\n    <tr>\n      <th>1</th>\n      <td>The Last Ferry</td>\n      <td>directed by</td>\n    </tr>\n    <tr>\n      <th>2</th>\n      <td>Life Itself</td>\n      <td>life itself recounts the surprising and entert...</td>\n    </tr>\n    <tr>\n      <th>3</th>\n      <td>City Lights</td>\n      <td>city lights is the first silent film that char...</td>\n    </tr>\n    <tr>\n      <th>4</th>\n      <td>Fracchia The Human Beast</td>\n      <td>the worlds greatest criminal and the world gre...</td>\n    </tr>\n    <tr>\n      <th>5</th>\n      <td>Mister Lonely</td>\n      <td>in paris a young american who works as a micha...</td>\n    </tr>\n    <tr>\n      <th>6</th>\n      <td>Role Play: Women on Fassbinder</td>\n      <td>interviews with four women who were important ...</td>\n    </tr>\n    <tr>\n      <th>7</th>\n      <td>Angele</td>\n      <td>angèle is a 1934 french drama film directed pr...</td>\n    </tr>\n    <tr>\n      <th>8</th>\n      <td>Film Geek</td>\n      <td>the story of scotty pelk a socially inept vide...</td>\n    </tr>\n    <tr>\n      <th>9</th>\n      <td>The Wall</td>\n      <td>a woman inexplicably finds herself cut off fro...</td>\n    </tr>\n  </tbody>\n</table>\n</div>"
     },
     "execution_count": 252,
     "metadata": {},
     "output_type": "execute_result"
    }
   ],
   "source": [
    "build_recommendations('Charlie: The Life and Art of Charles Chaplin', cosine_sim_df, tfidf_data[['title', 'overview']])"
   ],
   "metadata": {
    "collapsed": false
   }
  },
  {
   "cell_type": "code",
   "execution_count": 253,
   "outputs": [
    {
     "data": {
      "text/plain": "                        title  \\\n0                   Word Wars   \n1                     The Bar   \n2                Table No. 21   \n3                     Quintet   \n4           Liar Game: Reborn   \n5             Le Pont du Nord   \n6  Doctor Who: Last Christmas   \n7           Not Safe for Work   \n8          The Ouija Exorcism   \n9                  Rhinoceros   \n\n                                            overview  \n0  the classic board game scrabble has been popul...  \n1      a group of strangers are trapped inside a bar  \n2  a couple live a mediocre life and are thrilled...  \n3  during a future ice age dying humanity occupie...  \n4  to exact revenge the liar game office is reviv...  \n5  marie is just out from prison when she runs in...  \n6  the doctor and clara face their last christmas...  \n7  an office worker is trapped inside the buildin...  \n8  in 1985 a celebrated exorcist trapped a horrif...  \n9  originally an absurdist play by eugene ionesco...  ",
      "text/html": "<div>\n<style scoped>\n    .dataframe tbody tr th:only-of-type {\n        vertical-align: middle;\n    }\n\n    .dataframe tbody tr th {\n        vertical-align: top;\n    }\n\n    .dataframe thead th {\n        text-align: right;\n    }\n</style>\n<table border=\"1\" class=\"dataframe\">\n  <thead>\n    <tr style=\"text-align: right;\">\n      <th></th>\n      <th>title</th>\n      <th>overview</th>\n    </tr>\n  </thead>\n  <tbody>\n    <tr>\n      <th>0</th>\n      <td>Word Wars</td>\n      <td>the classic board game scrabble has been popul...</td>\n    </tr>\n    <tr>\n      <th>1</th>\n      <td>The Bar</td>\n      <td>a group of strangers are trapped inside a bar</td>\n    </tr>\n    <tr>\n      <th>2</th>\n      <td>Table No. 21</td>\n      <td>a couple live a mediocre life and are thrilled...</td>\n    </tr>\n    <tr>\n      <th>3</th>\n      <td>Quintet</td>\n      <td>during a future ice age dying humanity occupie...</td>\n    </tr>\n    <tr>\n      <th>4</th>\n      <td>Liar Game: Reborn</td>\n      <td>to exact revenge the liar game office is reviv...</td>\n    </tr>\n    <tr>\n      <th>5</th>\n      <td>Le Pont du Nord</td>\n      <td>marie is just out from prison when she runs in...</td>\n    </tr>\n    <tr>\n      <th>6</th>\n      <td>Doctor Who: Last Christmas</td>\n      <td>the doctor and clara face their last christmas...</td>\n    </tr>\n    <tr>\n      <th>7</th>\n      <td>Not Safe for Work</td>\n      <td>an office worker is trapped inside the buildin...</td>\n    </tr>\n    <tr>\n      <th>8</th>\n      <td>The Ouija Exorcism</td>\n      <td>in 1985 a celebrated exorcist trapped a horrif...</td>\n    </tr>\n    <tr>\n      <th>9</th>\n      <td>Rhinoceros</td>\n      <td>originally an absurdist play by eugene ionesco...</td>\n    </tr>\n  </tbody>\n</table>\n</div>"
     },
     "execution_count": 253,
     "metadata": {},
     "output_type": "execute_result"
    }
   ],
   "source": [
    "build_recommendations('Jumanji', cosine_sim_df, tfidf_data[['title', 'overview']])"
   ],
   "metadata": {
    "collapsed": false
   }
  },
  {
   "cell_type": "code",
   "execution_count": 327,
   "outputs": [],
   "source": [
    "# сравниваем оценку на фильм colaborative filtration и саму оценку пользователя для этого фильма\n",
    "def tfidf_recommendation_correctness(user_count):\n",
    "    # взять рандомного юзера у которого ревью больше 30\n",
    "    # выбираем фильмы у которого он поставил оценку больше =  4 =  N, // 5 фильмов\n",
    "    # если их меньше 2, он нам не подходит\n",
    "    # выбираем один из любимых и ищем похожие фильмы N - 1 // находим 4 фильма\n",
    "    # совпали с теми  // 4/4\n",
    "    random_users = []\n",
    "    while len(random_users) < user_count:\n",
    "        user = pick_random_user(data, 666).index[0]\n",
    "        random_users.append(user)\n",
    "        films = critics[user]\n",
    "        films_to_find = []\n",
    "        for film_id in films.keys():\n",
    "            if films[film_id] >= 4:\n",
    "                films_to_find.append(film_id)\n",
    "        if  len(films_to_find) < 2:\n",
    "            break\n",
    "        film_id = films_to_find[0]\n",
    "        film_name = metadata.loc[metadata['id'] == film_id]['title'].tolist()[0]\n",
    "        recommendations_found = build_recommendations(film_name, cosine_sim_df, tfidf_data[['title','id']],\n",
    "                                                       k=len(films_to_find) - 1)['id'].tolist()\n",
    "\n",
    "        print(sorted(recommendations_found))\n",
    "        print(sorted(films_to_find))\n",
    "        hits = 0\n",
    "        for recommendation_id in recommendations_found:\n",
    "            if recommendation_id in films_to_find:\n",
    "                hits += 1\n",
    "        print(f\"films guessed {hits}\")"
   ],
   "metadata": {
    "collapsed": false
   }
  },
  {
   "cell_type": "code",
   "execution_count": 328,
   "outputs": [
    {
     "name": "stdout",
     "output_type": "stream",
     "text": [
      "[912, 913, 982, 2669, 2907, 6399, 6646, 6646, 6646, 6646, 6646, 9016, 9337, 9340, 9360, 9838, 11153, 11310, 11483, 11831, 12450, 12651, 13194, 13529, 14462, 14538, 15067, 15163, 15401, 16640, 17897, 18977, 21214, 22376, 22376, 22376, 22376, 22376, 23115, 23739, 26612, 26612, 26612, 26612, 26612, 26940, 26963, 28881, 29021, 29470, 32148, 34453, 35032, 35148, 36275, 37565, 37848, 38319, 38460, 39123, 42247, 42346, 42617, 43037, 43388, 43605, 43605, 43605, 43605, 43605, 43860, 44383, 45745, 46460, 47065, 47867, 48393, 48646, 52661, 52721, 53543, 55107, 57654, 59581, 60221, 60293, 63438, 63795, 65591, 72197, 72811, 80607, 81829, 83191, 83191, 83191, 83191, 83191, 83361, 86640, 91122, 91893, 102406, 103413, 105157, 108267, 108994, 114521, 117375, 126922, 127884, 128979, 128979, 128979, 128979, 128979, 132961, 140750, 141461, 142150, 151693, 167494, 171755, 177440, 192577, 194516, 201676, 205584, 206034, 207720, 207720, 207720, 207720, 207720, 210769, 211231, 228165, 244563, 247436, 251232, 276828, 280674, 293796, 295045, 295958, 299551, 313074, 329206, 331745, 339526, 342052, 343977, 347630, 361380, 370687, 376047, 377264, 381289, 413337]\n",
      "[19, 58, 70, 110, 145, 150, 196, 231, 253, 260, 261, 288, 296, 316, 329, 344, 364, 380, 383, 457, 466, 468, 508, 539, 551, 590, 597, 648, 745, 783, 784, 813, 832, 839, 858, 920, 996, 1059, 1073, 1089, 1090, 1246, 1250, 1255, 1259, 1278, 1370, 1371, 1372, 1373, 1375, 1393, 1407, 1408, 1479, 1485, 1580, 1584, 1590, 1591, 1653, 1676, 1680, 1690, 1721, 1722, 1726, 1833, 1894, 1907, 1954, 1961, 1967, 1994, 1997, 1999, 2003, 2018, 2021, 2023, 2028, 2116, 2291, 2517, 2640, 2671, 2701, 2959, 2989, 2990, 3053, 3081, 3082, 3160, 3176, 3527, 3578, 3635, 3681, 4105, 4203, 4369, 4643, 4703, 4886, 4896, 4973, 4975, 4993, 4995, 6373, 6461, 6537, 6934, 6947, 7007, 7454, 8368, 8464, 8665, 8810, 8961, 8965, 8968, 8970, 8983, 30707, 30793, 31263, 31427, 31685, 31696, 32031, 32213, 32302, 33660, 37380, 37720, 39183, 39446, 40815, 42721, 42738, 43919, 44191, 45431, 45662, 45722, 46972, 47952, 48385, 51935, 53121, 54001, 56156, 56801, 58293, 59392, 62394, 72308]\n",
      "films guessed 0\n"
     ]
    }
   ],
   "source": [
    "tfidf_recommendation_correctness(1)"
   ],
   "metadata": {
    "collapsed": false
   }
  },
  {
   "cell_type": "code",
   "execution_count": null,
   "outputs": [],
   "source": [],
   "metadata": {
    "collapsed": false
   }
  }
 ]
}
